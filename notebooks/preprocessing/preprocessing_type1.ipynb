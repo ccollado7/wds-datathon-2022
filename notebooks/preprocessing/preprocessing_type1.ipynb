{
 "cells": [
  {
   "cell_type": "markdown",
   "id": "ebc6157e",
   "metadata": {},
   "source": [
    "# Kaggle - WiDS Datathon 2022\n",
    "\n",
    "## Preprocessing\n",
    "\n",
    "### Description:\n",
    "\n",
    "- \n",
    "\n",
    "\n",
    "### Dudas:\n",
    "\n",
    "- Year_Factor ¿es un feature numerico o categorico?"
   ]
  },
  {
   "cell_type": "markdown",
   "id": "051df3f1",
   "metadata": {},
   "source": [
    "# 1. Modules"
   ]
  },
  {
   "cell_type": "code",
   "execution_count": 1,
   "id": "2bc0b376",
   "metadata": {},
   "outputs": [],
   "source": [
    "import numpy as np\n",
    "import pandas as pd\n",
    "import matplotlib.pyplot as plt\n",
    "import seaborn as sns\n",
    "\n",
    "import warnings\n",
    "warnings.filterwarnings('ignore')\n",
    "\n",
    "#pipeline\n",
    "from sklearn.pipeline import Pipeline\n",
    "\n",
    "#imputer\n",
    "from sklearn.impute import SimpleImputer\n",
    "\n",
    "#encoder - categorical\n",
    "from sklearn.preprocessing import OneHotEncoder\n",
    "\n",
    "#scaler\n",
    "from sklearn.preprocessing import StandardScaler\n",
    "\n",
    "#column transformer\n",
    "from sklearn.compose import ColumnTransformer"
   ]
  },
  {
   "cell_type": "markdown",
   "id": "30bcb944",
   "metadata": {},
   "source": [
    "# 2. Original Data"
   ]
  },
  {
   "cell_type": "code",
   "execution_count": 2,
   "id": "4a4bf61e",
   "metadata": {},
   "outputs": [],
   "source": [
    "#paths to the Github repo\n",
    "\n",
    "train_path = 'https://raw.githubusercontent.com/ccollado7/wds-datathon-2022/main/data/raw/train.csv'\n",
    "test_path = 'https://raw.githubusercontent.com/ccollado7/wds-datathon-2022/main/data/raw/test.csv'"
   ]
  },
  {
   "cell_type": "markdown",
   "id": "93786fde",
   "metadata": {},
   "source": [
    "### Train"
   ]
  },
  {
   "cell_type": "code",
   "execution_count": 3,
   "id": "c2b79ec4",
   "metadata": {},
   "outputs": [
    {
     "data": {
      "text/html": [
       "<div>\n",
       "<style scoped>\n",
       "    .dataframe tbody tr th:only-of-type {\n",
       "        vertical-align: middle;\n",
       "    }\n",
       "\n",
       "    .dataframe tbody tr th {\n",
       "        vertical-align: top;\n",
       "    }\n",
       "\n",
       "    .dataframe thead th {\n",
       "        text-align: right;\n",
       "    }\n",
       "</style>\n",
       "<table border=\"1\" class=\"dataframe\">\n",
       "  <thead>\n",
       "    <tr style=\"text-align: right;\">\n",
       "      <th></th>\n",
       "      <th>Year_Factor</th>\n",
       "      <th>State_Factor</th>\n",
       "      <th>building_class</th>\n",
       "      <th>facility_type</th>\n",
       "      <th>floor_area</th>\n",
       "      <th>year_built</th>\n",
       "      <th>energy_star_rating</th>\n",
       "      <th>ELEVATION</th>\n",
       "      <th>january_min_temp</th>\n",
       "      <th>january_avg_temp</th>\n",
       "      <th>...</th>\n",
       "      <th>days_above_80F</th>\n",
       "      <th>days_above_90F</th>\n",
       "      <th>days_above_100F</th>\n",
       "      <th>days_above_110F</th>\n",
       "      <th>direction_max_wind_speed</th>\n",
       "      <th>direction_peak_wind_speed</th>\n",
       "      <th>max_wind_speed</th>\n",
       "      <th>days_with_fog</th>\n",
       "      <th>site_eui</th>\n",
       "      <th>id</th>\n",
       "    </tr>\n",
       "  </thead>\n",
       "  <tbody>\n",
       "    <tr>\n",
       "      <th>0</th>\n",
       "      <td>1</td>\n",
       "      <td>State_1</td>\n",
       "      <td>Commercial</td>\n",
       "      <td>Grocery_store_or_food_market</td>\n",
       "      <td>61242.0</td>\n",
       "      <td>1942.0</td>\n",
       "      <td>11.0</td>\n",
       "      <td>2.4</td>\n",
       "      <td>36</td>\n",
       "      <td>50.5</td>\n",
       "      <td>...</td>\n",
       "      <td>14</td>\n",
       "      <td>0</td>\n",
       "      <td>0</td>\n",
       "      <td>0</td>\n",
       "      <td>1.0</td>\n",
       "      <td>1.0</td>\n",
       "      <td>1.0</td>\n",
       "      <td>NaN</td>\n",
       "      <td>248.682615</td>\n",
       "      <td>0</td>\n",
       "    </tr>\n",
       "    <tr>\n",
       "      <th>1</th>\n",
       "      <td>1</td>\n",
       "      <td>State_1</td>\n",
       "      <td>Commercial</td>\n",
       "      <td>Warehouse_Distribution_or_Shipping_center</td>\n",
       "      <td>274000.0</td>\n",
       "      <td>1955.0</td>\n",
       "      <td>45.0</td>\n",
       "      <td>1.8</td>\n",
       "      <td>36</td>\n",
       "      <td>50.5</td>\n",
       "      <td>...</td>\n",
       "      <td>14</td>\n",
       "      <td>0</td>\n",
       "      <td>0</td>\n",
       "      <td>0</td>\n",
       "      <td>1.0</td>\n",
       "      <td>NaN</td>\n",
       "      <td>1.0</td>\n",
       "      <td>12.0</td>\n",
       "      <td>26.500150</td>\n",
       "      <td>1</td>\n",
       "    </tr>\n",
       "    <tr>\n",
       "      <th>2</th>\n",
       "      <td>1</td>\n",
       "      <td>State_1</td>\n",
       "      <td>Commercial</td>\n",
       "      <td>Retail_Enclosed_mall</td>\n",
       "      <td>280025.0</td>\n",
       "      <td>1951.0</td>\n",
       "      <td>97.0</td>\n",
       "      <td>1.8</td>\n",
       "      <td>36</td>\n",
       "      <td>50.5</td>\n",
       "      <td>...</td>\n",
       "      <td>14</td>\n",
       "      <td>0</td>\n",
       "      <td>0</td>\n",
       "      <td>0</td>\n",
       "      <td>1.0</td>\n",
       "      <td>NaN</td>\n",
       "      <td>1.0</td>\n",
       "      <td>12.0</td>\n",
       "      <td>24.693619</td>\n",
       "      <td>2</td>\n",
       "    </tr>\n",
       "    <tr>\n",
       "      <th>3</th>\n",
       "      <td>1</td>\n",
       "      <td>State_1</td>\n",
       "      <td>Commercial</td>\n",
       "      <td>Education_Other_classroom</td>\n",
       "      <td>55325.0</td>\n",
       "      <td>1980.0</td>\n",
       "      <td>46.0</td>\n",
       "      <td>1.8</td>\n",
       "      <td>36</td>\n",
       "      <td>50.5</td>\n",
       "      <td>...</td>\n",
       "      <td>14</td>\n",
       "      <td>0</td>\n",
       "      <td>0</td>\n",
       "      <td>0</td>\n",
       "      <td>1.0</td>\n",
       "      <td>NaN</td>\n",
       "      <td>1.0</td>\n",
       "      <td>12.0</td>\n",
       "      <td>48.406926</td>\n",
       "      <td>3</td>\n",
       "    </tr>\n",
       "    <tr>\n",
       "      <th>4</th>\n",
       "      <td>1</td>\n",
       "      <td>State_1</td>\n",
       "      <td>Commercial</td>\n",
       "      <td>Warehouse_Nonrefrigerated</td>\n",
       "      <td>66000.0</td>\n",
       "      <td>1985.0</td>\n",
       "      <td>100.0</td>\n",
       "      <td>2.4</td>\n",
       "      <td>36</td>\n",
       "      <td>50.5</td>\n",
       "      <td>...</td>\n",
       "      <td>14</td>\n",
       "      <td>0</td>\n",
       "      <td>0</td>\n",
       "      <td>0</td>\n",
       "      <td>1.0</td>\n",
       "      <td>1.0</td>\n",
       "      <td>1.0</td>\n",
       "      <td>NaN</td>\n",
       "      <td>3.899395</td>\n",
       "      <td>4</td>\n",
       "    </tr>\n",
       "  </tbody>\n",
       "</table>\n",
       "<p>5 rows × 64 columns</p>\n",
       "</div>"
      ],
      "text/plain": [
       "   Year_Factor State_Factor building_class  \\\n",
       "0            1      State_1     Commercial   \n",
       "1            1      State_1     Commercial   \n",
       "2            1      State_1     Commercial   \n",
       "3            1      State_1     Commercial   \n",
       "4            1      State_1     Commercial   \n",
       "\n",
       "                               facility_type  floor_area  year_built  \\\n",
       "0               Grocery_store_or_food_market     61242.0      1942.0   \n",
       "1  Warehouse_Distribution_or_Shipping_center    274000.0      1955.0   \n",
       "2                       Retail_Enclosed_mall    280025.0      1951.0   \n",
       "3                  Education_Other_classroom     55325.0      1980.0   \n",
       "4                  Warehouse_Nonrefrigerated     66000.0      1985.0   \n",
       "\n",
       "   energy_star_rating  ELEVATION  january_min_temp  january_avg_temp  ...  \\\n",
       "0                11.0        2.4                36              50.5  ...   \n",
       "1                45.0        1.8                36              50.5  ...   \n",
       "2                97.0        1.8                36              50.5  ...   \n",
       "3                46.0        1.8                36              50.5  ...   \n",
       "4               100.0        2.4                36              50.5  ...   \n",
       "\n",
       "   days_above_80F  days_above_90F  days_above_100F  days_above_110F  \\\n",
       "0              14               0                0                0   \n",
       "1              14               0                0                0   \n",
       "2              14               0                0                0   \n",
       "3              14               0                0                0   \n",
       "4              14               0                0                0   \n",
       "\n",
       "   direction_max_wind_speed  direction_peak_wind_speed  max_wind_speed  \\\n",
       "0                       1.0                        1.0             1.0   \n",
       "1                       1.0                        NaN             1.0   \n",
       "2                       1.0                        NaN             1.0   \n",
       "3                       1.0                        NaN             1.0   \n",
       "4                       1.0                        1.0             1.0   \n",
       "\n",
       "   days_with_fog    site_eui  id  \n",
       "0            NaN  248.682615   0  \n",
       "1           12.0   26.500150   1  \n",
       "2           12.0   24.693619   2  \n",
       "3           12.0   48.406926   3  \n",
       "4            NaN    3.899395   4  \n",
       "\n",
       "[5 rows x 64 columns]"
      ]
     },
     "execution_count": 3,
     "metadata": {},
     "output_type": "execute_result"
    }
   ],
   "source": [
    "#train dataset\n",
    "\n",
    "df_train = pd.read_csv(train_path)\n",
    "df_train.head()"
   ]
  },
  {
   "cell_type": "code",
   "execution_count": 4,
   "id": "3adb9dbe",
   "metadata": {
    "scrolled": true
   },
   "outputs": [
    {
     "data": {
      "text/plain": [
       "int64      37\n",
       "float64    24\n",
       "object      3\n",
       "dtype: int64"
      ]
     },
     "execution_count": 4,
     "metadata": {},
     "output_type": "execute_result"
    }
   ],
   "source": [
    "#columns data types\n",
    "\n",
    "df_train.dtypes.value_counts()"
   ]
  },
  {
   "cell_type": "markdown",
   "id": "61e0dd43",
   "metadata": {},
   "source": [
    "### Test"
   ]
  },
  {
   "cell_type": "code",
   "execution_count": 5,
   "id": "aad601b1",
   "metadata": {},
   "outputs": [
    {
     "data": {
      "text/html": [
       "<div>\n",
       "<style scoped>\n",
       "    .dataframe tbody tr th:only-of-type {\n",
       "        vertical-align: middle;\n",
       "    }\n",
       "\n",
       "    .dataframe tbody tr th {\n",
       "        vertical-align: top;\n",
       "    }\n",
       "\n",
       "    .dataframe thead th {\n",
       "        text-align: right;\n",
       "    }\n",
       "</style>\n",
       "<table border=\"1\" class=\"dataframe\">\n",
       "  <thead>\n",
       "    <tr style=\"text-align: right;\">\n",
       "      <th></th>\n",
       "      <th>Year_Factor</th>\n",
       "      <th>State_Factor</th>\n",
       "      <th>building_class</th>\n",
       "      <th>facility_type</th>\n",
       "      <th>floor_area</th>\n",
       "      <th>year_built</th>\n",
       "      <th>energy_star_rating</th>\n",
       "      <th>ELEVATION</th>\n",
       "      <th>january_min_temp</th>\n",
       "      <th>january_avg_temp</th>\n",
       "      <th>...</th>\n",
       "      <th>days_below_0F</th>\n",
       "      <th>days_above_80F</th>\n",
       "      <th>days_above_90F</th>\n",
       "      <th>days_above_100F</th>\n",
       "      <th>days_above_110F</th>\n",
       "      <th>direction_max_wind_speed</th>\n",
       "      <th>direction_peak_wind_speed</th>\n",
       "      <th>max_wind_speed</th>\n",
       "      <th>days_with_fog</th>\n",
       "      <th>id</th>\n",
       "    </tr>\n",
       "  </thead>\n",
       "  <tbody>\n",
       "    <tr>\n",
       "      <th>0</th>\n",
       "      <td>7</td>\n",
       "      <td>State_1</td>\n",
       "      <td>Commercial</td>\n",
       "      <td>Grocery_store_or_food_market</td>\n",
       "      <td>28484.0</td>\n",
       "      <td>1994.0</td>\n",
       "      <td>37.0</td>\n",
       "      <td>2.4</td>\n",
       "      <td>38</td>\n",
       "      <td>50.596774</td>\n",
       "      <td>...</td>\n",
       "      <td>0</td>\n",
       "      <td>29</td>\n",
       "      <td>5</td>\n",
       "      <td>2</td>\n",
       "      <td>0</td>\n",
       "      <td>NaN</td>\n",
       "      <td>NaN</td>\n",
       "      <td>NaN</td>\n",
       "      <td>NaN</td>\n",
       "      <td>75757</td>\n",
       "    </tr>\n",
       "    <tr>\n",
       "      <th>1</th>\n",
       "      <td>7</td>\n",
       "      <td>State_1</td>\n",
       "      <td>Commercial</td>\n",
       "      <td>Grocery_store_or_food_market</td>\n",
       "      <td>21906.0</td>\n",
       "      <td>1961.0</td>\n",
       "      <td>55.0</td>\n",
       "      <td>45.7</td>\n",
       "      <td>38</td>\n",
       "      <td>50.596774</td>\n",
       "      <td>...</td>\n",
       "      <td>0</td>\n",
       "      <td>29</td>\n",
       "      <td>5</td>\n",
       "      <td>2</td>\n",
       "      <td>0</td>\n",
       "      <td>NaN</td>\n",
       "      <td>NaN</td>\n",
       "      <td>NaN</td>\n",
       "      <td>NaN</td>\n",
       "      <td>75758</td>\n",
       "    </tr>\n",
       "    <tr>\n",
       "      <th>2</th>\n",
       "      <td>7</td>\n",
       "      <td>State_1</td>\n",
       "      <td>Commercial</td>\n",
       "      <td>Grocery_store_or_food_market</td>\n",
       "      <td>16138.0</td>\n",
       "      <td>1950.0</td>\n",
       "      <td>1.0</td>\n",
       "      <td>59.1</td>\n",
       "      <td>38</td>\n",
       "      <td>50.596774</td>\n",
       "      <td>...</td>\n",
       "      <td>0</td>\n",
       "      <td>29</td>\n",
       "      <td>5</td>\n",
       "      <td>2</td>\n",
       "      <td>0</td>\n",
       "      <td>NaN</td>\n",
       "      <td>NaN</td>\n",
       "      <td>NaN</td>\n",
       "      <td>NaN</td>\n",
       "      <td>75759</td>\n",
       "    </tr>\n",
       "    <tr>\n",
       "      <th>3</th>\n",
       "      <td>7</td>\n",
       "      <td>State_1</td>\n",
       "      <td>Commercial</td>\n",
       "      <td>Grocery_store_or_food_market</td>\n",
       "      <td>97422.0</td>\n",
       "      <td>1971.0</td>\n",
       "      <td>34.0</td>\n",
       "      <td>35.4</td>\n",
       "      <td>38</td>\n",
       "      <td>50.596774</td>\n",
       "      <td>...</td>\n",
       "      <td>0</td>\n",
       "      <td>29</td>\n",
       "      <td>5</td>\n",
       "      <td>2</td>\n",
       "      <td>0</td>\n",
       "      <td>NaN</td>\n",
       "      <td>NaN</td>\n",
       "      <td>NaN</td>\n",
       "      <td>NaN</td>\n",
       "      <td>75760</td>\n",
       "    </tr>\n",
       "    <tr>\n",
       "      <th>4</th>\n",
       "      <td>7</td>\n",
       "      <td>State_1</td>\n",
       "      <td>Commercial</td>\n",
       "      <td>Grocery_store_or_food_market</td>\n",
       "      <td>61242.0</td>\n",
       "      <td>1942.0</td>\n",
       "      <td>35.0</td>\n",
       "      <td>1.8</td>\n",
       "      <td>38</td>\n",
       "      <td>50.596774</td>\n",
       "      <td>...</td>\n",
       "      <td>0</td>\n",
       "      <td>29</td>\n",
       "      <td>5</td>\n",
       "      <td>2</td>\n",
       "      <td>0</td>\n",
       "      <td>340.0</td>\n",
       "      <td>330.0</td>\n",
       "      <td>22.8</td>\n",
       "      <td>126.0</td>\n",
       "      <td>75761</td>\n",
       "    </tr>\n",
       "  </tbody>\n",
       "</table>\n",
       "<p>5 rows × 63 columns</p>\n",
       "</div>"
      ],
      "text/plain": [
       "   Year_Factor State_Factor building_class                 facility_type  \\\n",
       "0            7      State_1     Commercial  Grocery_store_or_food_market   \n",
       "1            7      State_1     Commercial  Grocery_store_or_food_market   \n",
       "2            7      State_1     Commercial  Grocery_store_or_food_market   \n",
       "3            7      State_1     Commercial  Grocery_store_or_food_market   \n",
       "4            7      State_1     Commercial  Grocery_store_or_food_market   \n",
       "\n",
       "   floor_area  year_built  energy_star_rating  ELEVATION  january_min_temp  \\\n",
       "0     28484.0      1994.0                37.0        2.4                38   \n",
       "1     21906.0      1961.0                55.0       45.7                38   \n",
       "2     16138.0      1950.0                 1.0       59.1                38   \n",
       "3     97422.0      1971.0                34.0       35.4                38   \n",
       "4     61242.0      1942.0                35.0        1.8                38   \n",
       "\n",
       "   january_avg_temp  ...  days_below_0F  days_above_80F  days_above_90F  \\\n",
       "0         50.596774  ...              0              29               5   \n",
       "1         50.596774  ...              0              29               5   \n",
       "2         50.596774  ...              0              29               5   \n",
       "3         50.596774  ...              0              29               5   \n",
       "4         50.596774  ...              0              29               5   \n",
       "\n",
       "   days_above_100F  days_above_110F  direction_max_wind_speed  \\\n",
       "0                2                0                       NaN   \n",
       "1                2                0                       NaN   \n",
       "2                2                0                       NaN   \n",
       "3                2                0                       NaN   \n",
       "4                2                0                     340.0   \n",
       "\n",
       "   direction_peak_wind_speed  max_wind_speed  days_with_fog     id  \n",
       "0                        NaN             NaN            NaN  75757  \n",
       "1                        NaN             NaN            NaN  75758  \n",
       "2                        NaN             NaN            NaN  75759  \n",
       "3                        NaN             NaN            NaN  75760  \n",
       "4                      330.0            22.8          126.0  75761  \n",
       "\n",
       "[5 rows x 63 columns]"
      ]
     },
     "execution_count": 5,
     "metadata": {},
     "output_type": "execute_result"
    }
   ],
   "source": [
    "#test dataset\n",
    "\n",
    "df_test = pd.read_csv(test_path)\n",
    "df_test.head()"
   ]
  },
  {
   "cell_type": "markdown",
   "id": "819aa807",
   "metadata": {},
   "source": [
    "# 3. Features and Target vectors"
   ]
  },
  {
   "cell_type": "markdown",
   "id": "2603c804",
   "metadata": {},
   "source": [
    "## 3.1 Train"
   ]
  },
  {
   "cell_type": "code",
   "execution_count": 6,
   "id": "b778bbf6",
   "metadata": {},
   "outputs": [
    {
     "data": {
      "text/plain": [
       "Index(['Year_Factor', 'State_Factor', 'building_class', 'facility_type',\n",
       "       'floor_area', 'year_built', 'energy_star_rating', 'ELEVATION',\n",
       "       'january_min_temp', 'january_avg_temp', 'january_max_temp',\n",
       "       'february_min_temp', 'february_avg_temp', 'february_max_temp',\n",
       "       'march_min_temp', 'march_avg_temp', 'march_max_temp', 'april_min_temp',\n",
       "       'april_avg_temp', 'april_max_temp', 'may_min_temp', 'may_avg_temp',\n",
       "       'may_max_temp', 'june_min_temp', 'june_avg_temp', 'june_max_temp',\n",
       "       'july_min_temp', 'july_avg_temp', 'july_max_temp', 'august_min_temp',\n",
       "       'august_avg_temp', 'august_max_temp', 'september_min_temp',\n",
       "       'september_avg_temp', 'september_max_temp', 'october_min_temp',\n",
       "       'october_avg_temp', 'october_max_temp', 'november_min_temp',\n",
       "       'november_avg_temp', 'november_max_temp', 'december_min_temp',\n",
       "       'december_avg_temp', 'december_max_temp', 'cooling_degree_days',\n",
       "       'heating_degree_days', 'precipitation_inches', 'snowfall_inches',\n",
       "       'snowdepth_inches', 'avg_temp', 'days_below_30F', 'days_below_20F',\n",
       "       'days_below_10F', 'days_below_0F', 'days_above_80F', 'days_above_90F',\n",
       "       'days_above_100F', 'days_above_110F', 'direction_max_wind_speed',\n",
       "       'direction_peak_wind_speed', 'max_wind_speed', 'days_with_fog'],\n",
       "      dtype='object')"
      ]
     },
     "execution_count": 6,
     "metadata": {},
     "output_type": "execute_result"
    }
   ],
   "source": [
    "x_train = df_train.drop(['id','site_eui'], axis=1)\n",
    "x_train.columns"
   ]
  },
  {
   "cell_type": "code",
   "execution_count": 7,
   "id": "617db48b",
   "metadata": {},
   "outputs": [],
   "source": [
    "y_train = df_train['site_eui']"
   ]
  },
  {
   "cell_type": "markdown",
   "id": "05ef6843",
   "metadata": {},
   "source": [
    "## 3.2 Test"
   ]
  },
  {
   "cell_type": "code",
   "execution_count": 8,
   "id": "541762d3",
   "metadata": {},
   "outputs": [
    {
     "data": {
      "text/plain": [
       "Index(['Year_Factor', 'State_Factor', 'building_class', 'facility_type',\n",
       "       'floor_area', 'year_built', 'energy_star_rating', 'ELEVATION',\n",
       "       'january_min_temp', 'january_avg_temp', 'january_max_temp',\n",
       "       'february_min_temp', 'february_avg_temp', 'february_max_temp',\n",
       "       'march_min_temp', 'march_avg_temp', 'march_max_temp', 'april_min_temp',\n",
       "       'april_avg_temp', 'april_max_temp', 'may_min_temp', 'may_avg_temp',\n",
       "       'may_max_temp', 'june_min_temp', 'june_avg_temp', 'june_max_temp',\n",
       "       'july_min_temp', 'july_avg_temp', 'july_max_temp', 'august_min_temp',\n",
       "       'august_avg_temp', 'august_max_temp', 'september_min_temp',\n",
       "       'september_avg_temp', 'september_max_temp', 'october_min_temp',\n",
       "       'october_avg_temp', 'october_max_temp', 'november_min_temp',\n",
       "       'november_avg_temp', 'november_max_temp', 'december_min_temp',\n",
       "       'december_avg_temp', 'december_max_temp', 'cooling_degree_days',\n",
       "       'heating_degree_days', 'precipitation_inches', 'snowfall_inches',\n",
       "       'snowdepth_inches', 'avg_temp', 'days_below_30F', 'days_below_20F',\n",
       "       'days_below_10F', 'days_below_0F', 'days_above_80F', 'days_above_90F',\n",
       "       'days_above_100F', 'days_above_110F', 'direction_max_wind_speed',\n",
       "       'direction_peak_wind_speed', 'max_wind_speed', 'days_with_fog'],\n",
       "      dtype='object')"
      ]
     },
     "execution_count": 8,
     "metadata": {},
     "output_type": "execute_result"
    }
   ],
   "source": [
    "x_test = df_test.drop(['id'], axis=1)\n",
    "x_test.columns"
   ]
  },
  {
   "cell_type": "markdown",
   "id": "1d9edc58",
   "metadata": {},
   "source": [
    "# 4. Preprocessing"
   ]
  },
  {
   "cell_type": "markdown",
   "id": "ed399b8f",
   "metadata": {},
   "source": [
    "## Type of column data"
   ]
  },
  {
   "cell_type": "code",
   "execution_count": 9,
   "id": "125862ab",
   "metadata": {},
   "outputs": [
    {
     "data": {
      "text/plain": [
       "['State_Factor', 'building_class', 'facility_type']"
      ]
     },
     "execution_count": 9,
     "metadata": {},
     "output_type": "execute_result"
    }
   ],
   "source": [
    "cat_features = list(x_train.select_dtypes(include=['object']).columns)\n",
    "cat_features"
   ]
  },
  {
   "cell_type": "code",
   "execution_count": 10,
   "id": "17c49f28",
   "metadata": {},
   "outputs": [
    {
     "data": {
      "text/plain": [
       "['Year_Factor',\n",
       " 'floor_area',\n",
       " 'year_built',\n",
       " 'energy_star_rating',\n",
       " 'ELEVATION',\n",
       " 'january_min_temp',\n",
       " 'january_avg_temp',\n",
       " 'january_max_temp',\n",
       " 'february_min_temp',\n",
       " 'february_avg_temp',\n",
       " 'february_max_temp',\n",
       " 'march_min_temp',\n",
       " 'march_avg_temp',\n",
       " 'march_max_temp',\n",
       " 'april_min_temp',\n",
       " 'april_avg_temp',\n",
       " 'april_max_temp',\n",
       " 'may_min_temp',\n",
       " 'may_avg_temp',\n",
       " 'may_max_temp',\n",
       " 'june_min_temp',\n",
       " 'june_avg_temp',\n",
       " 'june_max_temp',\n",
       " 'july_min_temp',\n",
       " 'july_avg_temp',\n",
       " 'july_max_temp',\n",
       " 'august_min_temp',\n",
       " 'august_avg_temp',\n",
       " 'august_max_temp',\n",
       " 'september_min_temp',\n",
       " 'september_avg_temp',\n",
       " 'september_max_temp',\n",
       " 'october_min_temp',\n",
       " 'october_avg_temp',\n",
       " 'october_max_temp',\n",
       " 'november_min_temp',\n",
       " 'november_avg_temp',\n",
       " 'november_max_temp',\n",
       " 'december_min_temp',\n",
       " 'december_avg_temp',\n",
       " 'december_max_temp',\n",
       " 'cooling_degree_days',\n",
       " 'heating_degree_days',\n",
       " 'precipitation_inches',\n",
       " 'snowfall_inches',\n",
       " 'snowdepth_inches',\n",
       " 'avg_temp',\n",
       " 'days_below_30F',\n",
       " 'days_below_20F',\n",
       " 'days_below_10F',\n",
       " 'days_below_0F',\n",
       " 'days_above_80F',\n",
       " 'days_above_90F',\n",
       " 'days_above_100F',\n",
       " 'days_above_110F',\n",
       " 'direction_max_wind_speed',\n",
       " 'direction_peak_wind_speed',\n",
       " 'max_wind_speed',\n",
       " 'days_with_fog']"
      ]
     },
     "execution_count": 10,
     "metadata": {},
     "output_type": "execute_result"
    }
   ],
   "source": [
    "num_features=list(x_train.select_dtypes('number').columns)\n",
    "num_features"
   ]
  },
  {
   "cell_type": "markdown",
   "id": "25aa2ef6",
   "metadata": {},
   "source": [
    "## NaN Values"
   ]
  },
  {
   "cell_type": "code",
   "execution_count": 11,
   "id": "b9a37acc",
   "metadata": {},
   "outputs": [
    {
     "data": {
      "text/plain": [
       "year_built                    1837\n",
       "energy_star_rating           26709\n",
       "direction_max_wind_speed     41082\n",
       "direction_peak_wind_speed    41811\n",
       "max_wind_speed               41082\n",
       "days_with_fog                45796\n",
       "dtype: int64"
      ]
     },
     "execution_count": 11,
     "metadata": {},
     "output_type": "execute_result"
    }
   ],
   "source": [
    "#NaN value counts\n",
    "\n",
    "null_count = df_train.isnull().sum()\n",
    "null_count[null_count > 0]"
   ]
  },
  {
   "cell_type": "markdown",
   "id": "c2a2df70",
   "metadata": {},
   "source": [
    "## Pipelines"
   ]
  },
  {
   "cell_type": "code",
   "execution_count": 12,
   "id": "4dc4fec8",
   "metadata": {},
   "outputs": [],
   "source": [
    "#numerical pipeline\n",
    "\n",
    "num_pipeline = Pipeline([\n",
    "    ('imputer', SimpleImputer(strategy='mean')),\n",
    "    ('std_scaler', StandardScaler())\n",
    "])"
   ]
  },
  {
   "cell_type": "code",
   "execution_count": 13,
   "id": "2bda19bf",
   "metadata": {},
   "outputs": [],
   "source": [
    "#complete pipeline\n",
    "\n",
    "data_pipeline = ColumnTransformer([\n",
    "    ('numerical', num_pipeline, num_features),\n",
    "    ('categorical', OneHotEncoder(), cat_features),\n",
    "    \n",
    "])"
   ]
  },
  {
   "cell_type": "code",
   "execution_count": 14,
   "id": "f37cd1e6",
   "metadata": {},
   "outputs": [
    {
     "data": {
      "text/plain": [
       "array([[-2.2887604 , -0.42427229, -0.28159507, ...,  0.        ,\n",
       "         0.        ,  0.        ],\n",
       "       [-2.2887604 ,  0.43753519,  0.07358294, ...,  0.        ,\n",
       "         0.        ,  0.        ],\n",
       "       [-2.2887604 ,  0.46194034, -0.0357026 , ...,  0.        ,\n",
       "         0.        ,  0.        ],\n",
       "       ...,\n",
       "       [ 1.10929044, -0.55863224, -0.96462969, ...,  0.        ,\n",
       "         0.        ,  0.        ],\n",
       "       [ 1.10929044, -0.4553286 ,  1.63090188, ...,  0.        ,\n",
       "         0.        ,  0.        ],\n",
       "       [ 1.10929044, -0.57558015,  0.59268925, ...,  0.        ,\n",
       "         0.        ,  0.        ]])"
      ]
     },
     "execution_count": 14,
     "metadata": {},
     "output_type": "execute_result"
    }
   ],
   "source": [
    "x_train_transform = data_pipeline.fit_transform(x_train)\n",
    "x_train_transform"
   ]
  },
  {
   "cell_type": "code",
   "execution_count": 15,
   "id": "fa4dca0d",
   "metadata": {},
   "outputs": [
    {
     "data": {
      "text/plain": [
       "array([[ 1.7889006 , -0.55696337,  1.13911695, ...,  0.        ,\n",
       "         0.        ,  0.        ],\n",
       "       [ 1.7889006 , -0.58360853,  0.23751125, ...,  0.        ,\n",
       "         0.        ,  0.        ],\n",
       "       [ 1.7889006 , -0.60697266, -0.06302399, ...,  0.        ,\n",
       "         0.        ,  0.        ],\n",
       "       ...,\n",
       "       [ 1.7889006 , -0.50062293,  1.68554465, ...,  0.        ,\n",
       "         0.        ,  0.        ],\n",
       "       [ 1.7889006 , -0.56958519,  1.08447418, ...,  0.        ,\n",
       "         0.        ,  0.        ],\n",
       "       [ 1.7889006 , -0.48747048,  1.13911695, ...,  0.        ,\n",
       "         0.        ,  0.        ]])"
      ]
     },
     "execution_count": 15,
     "metadata": {},
     "output_type": "execute_result"
    }
   ],
   "source": [
    "x_test_transform = data_pipeline.transform(x_test)\n",
    "x_test_transform"
   ]
  }
 ],
 "metadata": {
  "kernelspec": {
   "display_name": "Python 3",
   "language": "python",
   "name": "python3"
  },
  "language_info": {
   "codemirror_mode": {
    "name": "ipython",
    "version": 3
   },
   "file_extension": ".py",
   "mimetype": "text/x-python",
   "name": "python",
   "nbconvert_exporter": "python",
   "pygments_lexer": "ipython3",
   "version": "3.8.8"
  }
 },
 "nbformat": 4,
 "nbformat_minor": 5
}
