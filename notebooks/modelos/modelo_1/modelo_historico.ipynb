{
 "cells": [
  {
   "cell_type": "markdown",
   "id": "ebc6157e",
   "metadata": {},
   "source": [
    "# Kaggle - WiDS Datathon 2022\n",
    "\n",
    "## Modelo Histórico - Lags + medias históricas"
   ]
  },
  {
   "cell_type": "markdown",
   "id": "051df3f1",
   "metadata": {},
   "source": [
    "# 1. Modules"
   ]
  },
  {
   "cell_type": "code",
   "execution_count": 1767,
   "id": "2bc0b376",
   "metadata": {
    "tags": []
   },
   "outputs": [],
   "source": [
    "import numpy as np\n",
    "import pandas as pd\n",
    "import matplotlib.pyplot as plt\n",
    "import seaborn as sns\n",
    "\n",
    "import warnings\n",
    "warnings.filterwarnings('ignore')\n",
    "\n",
    "#model\n",
    "from catboost import CatBoostRegressor\n",
    "\n",
    "import xgboost\n",
    "from xgboost import XGBRegressor\n",
    "from sklearn.metrics import mean_squared_error\n",
    "from sklearn.preprocessing import LabelEncoder\n",
    "from sklearn.model_selection import train_test_split\n",
    "from sklearn.metrics import mean_squared_error as MSE"
   ]
  },
  {
   "cell_type": "markdown",
   "id": "30bcb944",
   "metadata": {},
   "source": [
    "# 2. Data"
   ]
  },
  {
   "cell_type": "code",
   "execution_count": 1770,
   "id": "4a4bf61e",
   "metadata": {},
   "outputs": [],
   "source": [
    "train_path = 'https://raw.githubusercontent.com/ccollado7/wds-datathon-2022/main/data/raw/train.csv'\n",
    "test_path = 'https://raw.githubusercontent.com/ccollado7/wds-datathon-2022/main/data/raw/test.csv'\n",
    "submit_path = 'https://raw.githubusercontent.com/ccollado7/wds-datathon-2022/main/data/raw/sample_solution.csv'"
   ]
  },
  {
   "cell_type": "markdown",
   "id": "4c3b6b71-5879-4138-af53-50483d37ecc0",
   "metadata": {},
   "source": [
    "### Datos típicos:\n",
    "+ Se usan solo para referencia\n",
    "https://www.energystar.gov/sites/default/files/tools/Climate_and_Weather_2020_508.pdf\n",
    "\n",
    "+ Referencias de Site_EUI y Source_EUI  (eui_normal.pdf)\n",
    "https://www.energystar.gov/buildings/benchmark/understand_metrics/score_details"
   ]
  },
  {
   "cell_type": "code",
   "execution_count": null,
   "id": "a8c3b1c4-c2e5-4d6b-8750-7fa2614fb6c0",
   "metadata": {},
   "outputs": [],
   "source": [
    "ref_path= 'https://raw.githubusercontent.com/ccollado7/wds-datathon-2022/main/data/raw/eui_normal.csv'"
   ]
  },
  {
   "cell_type": "code",
   "execution_count": 1769,
   "id": "c2b79ec4",
   "metadata": {},
   "outputs": [
    {
     "data": {
      "text/html": [
       "<div>\n",
       "<style scoped>\n",
       "    .dataframe tbody tr th:only-of-type {\n",
       "        vertical-align: middle;\n",
       "    }\n",
       "\n",
       "    .dataframe tbody tr th {\n",
       "        vertical-align: top;\n",
       "    }\n",
       "\n",
       "    .dataframe thead th {\n",
       "        text-align: right;\n",
       "    }\n",
       "</style>\n",
       "<table border=\"1\" class=\"dataframe\">\n",
       "  <thead>\n",
       "    <tr style=\"text-align: right;\">\n",
       "      <th></th>\n",
       "      <th>Year_Factor</th>\n",
       "      <th>State_Factor</th>\n",
       "      <th>building_class</th>\n",
       "      <th>facility_type</th>\n",
       "      <th>floor_area</th>\n",
       "      <th>year_built</th>\n",
       "      <th>energy_star_rating</th>\n",
       "      <th>ELEVATION</th>\n",
       "      <th>january_min_temp</th>\n",
       "      <th>january_avg_temp</th>\n",
       "      <th>...</th>\n",
       "      <th>days_above_80F</th>\n",
       "      <th>days_above_90F</th>\n",
       "      <th>days_above_100F</th>\n",
       "      <th>days_above_110F</th>\n",
       "      <th>direction_max_wind_speed</th>\n",
       "      <th>direction_peak_wind_speed</th>\n",
       "      <th>max_wind_speed</th>\n",
       "      <th>days_with_fog</th>\n",
       "      <th>site_eui</th>\n",
       "      <th>id</th>\n",
       "    </tr>\n",
       "  </thead>\n",
       "  <tbody>\n",
       "    <tr>\n",
       "      <th>0</th>\n",
       "      <td>1</td>\n",
       "      <td>State_1</td>\n",
       "      <td>Commercial</td>\n",
       "      <td>Grocery_store_or_food_market</td>\n",
       "      <td>61242.0</td>\n",
       "      <td>1942.0</td>\n",
       "      <td>11.0</td>\n",
       "      <td>2.4</td>\n",
       "      <td>36</td>\n",
       "      <td>50.5</td>\n",
       "      <td>...</td>\n",
       "      <td>14</td>\n",
       "      <td>0</td>\n",
       "      <td>0</td>\n",
       "      <td>0</td>\n",
       "      <td>1.0</td>\n",
       "      <td>1.0</td>\n",
       "      <td>1.0</td>\n",
       "      <td>NaN</td>\n",
       "      <td>248.682615</td>\n",
       "      <td>0</td>\n",
       "    </tr>\n",
       "    <tr>\n",
       "      <th>1</th>\n",
       "      <td>1</td>\n",
       "      <td>State_1</td>\n",
       "      <td>Commercial</td>\n",
       "      <td>Warehouse_Distribution_or_Shipping_center</td>\n",
       "      <td>274000.0</td>\n",
       "      <td>1955.0</td>\n",
       "      <td>45.0</td>\n",
       "      <td>1.8</td>\n",
       "      <td>36</td>\n",
       "      <td>50.5</td>\n",
       "      <td>...</td>\n",
       "      <td>14</td>\n",
       "      <td>0</td>\n",
       "      <td>0</td>\n",
       "      <td>0</td>\n",
       "      <td>1.0</td>\n",
       "      <td>NaN</td>\n",
       "      <td>1.0</td>\n",
       "      <td>12.0</td>\n",
       "      <td>26.500150</td>\n",
       "      <td>1</td>\n",
       "    </tr>\n",
       "    <tr>\n",
       "      <th>2</th>\n",
       "      <td>1</td>\n",
       "      <td>State_1</td>\n",
       "      <td>Commercial</td>\n",
       "      <td>Retail_Enclosed_mall</td>\n",
       "      <td>280025.0</td>\n",
       "      <td>1951.0</td>\n",
       "      <td>97.0</td>\n",
       "      <td>1.8</td>\n",
       "      <td>36</td>\n",
       "      <td>50.5</td>\n",
       "      <td>...</td>\n",
       "      <td>14</td>\n",
       "      <td>0</td>\n",
       "      <td>0</td>\n",
       "      <td>0</td>\n",
       "      <td>1.0</td>\n",
       "      <td>NaN</td>\n",
       "      <td>1.0</td>\n",
       "      <td>12.0</td>\n",
       "      <td>24.693619</td>\n",
       "      <td>2</td>\n",
       "    </tr>\n",
       "    <tr>\n",
       "      <th>3</th>\n",
       "      <td>1</td>\n",
       "      <td>State_1</td>\n",
       "      <td>Commercial</td>\n",
       "      <td>Education_Other_classroom</td>\n",
       "      <td>55325.0</td>\n",
       "      <td>1980.0</td>\n",
       "      <td>46.0</td>\n",
       "      <td>1.8</td>\n",
       "      <td>36</td>\n",
       "      <td>50.5</td>\n",
       "      <td>...</td>\n",
       "      <td>14</td>\n",
       "      <td>0</td>\n",
       "      <td>0</td>\n",
       "      <td>0</td>\n",
       "      <td>1.0</td>\n",
       "      <td>NaN</td>\n",
       "      <td>1.0</td>\n",
       "      <td>12.0</td>\n",
       "      <td>48.406926</td>\n",
       "      <td>3</td>\n",
       "    </tr>\n",
       "    <tr>\n",
       "      <th>4</th>\n",
       "      <td>1</td>\n",
       "      <td>State_1</td>\n",
       "      <td>Commercial</td>\n",
       "      <td>Warehouse_Nonrefrigerated</td>\n",
       "      <td>66000.0</td>\n",
       "      <td>1985.0</td>\n",
       "      <td>100.0</td>\n",
       "      <td>2.4</td>\n",
       "      <td>36</td>\n",
       "      <td>50.5</td>\n",
       "      <td>...</td>\n",
       "      <td>14</td>\n",
       "      <td>0</td>\n",
       "      <td>0</td>\n",
       "      <td>0</td>\n",
       "      <td>1.0</td>\n",
       "      <td>1.0</td>\n",
       "      <td>1.0</td>\n",
       "      <td>NaN</td>\n",
       "      <td>3.899395</td>\n",
       "      <td>4</td>\n",
       "    </tr>\n",
       "  </tbody>\n",
       "</table>\n",
       "<p>5 rows × 64 columns</p>\n",
       "</div>"
      ],
      "text/plain": [
       "   Year_Factor State_Factor building_class  \\\n",
       "0            1      State_1     Commercial   \n",
       "1            1      State_1     Commercial   \n",
       "2            1      State_1     Commercial   \n",
       "3            1      State_1     Commercial   \n",
       "4            1      State_1     Commercial   \n",
       "\n",
       "                               facility_type  floor_area  year_built  \\\n",
       "0               Grocery_store_or_food_market     61242.0      1942.0   \n",
       "1  Warehouse_Distribution_or_Shipping_center    274000.0      1955.0   \n",
       "2                       Retail_Enclosed_mall    280025.0      1951.0   \n",
       "3                  Education_Other_classroom     55325.0      1980.0   \n",
       "4                  Warehouse_Nonrefrigerated     66000.0      1985.0   \n",
       "\n",
       "   energy_star_rating  ELEVATION  january_min_temp  january_avg_temp  ...  \\\n",
       "0                11.0        2.4                36              50.5  ...   \n",
       "1                45.0        1.8                36              50.5  ...   \n",
       "2                97.0        1.8                36              50.5  ...   \n",
       "3                46.0        1.8                36              50.5  ...   \n",
       "4               100.0        2.4                36              50.5  ...   \n",
       "\n",
       "   days_above_80F  days_above_90F  days_above_100F  days_above_110F  \\\n",
       "0              14               0                0                0   \n",
       "1              14               0                0                0   \n",
       "2              14               0                0                0   \n",
       "3              14               0                0                0   \n",
       "4              14               0                0                0   \n",
       "\n",
       "   direction_max_wind_speed  direction_peak_wind_speed  max_wind_speed  \\\n",
       "0                       1.0                        1.0             1.0   \n",
       "1                       1.0                        NaN             1.0   \n",
       "2                       1.0                        NaN             1.0   \n",
       "3                       1.0                        NaN             1.0   \n",
       "4                       1.0                        1.0             1.0   \n",
       "\n",
       "   days_with_fog    site_eui  id  \n",
       "0            NaN  248.682615   0  \n",
       "1           12.0   26.500150   1  \n",
       "2           12.0   24.693619   2  \n",
       "3           12.0   48.406926   3  \n",
       "4            NaN    3.899395   4  \n",
       "\n",
       "[5 rows x 64 columns]"
      ]
     },
     "execution_count": 1769,
     "metadata": {},
     "output_type": "execute_result"
    }
   ],
   "source": [
    "#train dataset\n",
    "train = pd.read_csv(train_path)\n",
    "train.head()"
   ]
  },
  {
   "cell_type": "code",
   "execution_count": 1628,
   "id": "aad601b1",
   "metadata": {},
   "outputs": [
    {
     "data": {
      "text/html": [
       "<div>\n",
       "<style scoped>\n",
       "    .dataframe tbody tr th:only-of-type {\n",
       "        vertical-align: middle;\n",
       "    }\n",
       "\n",
       "    .dataframe tbody tr th {\n",
       "        vertical-align: top;\n",
       "    }\n",
       "\n",
       "    .dataframe thead th {\n",
       "        text-align: right;\n",
       "    }\n",
       "</style>\n",
       "<table border=\"1\" class=\"dataframe\">\n",
       "  <thead>\n",
       "    <tr style=\"text-align: right;\">\n",
       "      <th></th>\n",
       "      <th>Year_Factor</th>\n",
       "      <th>State_Factor</th>\n",
       "      <th>building_class</th>\n",
       "      <th>facility_type</th>\n",
       "      <th>floor_area</th>\n",
       "      <th>year_built</th>\n",
       "      <th>energy_star_rating</th>\n",
       "      <th>ELEVATION</th>\n",
       "      <th>january_min_temp</th>\n",
       "      <th>january_avg_temp</th>\n",
       "      <th>...</th>\n",
       "      <th>days_below_0F</th>\n",
       "      <th>days_above_80F</th>\n",
       "      <th>days_above_90F</th>\n",
       "      <th>days_above_100F</th>\n",
       "      <th>days_above_110F</th>\n",
       "      <th>direction_max_wind_speed</th>\n",
       "      <th>direction_peak_wind_speed</th>\n",
       "      <th>max_wind_speed</th>\n",
       "      <th>days_with_fog</th>\n",
       "      <th>id</th>\n",
       "    </tr>\n",
       "  </thead>\n",
       "  <tbody>\n",
       "    <tr>\n",
       "      <th>0</th>\n",
       "      <td>7</td>\n",
       "      <td>State_1</td>\n",
       "      <td>Commercial</td>\n",
       "      <td>Grocery_store_or_food_market</td>\n",
       "      <td>28484.0</td>\n",
       "      <td>1994.0</td>\n",
       "      <td>37.0</td>\n",
       "      <td>2.4</td>\n",
       "      <td>38</td>\n",
       "      <td>50.596774</td>\n",
       "      <td>...</td>\n",
       "      <td>0</td>\n",
       "      <td>29</td>\n",
       "      <td>5</td>\n",
       "      <td>2</td>\n",
       "      <td>0</td>\n",
       "      <td>NaN</td>\n",
       "      <td>NaN</td>\n",
       "      <td>NaN</td>\n",
       "      <td>NaN</td>\n",
       "      <td>75757</td>\n",
       "    </tr>\n",
       "    <tr>\n",
       "      <th>1</th>\n",
       "      <td>7</td>\n",
       "      <td>State_1</td>\n",
       "      <td>Commercial</td>\n",
       "      <td>Grocery_store_or_food_market</td>\n",
       "      <td>21906.0</td>\n",
       "      <td>1961.0</td>\n",
       "      <td>55.0</td>\n",
       "      <td>45.7</td>\n",
       "      <td>38</td>\n",
       "      <td>50.596774</td>\n",
       "      <td>...</td>\n",
       "      <td>0</td>\n",
       "      <td>29</td>\n",
       "      <td>5</td>\n",
       "      <td>2</td>\n",
       "      <td>0</td>\n",
       "      <td>NaN</td>\n",
       "      <td>NaN</td>\n",
       "      <td>NaN</td>\n",
       "      <td>NaN</td>\n",
       "      <td>75758</td>\n",
       "    </tr>\n",
       "    <tr>\n",
       "      <th>2</th>\n",
       "      <td>7</td>\n",
       "      <td>State_1</td>\n",
       "      <td>Commercial</td>\n",
       "      <td>Grocery_store_or_food_market</td>\n",
       "      <td>16138.0</td>\n",
       "      <td>1950.0</td>\n",
       "      <td>1.0</td>\n",
       "      <td>59.1</td>\n",
       "      <td>38</td>\n",
       "      <td>50.596774</td>\n",
       "      <td>...</td>\n",
       "      <td>0</td>\n",
       "      <td>29</td>\n",
       "      <td>5</td>\n",
       "      <td>2</td>\n",
       "      <td>0</td>\n",
       "      <td>NaN</td>\n",
       "      <td>NaN</td>\n",
       "      <td>NaN</td>\n",
       "      <td>NaN</td>\n",
       "      <td>75759</td>\n",
       "    </tr>\n",
       "    <tr>\n",
       "      <th>3</th>\n",
       "      <td>7</td>\n",
       "      <td>State_1</td>\n",
       "      <td>Commercial</td>\n",
       "      <td>Grocery_store_or_food_market</td>\n",
       "      <td>97422.0</td>\n",
       "      <td>1971.0</td>\n",
       "      <td>34.0</td>\n",
       "      <td>35.4</td>\n",
       "      <td>38</td>\n",
       "      <td>50.596774</td>\n",
       "      <td>...</td>\n",
       "      <td>0</td>\n",
       "      <td>29</td>\n",
       "      <td>5</td>\n",
       "      <td>2</td>\n",
       "      <td>0</td>\n",
       "      <td>NaN</td>\n",
       "      <td>NaN</td>\n",
       "      <td>NaN</td>\n",
       "      <td>NaN</td>\n",
       "      <td>75760</td>\n",
       "    </tr>\n",
       "    <tr>\n",
       "      <th>4</th>\n",
       "      <td>7</td>\n",
       "      <td>State_1</td>\n",
       "      <td>Commercial</td>\n",
       "      <td>Grocery_store_or_food_market</td>\n",
       "      <td>61242.0</td>\n",
       "      <td>1942.0</td>\n",
       "      <td>35.0</td>\n",
       "      <td>1.8</td>\n",
       "      <td>38</td>\n",
       "      <td>50.596774</td>\n",
       "      <td>...</td>\n",
       "      <td>0</td>\n",
       "      <td>29</td>\n",
       "      <td>5</td>\n",
       "      <td>2</td>\n",
       "      <td>0</td>\n",
       "      <td>340.0</td>\n",
       "      <td>330.0</td>\n",
       "      <td>22.8</td>\n",
       "      <td>126.0</td>\n",
       "      <td>75761</td>\n",
       "    </tr>\n",
       "  </tbody>\n",
       "</table>\n",
       "<p>5 rows × 63 columns</p>\n",
       "</div>"
      ],
      "text/plain": [
       "   Year_Factor State_Factor building_class                 facility_type  \\\n",
       "0            7      State_1     Commercial  Grocery_store_or_food_market   \n",
       "1            7      State_1     Commercial  Grocery_store_or_food_market   \n",
       "2            7      State_1     Commercial  Grocery_store_or_food_market   \n",
       "3            7      State_1     Commercial  Grocery_store_or_food_market   \n",
       "4            7      State_1     Commercial  Grocery_store_or_food_market   \n",
       "\n",
       "   floor_area  year_built  energy_star_rating  ELEVATION  january_min_temp  \\\n",
       "0     28484.0      1994.0                37.0        2.4                38   \n",
       "1     21906.0      1961.0                55.0       45.7                38   \n",
       "2     16138.0      1950.0                 1.0       59.1                38   \n",
       "3     97422.0      1971.0                34.0       35.4                38   \n",
       "4     61242.0      1942.0                35.0        1.8                38   \n",
       "\n",
       "   january_avg_temp  ...  days_below_0F  days_above_80F  days_above_90F  \\\n",
       "0         50.596774  ...              0              29               5   \n",
       "1         50.596774  ...              0              29               5   \n",
       "2         50.596774  ...              0              29               5   \n",
       "3         50.596774  ...              0              29               5   \n",
       "4         50.596774  ...              0              29               5   \n",
       "\n",
       "   days_above_100F  days_above_110F  direction_max_wind_speed  \\\n",
       "0                2                0                       NaN   \n",
       "1                2                0                       NaN   \n",
       "2                2                0                       NaN   \n",
       "3                2                0                       NaN   \n",
       "4                2                0                     340.0   \n",
       "\n",
       "   direction_peak_wind_speed  max_wind_speed  days_with_fog     id  \n",
       "0                        NaN             NaN            NaN  75757  \n",
       "1                        NaN             NaN            NaN  75758  \n",
       "2                        NaN             NaN            NaN  75759  \n",
       "3                        NaN             NaN            NaN  75760  \n",
       "4                      330.0            22.8          126.0  75761  \n",
       "\n",
       "[5 rows x 63 columns]"
      ]
     },
     "execution_count": 1628,
     "metadata": {},
     "output_type": "execute_result"
    }
   ],
   "source": [
    "#test dataset\n",
    "test = pd.read_csv(test_path)\n",
    "test.head()"
   ]
  },
  {
   "cell_type": "code",
   "execution_count": 1643,
   "id": "2838f12d-0729-4a9c-8cb9-91863079da92",
   "metadata": {},
   "outputs": [
    {
     "data": {
      "text/html": [
       "<div>\n",
       "<style scoped>\n",
       "    .dataframe tbody tr th:only-of-type {\n",
       "        vertical-align: middle;\n",
       "    }\n",
       "\n",
       "    .dataframe tbody tr th {\n",
       "        vertical-align: top;\n",
       "    }\n",
       "\n",
       "    .dataframe thead th {\n",
       "        text-align: right;\n",
       "    }\n",
       "</style>\n",
       "<table border=\"1\" class=\"dataframe\">\n",
       "  <thead>\n",
       "    <tr style=\"text-align: right;\">\n",
       "      <th></th>\n",
       "      <th>id</th>\n",
       "      <th>site_eui</th>\n",
       "    </tr>\n",
       "  </thead>\n",
       "  <tbody>\n",
       "    <tr>\n",
       "      <th>0</th>\n",
       "      <td>75757</td>\n",
       "      <td>0.0</td>\n",
       "    </tr>\n",
       "    <tr>\n",
       "      <th>1</th>\n",
       "      <td>75758</td>\n",
       "      <td>0.0</td>\n",
       "    </tr>\n",
       "    <tr>\n",
       "      <th>2</th>\n",
       "      <td>75759</td>\n",
       "      <td>0.0</td>\n",
       "    </tr>\n",
       "    <tr>\n",
       "      <th>3</th>\n",
       "      <td>75760</td>\n",
       "      <td>0.0</td>\n",
       "    </tr>\n",
       "    <tr>\n",
       "      <th>4</th>\n",
       "      <td>75761</td>\n",
       "      <td>0.0</td>\n",
       "    </tr>\n",
       "  </tbody>\n",
       "</table>\n",
       "</div>"
      ],
      "text/plain": [
       "      id  site_eui\n",
       "0  75757       0.0\n",
       "1  75758       0.0\n",
       "2  75759       0.0\n",
       "3  75760       0.0\n",
       "4  75761       0.0"
      ]
     },
     "execution_count": 1643,
     "metadata": {},
     "output_type": "execute_result"
    }
   ],
   "source": [
    "submit = pd.read_csv(submit_path)\n",
    "submit.head()"
   ]
  },
  {
   "cell_type": "markdown",
   "id": "a467cb35-2e66-4bc6-91d0-4e68fef0490c",
   "metadata": {},
   "source": [
    "## Datos comparativos"
   ]
  },
  {
   "cell_type": "code",
   "execution_count": 1631,
   "id": "34cb4ceb-5bc9-4c19-9ace-c267fb009031",
   "metadata": {},
   "outputs": [],
   "source": [
    "referencia = pd.read_csv(ref_path,sep='\\t',header=None)\n",
    "referencia.columns=['facility_type','site_eui_ref','source_eui_ref']\n",
    "referencia.set_index('facility_type',inplace=True)"
   ]
  },
  {
   "cell_type": "code",
   "execution_count": 1632,
   "id": "8c44e85a-79f3-4887-9929-3f3f6aaf273e",
   "metadata": {},
   "outputs": [],
   "source": [
    "resumen=train.groupby(['facility_type'])['site_eui','energy_star_rating'].mean()"
   ]
  },
  {
   "cell_type": "code",
   "execution_count": 1633,
   "id": "481486f2-73ab-45fd-9e21-4cf2b0b17c3f",
   "metadata": {},
   "outputs": [],
   "source": [
    "resumen2=test.groupby(['facility_type'])['energy_star_rating'].median()"
   ]
  },
  {
   "cell_type": "code",
   "execution_count": 1635,
   "id": "b4b37e26-3209-4297-90d0-44444ce70436",
   "metadata": {},
   "outputs": [
    {
     "data": {
      "text/html": [
       "<div>\n",
       "<style scoped>\n",
       "    .dataframe tbody tr th:only-of-type {\n",
       "        vertical-align: middle;\n",
       "    }\n",
       "\n",
       "    .dataframe tbody tr th {\n",
       "        vertical-align: top;\n",
       "    }\n",
       "\n",
       "    .dataframe thead th {\n",
       "        text-align: right;\n",
       "    }\n",
       "</style>\n",
       "<table border=\"1\" class=\"dataframe\">\n",
       "  <thead>\n",
       "    <tr style=\"text-align: right;\">\n",
       "      <th></th>\n",
       "      <th>site_eui_ref</th>\n",
       "      <th>site_eui</th>\n",
       "      <th>energy_star_rating</th>\n",
       "      <th>source_eui_ref</th>\n",
       "      <th>ratio</th>\n",
       "    </tr>\n",
       "    <tr>\n",
       "      <th>facility_type</th>\n",
       "      <th></th>\n",
       "      <th></th>\n",
       "      <th></th>\n",
       "      <th></th>\n",
       "      <th></th>\n",
       "    </tr>\n",
       "  </thead>\n",
       "  <tbody>\n",
       "    <tr>\n",
       "      <th>Grocery_store_or_food_market</th>\n",
       "      <td>196.0</td>\n",
       "      <td>241.135162</td>\n",
       "      <td>51.762963</td>\n",
       "      <td>444.0</td>\n",
       "      <td>81.282215</td>\n",
       "    </tr>\n",
       "    <tr>\n",
       "      <th>Warehouse_Distribution_or_Shipping_center</th>\n",
       "      <td>22.7</td>\n",
       "      <td>39.559542</td>\n",
       "      <td>56.724551</td>\n",
       "      <td>52.9</td>\n",
       "      <td>57.381857</td>\n",
       "    </tr>\n",
       "    <tr>\n",
       "      <th>Retail_Enclosed_mall</th>\n",
       "      <td>65.7</td>\n",
       "      <td>100.965937</td>\n",
       "      <td>63.062500</td>\n",
       "      <td>170.7</td>\n",
       "      <td>65.071451</td>\n",
       "    </tr>\n",
       "    <tr>\n",
       "      <th>Education_Other_classroom</th>\n",
       "      <td>52.4</td>\n",
       "      <td>69.441531</td>\n",
       "      <td>61.258570</td>\n",
       "      <td>110.4</td>\n",
       "      <td>75.459165</td>\n",
       "    </tr>\n",
       "    <tr>\n",
       "      <th>Warehouse_Nonrefrigerated</th>\n",
       "      <td>22.7</td>\n",
       "      <td>38.209399</td>\n",
       "      <td>65.781910</td>\n",
       "      <td>52.9</td>\n",
       "      <td>59.409466</td>\n",
       "    </tr>\n",
       "    <tr>\n",
       "      <th>Warehouse_Selfstorage</th>\n",
       "      <td>20.2</td>\n",
       "      <td>21.589284</td>\n",
       "      <td>71.132075</td>\n",
       "      <td>47.8</td>\n",
       "      <td>93.564939</td>\n",
       "    </tr>\n",
       "    <tr>\n",
       "      <th>Data_Center</th>\n",
       "      <td>NaN</td>\n",
       "      <td>339.734876</td>\n",
       "      <td>36.555556</td>\n",
       "      <td>NaN</td>\n",
       "      <td>NaN</td>\n",
       "    </tr>\n",
       "    <tr>\n",
       "      <th>Commercial_Other</th>\n",
       "      <td>40.1</td>\n",
       "      <td>92.642037</td>\n",
       "      <td>65.343750</td>\n",
       "      <td>89.3</td>\n",
       "      <td>43.284886</td>\n",
       "    </tr>\n",
       "    <tr>\n",
       "      <th>Office_Medical_non_diagnostic</th>\n",
       "      <td>51.2</td>\n",
       "      <td>116.762294</td>\n",
       "      <td>49.167979</td>\n",
       "      <td>121.7</td>\n",
       "      <td>43.849772</td>\n",
       "    </tr>\n",
       "    <tr>\n",
       "      <th>Education_College_or_university</th>\n",
       "      <td>52.4</td>\n",
       "      <td>108.629116</td>\n",
       "      <td>52.076923</td>\n",
       "      <td>110.4</td>\n",
       "      <td>48.237528</td>\n",
       "    </tr>\n",
       "    <tr>\n",
       "      <th>Laboratory</th>\n",
       "      <td>115.3</td>\n",
       "      <td>329.448470</td>\n",
       "      <td>1.000000</td>\n",
       "      <td>318.2</td>\n",
       "      <td>34.997886</td>\n",
       "    </tr>\n",
       "    <tr>\n",
       "      <th>Public_Assembly_Entertainment_culture</th>\n",
       "      <td>56.2</td>\n",
       "      <td>118.900412</td>\n",
       "      <td>NaN</td>\n",
       "      <td>112.0</td>\n",
       "      <td>47.266447</td>\n",
       "    </tr>\n",
       "    <tr>\n",
       "      <th>Retail_Vehicle_dealership_showroom</th>\n",
       "      <td>55.0</td>\n",
       "      <td>46.640952</td>\n",
       "      <td>NaN</td>\n",
       "      <td>124.1</td>\n",
       "      <td>117.922122</td>\n",
       "    </tr>\n",
       "    <tr>\n",
       "      <th>Retail_Uncategorized</th>\n",
       "      <td>NaN</td>\n",
       "      <td>80.902854</td>\n",
       "      <td>61.575972</td>\n",
       "      <td>NaN</td>\n",
       "      <td>NaN</td>\n",
       "    </tr>\n",
       "    <tr>\n",
       "      <th>Lodging_Hotel</th>\n",
       "      <td>63.0</td>\n",
       "      <td>104.934997</td>\n",
       "      <td>47.636409</td>\n",
       "      <td>146.7</td>\n",
       "      <td>60.037168</td>\n",
       "    </tr>\n",
       "    <tr>\n",
       "      <th>Education_Uncategorized</th>\n",
       "      <td>NaN</td>\n",
       "      <td>46.172799</td>\n",
       "      <td>13.142857</td>\n",
       "      <td>NaN</td>\n",
       "      <td>NaN</td>\n",
       "    </tr>\n",
       "    <tr>\n",
       "      <th>Health_Care_Inpatient</th>\n",
       "      <td>206.7</td>\n",
       "      <td>248.340597</td>\n",
       "      <td>56.899713</td>\n",
       "      <td>433.9</td>\n",
       "      <td>83.232465</td>\n",
       "    </tr>\n",
       "    <tr>\n",
       "      <th>Public_Assembly_Social_meeting</th>\n",
       "      <td>56.1</td>\n",
       "      <td>78.921954</td>\n",
       "      <td>97.000000</td>\n",
       "      <td>109.6</td>\n",
       "      <td>71.082883</td>\n",
       "    </tr>\n",
       "    <tr>\n",
       "      <th>Religious_worship</th>\n",
       "      <td>30.5</td>\n",
       "      <td>44.560675</td>\n",
       "      <td>61.767802</td>\n",
       "      <td>58.4</td>\n",
       "      <td>68.446000</td>\n",
       "    </tr>\n",
       "    <tr>\n",
       "      <th>Mixed_Use_Commercial_and_Residential</th>\n",
       "      <td>40.1</td>\n",
       "      <td>89.529798</td>\n",
       "      <td>65.946429</td>\n",
       "      <td>89.3</td>\n",
       "      <td>44.789557</td>\n",
       "    </tr>\n",
       "    <tr>\n",
       "      <th>Office_Bank_or_other_financial</th>\n",
       "      <td>52.9</td>\n",
       "      <td>89.895736</td>\n",
       "      <td>67.953947</td>\n",
       "      <td>116.4</td>\n",
       "      <td>58.845950</td>\n",
       "    </tr>\n",
       "    <tr>\n",
       "      <th>Parking_Garage</th>\n",
       "      <td>NaN</td>\n",
       "      <td>67.351241</td>\n",
       "      <td>73.222222</td>\n",
       "      <td>NaN</td>\n",
       "      <td>NaN</td>\n",
       "    </tr>\n",
       "    <tr>\n",
       "      <th>Service_Vehicle_service_repair_shop</th>\n",
       "      <td>47.9</td>\n",
       "      <td>137.595749</td>\n",
       "      <td>22.800000</td>\n",
       "      <td>96.9</td>\n",
       "      <td>34.812122</td>\n",
       "    </tr>\n",
       "    <tr>\n",
       "      <th>Service_Drycleaning_or_Laundry</th>\n",
       "      <td>47.9</td>\n",
       "      <td>42.112542</td>\n",
       "      <td>NaN</td>\n",
       "      <td>96.9</td>\n",
       "      <td>113.742838</td>\n",
       "    </tr>\n",
       "    <tr>\n",
       "      <th>Public_Assembly_Recreation</th>\n",
       "      <td>50.8</td>\n",
       "      <td>115.177708</td>\n",
       "      <td>NaN</td>\n",
       "      <td>112.0</td>\n",
       "      <td>44.105757</td>\n",
       "    </tr>\n",
       "    <tr>\n",
       "      <th>Service_Uncategorized</th>\n",
       "      <td>NaN</td>\n",
       "      <td>113.565430</td>\n",
       "      <td>90.000000</td>\n",
       "      <td>NaN</td>\n",
       "      <td>NaN</td>\n",
       "    </tr>\n",
       "    <tr>\n",
       "      <th>Warehouse_Refrigerated</th>\n",
       "      <td>84.1</td>\n",
       "      <td>96.525301</td>\n",
       "      <td>49.360825</td>\n",
       "      <td>235.6</td>\n",
       "      <td>87.127416</td>\n",
       "    </tr>\n",
       "    <tr>\n",
       "      <th>Food_Service_Uncategorized</th>\n",
       "      <td>NaN</td>\n",
       "      <td>128.801496</td>\n",
       "      <td>NaN</td>\n",
       "      <td>NaN</td>\n",
       "      <td>NaN</td>\n",
       "    </tr>\n",
       "    <tr>\n",
       "      <th>Health_Care_Uncategorized</th>\n",
       "      <td>NaN</td>\n",
       "      <td>183.945201</td>\n",
       "      <td>NaN</td>\n",
       "      <td>NaN</td>\n",
       "      <td>NaN</td>\n",
       "    </tr>\n",
       "    <tr>\n",
       "      <th>Public_Assembly_Movie_Theater</th>\n",
       "      <td>56.2</td>\n",
       "      <td>103.095275</td>\n",
       "      <td>NaN</td>\n",
       "      <td>112.0</td>\n",
       "      <td>54.512682</td>\n",
       "    </tr>\n",
       "    <tr>\n",
       "      <th>Food_Service_Restaurant_or_cafeteria</th>\n",
       "      <td>325.6</td>\n",
       "      <td>195.593925</td>\n",
       "      <td>NaN</td>\n",
       "      <td>573.7</td>\n",
       "      <td>166.467338</td>\n",
       "    </tr>\n",
       "    <tr>\n",
       "      <th>Food_Sales</th>\n",
       "      <td>231.4</td>\n",
       "      <td>136.793222</td>\n",
       "      <td>43.813559</td>\n",
       "      <td>592.6</td>\n",
       "      <td>169.160428</td>\n",
       "    </tr>\n",
       "    <tr>\n",
       "      <th>Public_Assembly_Uncategorized</th>\n",
       "      <td>NaN</td>\n",
       "      <td>62.872612</td>\n",
       "      <td>NaN</td>\n",
       "      <td>NaN</td>\n",
       "      <td>NaN</td>\n",
       "    </tr>\n",
       "    <tr>\n",
       "      <th>Health_Care_Outpatient_Clinic</th>\n",
       "      <td>64.5</td>\n",
       "      <td>103.613131</td>\n",
       "      <td>44.333333</td>\n",
       "      <td>145.8</td>\n",
       "      <td>62.250797</td>\n",
       "    </tr>\n",
       "    <tr>\n",
       "      <th>Education_Preschool_or_daycare</th>\n",
       "      <td>64.8</td>\n",
       "      <td>60.974215</td>\n",
       "      <td>NaN</td>\n",
       "      <td>131.5</td>\n",
       "      <td>106.274432</td>\n",
       "    </tr>\n",
       "    <tr>\n",
       "      <th>Multifamily_Uncategorized</th>\n",
       "      <td>59.6</td>\n",
       "      <td>83.878522</td>\n",
       "      <td>56.548516</td>\n",
       "      <td>117.1</td>\n",
       "      <td>71.055139</td>\n",
       "    </tr>\n",
       "    <tr>\n",
       "      <th>Lodging_Dormitory_or_fraternity_sorority</th>\n",
       "      <td>57.9</td>\n",
       "      <td>81.595825</td>\n",
       "      <td>62.544326</td>\n",
       "      <td>107.5</td>\n",
       "      <td>70.959513</td>\n",
       "    </tr>\n",
       "    <tr>\n",
       "      <th>Public_Assembly_Library</th>\n",
       "      <td>71.6</td>\n",
       "      <td>105.849109</td>\n",
       "      <td>NaN</td>\n",
       "      <td>143.6</td>\n",
       "      <td>67.643461</td>\n",
       "    </tr>\n",
       "    <tr>\n",
       "      <th>Public_Safety_Uncategorized</th>\n",
       "      <td>40.1</td>\n",
       "      <td>83.709161</td>\n",
       "      <td>NaN</td>\n",
       "      <td>89.3</td>\n",
       "      <td>47.903957</td>\n",
       "    </tr>\n",
       "    <tr>\n",
       "      <th>Public_Safety_Fire_or_police_station</th>\n",
       "      <td>63.5</td>\n",
       "      <td>131.122766</td>\n",
       "      <td>NaN</td>\n",
       "      <td>124.9</td>\n",
       "      <td>48.427898</td>\n",
       "    </tr>\n",
       "    <tr>\n",
       "      <th>Office_Mixed_use</th>\n",
       "      <td>NaN</td>\n",
       "      <td>82.110316</td>\n",
       "      <td>65.222222</td>\n",
       "      <td>NaN</td>\n",
       "      <td>NaN</td>\n",
       "    </tr>\n",
       "    <tr>\n",
       "      <th>Public_Assembly_Other</th>\n",
       "      <td>50.8</td>\n",
       "      <td>126.704295</td>\n",
       "      <td>20.666667</td>\n",
       "      <td>112.0</td>\n",
       "      <td>40.093353</td>\n",
       "    </tr>\n",
       "    <tr>\n",
       "      <th>Public_Safety_Penitentiary</th>\n",
       "      <td>69.9</td>\n",
       "      <td>170.904892</td>\n",
       "      <td>NaN</td>\n",
       "      <td>156.4</td>\n",
       "      <td>40.899941</td>\n",
       "    </tr>\n",
       "    <tr>\n",
       "      <th>Health_Care_Outpatient_Uncategorized</th>\n",
       "      <td>62.0</td>\n",
       "      <td>189.892345</td>\n",
       "      <td>53.833333</td>\n",
       "      <td>138.3</td>\n",
       "      <td>32.650079</td>\n",
       "    </tr>\n",
       "    <tr>\n",
       "      <th>Lodging_Other</th>\n",
       "      <td>63.6</td>\n",
       "      <td>120.958325</td>\n",
       "      <td>NaN</td>\n",
       "      <td>143.6</td>\n",
       "      <td>52.580093</td>\n",
       "    </tr>\n",
       "    <tr>\n",
       "      <th>Mixed_Use_Predominantly_Residential</th>\n",
       "      <td>40.1</td>\n",
       "      <td>81.797872</td>\n",
       "      <td>42.750000</td>\n",
       "      <td>89.3</td>\n",
       "      <td>49.023280</td>\n",
       "    </tr>\n",
       "    <tr>\n",
       "      <th>Public_Safety_Courthouse</th>\n",
       "      <td>101.2</td>\n",
       "      <td>103.182163</td>\n",
       "      <td>63.121212</td>\n",
       "      <td>211.4</td>\n",
       "      <td>98.078968</td>\n",
       "    </tr>\n",
       "    <tr>\n",
       "      <th>Public_Assembly_Stadium</th>\n",
       "      <td>56.2</td>\n",
       "      <td>157.041663</td>\n",
       "      <td>NaN</td>\n",
       "      <td>112.0</td>\n",
       "      <td>35.786682</td>\n",
       "    </tr>\n",
       "    <tr>\n",
       "      <th>Lodging_Uncategorized</th>\n",
       "      <td>63.6</td>\n",
       "      <td>66.595438</td>\n",
       "      <td>NaN</td>\n",
       "      <td>143.6</td>\n",
       "      <td>95.502038</td>\n",
       "    </tr>\n",
       "    <tr>\n",
       "      <th>2to4_Unit_Building</th>\n",
       "      <td>NaN</td>\n",
       "      <td>31.876915</td>\n",
       "      <td>69.846715</td>\n",
       "      <td>NaN</td>\n",
       "      <td>NaN</td>\n",
       "    </tr>\n",
       "    <tr>\n",
       "      <th>Warehouse_Uncategorized</th>\n",
       "      <td>NaN</td>\n",
       "      <td>35.936435</td>\n",
       "      <td>52.261044</td>\n",
       "      <td>NaN</td>\n",
       "      <td>NaN</td>\n",
       "    </tr>\n",
       "  </tbody>\n",
       "</table>\n",
       "</div>"
      ],
      "text/plain": [
       "                                           site_eui_ref    site_eui  \\\n",
       "facility_type                                                         \n",
       "Grocery_store_or_food_market                      196.0  241.135162   \n",
       "Warehouse_Distribution_or_Shipping_center          22.7   39.559542   \n",
       "Retail_Enclosed_mall                               65.7  100.965937   \n",
       "Education_Other_classroom                          52.4   69.441531   \n",
       "Warehouse_Nonrefrigerated                          22.7   38.209399   \n",
       "Warehouse_Selfstorage                              20.2   21.589284   \n",
       "Data_Center                                         NaN  339.734876   \n",
       "Commercial_Other                                   40.1   92.642037   \n",
       "Office_Medical_non_diagnostic                      51.2  116.762294   \n",
       "Education_College_or_university                    52.4  108.629116   \n",
       "Laboratory                                        115.3  329.448470   \n",
       "Public_Assembly_Entertainment_culture              56.2  118.900412   \n",
       "Retail_Vehicle_dealership_showroom                 55.0   46.640952   \n",
       "Retail_Uncategorized                                NaN   80.902854   \n",
       "Lodging_Hotel                                      63.0  104.934997   \n",
       "Education_Uncategorized                             NaN   46.172799   \n",
       "Health_Care_Inpatient                             206.7  248.340597   \n",
       "Public_Assembly_Social_meeting                     56.1   78.921954   \n",
       "Religious_worship                                  30.5   44.560675   \n",
       "Mixed_Use_Commercial_and_Residential               40.1   89.529798   \n",
       "Office_Bank_or_other_financial                     52.9   89.895736   \n",
       "Parking_Garage                                      NaN   67.351241   \n",
       "Service_Vehicle_service_repair_shop                47.9  137.595749   \n",
       "Service_Drycleaning_or_Laundry                     47.9   42.112542   \n",
       "Public_Assembly_Recreation                         50.8  115.177708   \n",
       "Service_Uncategorized                               NaN  113.565430   \n",
       "Warehouse_Refrigerated                             84.1   96.525301   \n",
       "Food_Service_Uncategorized                          NaN  128.801496   \n",
       "Health_Care_Uncategorized                           NaN  183.945201   \n",
       "Public_Assembly_Movie_Theater                      56.2  103.095275   \n",
       "Food_Service_Restaurant_or_cafeteria              325.6  195.593925   \n",
       "Food_Sales                                        231.4  136.793222   \n",
       "Public_Assembly_Uncategorized                       NaN   62.872612   \n",
       "Health_Care_Outpatient_Clinic                      64.5  103.613131   \n",
       "Education_Preschool_or_daycare                     64.8   60.974215   \n",
       "Multifamily_Uncategorized                          59.6   83.878522   \n",
       "Lodging_Dormitory_or_fraternity_sorority           57.9   81.595825   \n",
       "Public_Assembly_Library                            71.6  105.849109   \n",
       "Public_Safety_Uncategorized                        40.1   83.709161   \n",
       "Public_Safety_Fire_or_police_station               63.5  131.122766   \n",
       "Office_Mixed_use                                    NaN   82.110316   \n",
       "Public_Assembly_Other                              50.8  126.704295   \n",
       "Public_Safety_Penitentiary                         69.9  170.904892   \n",
       "Health_Care_Outpatient_Uncategorized               62.0  189.892345   \n",
       "Lodging_Other                                      63.6  120.958325   \n",
       "Mixed_Use_Predominantly_Residential                40.1   81.797872   \n",
       "Public_Safety_Courthouse                          101.2  103.182163   \n",
       "Public_Assembly_Stadium                            56.2  157.041663   \n",
       "Lodging_Uncategorized                              63.6   66.595438   \n",
       "2to4_Unit_Building                                  NaN   31.876915   \n",
       "Warehouse_Uncategorized                             NaN   35.936435   \n",
       "\n",
       "                                           energy_star_rating  source_eui_ref  \\\n",
       "facility_type                                                                   \n",
       "Grocery_store_or_food_market                        51.762963           444.0   \n",
       "Warehouse_Distribution_or_Shipping_center           56.724551            52.9   \n",
       "Retail_Enclosed_mall                                63.062500           170.7   \n",
       "Education_Other_classroom                           61.258570           110.4   \n",
       "Warehouse_Nonrefrigerated                           65.781910            52.9   \n",
       "Warehouse_Selfstorage                               71.132075            47.8   \n",
       "Data_Center                                         36.555556             NaN   \n",
       "Commercial_Other                                    65.343750            89.3   \n",
       "Office_Medical_non_diagnostic                       49.167979           121.7   \n",
       "Education_College_or_university                     52.076923           110.4   \n",
       "Laboratory                                           1.000000           318.2   \n",
       "Public_Assembly_Entertainment_culture                     NaN           112.0   \n",
       "Retail_Vehicle_dealership_showroom                        NaN           124.1   \n",
       "Retail_Uncategorized                                61.575972             NaN   \n",
       "Lodging_Hotel                                       47.636409           146.7   \n",
       "Education_Uncategorized                             13.142857             NaN   \n",
       "Health_Care_Inpatient                               56.899713           433.9   \n",
       "Public_Assembly_Social_meeting                      97.000000           109.6   \n",
       "Religious_worship                                   61.767802            58.4   \n",
       "Mixed_Use_Commercial_and_Residential                65.946429            89.3   \n",
       "Office_Bank_or_other_financial                      67.953947           116.4   \n",
       "Parking_Garage                                      73.222222             NaN   \n",
       "Service_Vehicle_service_repair_shop                 22.800000            96.9   \n",
       "Service_Drycleaning_or_Laundry                            NaN            96.9   \n",
       "Public_Assembly_Recreation                                NaN           112.0   \n",
       "Service_Uncategorized                               90.000000             NaN   \n",
       "Warehouse_Refrigerated                              49.360825           235.6   \n",
       "Food_Service_Uncategorized                                NaN             NaN   \n",
       "Health_Care_Uncategorized                                 NaN             NaN   \n",
       "Public_Assembly_Movie_Theater                             NaN           112.0   \n",
       "Food_Service_Restaurant_or_cafeteria                      NaN           573.7   \n",
       "Food_Sales                                          43.813559           592.6   \n",
       "Public_Assembly_Uncategorized                             NaN             NaN   \n",
       "Health_Care_Outpatient_Clinic                       44.333333           145.8   \n",
       "Education_Preschool_or_daycare                            NaN           131.5   \n",
       "Multifamily_Uncategorized                           56.548516           117.1   \n",
       "Lodging_Dormitory_or_fraternity_sorority            62.544326           107.5   \n",
       "Public_Assembly_Library                                   NaN           143.6   \n",
       "Public_Safety_Uncategorized                               NaN            89.3   \n",
       "Public_Safety_Fire_or_police_station                      NaN           124.9   \n",
       "Office_Mixed_use                                    65.222222             NaN   \n",
       "Public_Assembly_Other                               20.666667           112.0   \n",
       "Public_Safety_Penitentiary                                NaN           156.4   \n",
       "Health_Care_Outpatient_Uncategorized                53.833333           138.3   \n",
       "Lodging_Other                                             NaN           143.6   \n",
       "Mixed_Use_Predominantly_Residential                 42.750000            89.3   \n",
       "Public_Safety_Courthouse                            63.121212           211.4   \n",
       "Public_Assembly_Stadium                                   NaN           112.0   \n",
       "Lodging_Uncategorized                                     NaN           143.6   \n",
       "2to4_Unit_Building                                  69.846715             NaN   \n",
       "Warehouse_Uncategorized                             52.261044             NaN   \n",
       "\n",
       "                                                ratio  \n",
       "facility_type                                          \n",
       "Grocery_store_or_food_market                81.282215  \n",
       "Warehouse_Distribution_or_Shipping_center   57.381857  \n",
       "Retail_Enclosed_mall                        65.071451  \n",
       "Education_Other_classroom                   75.459165  \n",
       "Warehouse_Nonrefrigerated                   59.409466  \n",
       "Warehouse_Selfstorage                       93.564939  \n",
       "Data_Center                                       NaN  \n",
       "Commercial_Other                            43.284886  \n",
       "Office_Medical_non_diagnostic               43.849772  \n",
       "Education_College_or_university             48.237528  \n",
       "Laboratory                                  34.997886  \n",
       "Public_Assembly_Entertainment_culture       47.266447  \n",
       "Retail_Vehicle_dealership_showroom         117.922122  \n",
       "Retail_Uncategorized                              NaN  \n",
       "Lodging_Hotel                               60.037168  \n",
       "Education_Uncategorized                           NaN  \n",
       "Health_Care_Inpatient                       83.232465  \n",
       "Public_Assembly_Social_meeting              71.082883  \n",
       "Religious_worship                           68.446000  \n",
       "Mixed_Use_Commercial_and_Residential        44.789557  \n",
       "Office_Bank_or_other_financial              58.845950  \n",
       "Parking_Garage                                    NaN  \n",
       "Service_Vehicle_service_repair_shop         34.812122  \n",
       "Service_Drycleaning_or_Laundry             113.742838  \n",
       "Public_Assembly_Recreation                  44.105757  \n",
       "Service_Uncategorized                             NaN  \n",
       "Warehouse_Refrigerated                      87.127416  \n",
       "Food_Service_Uncategorized                        NaN  \n",
       "Health_Care_Uncategorized                         NaN  \n",
       "Public_Assembly_Movie_Theater               54.512682  \n",
       "Food_Service_Restaurant_or_cafeteria       166.467338  \n",
       "Food_Sales                                 169.160428  \n",
       "Public_Assembly_Uncategorized                     NaN  \n",
       "Health_Care_Outpatient_Clinic               62.250797  \n",
       "Education_Preschool_or_daycare             106.274432  \n",
       "Multifamily_Uncategorized                   71.055139  \n",
       "Lodging_Dormitory_or_fraternity_sorority    70.959513  \n",
       "Public_Assembly_Library                     67.643461  \n",
       "Public_Safety_Uncategorized                 47.903957  \n",
       "Public_Safety_Fire_or_police_station        48.427898  \n",
       "Office_Mixed_use                                  NaN  \n",
       "Public_Assembly_Other                       40.093353  \n",
       "Public_Safety_Penitentiary                  40.899941  \n",
       "Health_Care_Outpatient_Uncategorized        32.650079  \n",
       "Lodging_Other                               52.580093  \n",
       "Mixed_Use_Predominantly_Residential         49.023280  \n",
       "Public_Safety_Courthouse                    98.078968  \n",
       "Public_Assembly_Stadium                     35.786682  \n",
       "Lodging_Uncategorized                       95.502038  \n",
       "2to4_Unit_Building                                NaN  \n",
       "Warehouse_Uncategorized                           NaN  "
      ]
     },
     "execution_count": 1635,
     "metadata": {},
     "output_type": "execute_result"
    }
   ],
   "source": [
    "tabla=pd.merge(referencia,resumen,left_index=True, right_index=True)[['site_eui_ref','site_eui','energy_star_rating','source_eui_ref']]\n",
    "tabla['ratio']=tabla.site_eui_ref/tabla.site_eui*100\n",
    "tabla"
   ]
  },
  {
   "cell_type": "code",
   "execution_count": 1237,
   "id": "b32bfbf4-608c-490b-b9c8-7423fe641af7",
   "metadata": {},
   "outputs": [],
   "source": [
    "#pd.merge(referencia,resumen2,left_index=True, right_index=True)[['site_eui_ref','energy_star_rating']]"
   ]
  },
  {
   "cell_type": "markdown",
   "id": "49366fc5-2c7f-4d81-b2cd-ab1024e86775",
   "metadata": {},
   "source": [
    "Según referencias son importantes cooling_degree_days y heating_degree_days, CDD y HDD"
   ]
  },
  {
   "cell_type": "code",
   "execution_count": 1641,
   "id": "5cbbd266-16e5-418f-b0e1-5304dd8b5c8c",
   "metadata": {},
   "outputs": [
    {
     "name": "stdout",
     "output_type": "stream",
     "text": [
      "CDD - median: 1277.0\n",
      "HDD - median: 4337.0\n"
     ]
    }
   ],
   "source": [
    "print('CDD - median:',train.cooling_degree_days.median())\n",
    "print('HDD - median:',train.heating_degree_days.median())"
   ]
  },
  {
   "cell_type": "markdown",
   "id": "ec4660be-6039-4bdf-9aef-f2dfa8ab959b",
   "metadata": {},
   "source": [
    "Los valores medios de USA son CDD: 1364 y HDD: 4233  https://www.energystar.gov/sites/default/files/tools/Multifamily_August_2018_EN_508.pdf"
   ]
  },
  {
   "cell_type": "code",
   "execution_count": 1438,
   "id": "8b1cfd4d-ca62-465e-8de4-f3ff2df16d5f",
   "metadata": {},
   "outputs": [
    {
     "data": {
      "text/plain": [
       "Index(['Year_Factor', 'State_Factor', 'building_class', 'facility_type',\n",
       "       'floor_area', 'year_built', 'energy_star_rating', 'ELEVATION',\n",
       "       'january_min_temp', 'january_avg_temp', 'january_max_temp',\n",
       "       'february_min_temp', 'february_avg_temp', 'february_max_temp',\n",
       "       'march_min_temp', 'march_avg_temp', 'march_max_temp', 'april_min_temp',\n",
       "       'april_avg_temp', 'april_max_temp', 'may_min_temp', 'may_avg_temp',\n",
       "       'may_max_temp', 'june_min_temp', 'june_avg_temp', 'june_max_temp',\n",
       "       'july_min_temp', 'july_avg_temp', 'july_max_temp', 'august_min_temp',\n",
       "       'august_avg_temp', 'august_max_temp', 'september_min_temp',\n",
       "       'september_avg_temp', 'september_max_temp', 'october_min_temp',\n",
       "       'october_avg_temp', 'october_max_temp', 'november_min_temp',\n",
       "       'november_avg_temp', 'november_max_temp', 'december_min_temp',\n",
       "       'december_avg_temp', 'december_max_temp', 'cooling_degree_days',\n",
       "       'heating_degree_days', 'precipitation_inches', 'snowfall_inches',\n",
       "       'snowdepth_inches', 'avg_temp', 'days_below_30F', 'days_below_20F',\n",
       "       'days_below_10F', 'days_below_0F', 'days_above_80F', 'days_above_90F',\n",
       "       'days_above_100F', 'days_above_110F', 'direction_max_wind_speed',\n",
       "       'direction_peak_wind_speed', 'max_wind_speed', 'days_with_fog',\n",
       "       'site_eui', 'id'],\n",
       "      dtype='object')"
      ]
     },
     "execution_count": 1438,
     "metadata": {},
     "output_type": "execute_result"
    }
   ],
   "source": [
    "train.columns"
   ]
  },
  {
   "cell_type": "code",
   "execution_count": 1679,
   "id": "6529a6cc-f616-4022-b234-f6b5ed4dd387",
   "metadata": {},
   "outputs": [
    {
     "data": {
      "text/plain": [
       "array(['Grocery_store_or_food_market',\n",
       "       'Warehouse_Distribution_or_Shipping_center',\n",
       "       'Retail_Enclosed_mall', 'Education_Other_classroom',\n",
       "       'Warehouse_Nonrefrigerated', 'Warehouse_Selfstorage',\n",
       "       'Office_Uncategorized', 'Data_Center', 'Commercial_Other',\n",
       "       'Mixed_Use_Predominantly_Commercial',\n",
       "       'Office_Medical_non_diagnostic', 'Education_College_or_university',\n",
       "       'Industrial', 'Laboratory',\n",
       "       'Public_Assembly_Entertainment_culture',\n",
       "       'Retail_Vehicle_dealership_showroom', 'Retail_Uncategorized',\n",
       "       'Lodging_Hotel', 'Retail_Strip_shopping_mall',\n",
       "       'Education_Uncategorized', 'Health_Care_Inpatient',\n",
       "       'Public_Assembly_Drama_theater', 'Public_Assembly_Social_meeting',\n",
       "       'Religious_worship', 'Mixed_Use_Commercial_and_Residential',\n",
       "       'Office_Bank_or_other_financial', 'Parking_Garage',\n",
       "       'Commercial_Unknown', 'Service_Vehicle_service_repair_shop',\n",
       "       'Service_Drycleaning_or_Laundry', 'Public_Assembly_Recreation',\n",
       "       'Service_Uncategorized', 'Warehouse_Refrigerated',\n",
       "       'Food_Service_Uncategorized', 'Health_Care_Uncategorized',\n",
       "       'Food_Service_Other', 'Public_Assembly_Movie_Theater',\n",
       "       'Food_Service_Restaurant_or_cafeteria', 'Food_Sales',\n",
       "       'Public_Assembly_Uncategorized', 'Nursing_Home',\n",
       "       'Health_Care_Outpatient_Clinic', 'Education_Preschool_or_daycare',\n",
       "       '5plus_Unit_Building', 'Multifamily_Uncategorized',\n",
       "       'Lodging_Dormitory_or_fraternity_sorority',\n",
       "       'Public_Assembly_Library', 'Public_Safety_Uncategorized',\n",
       "       'Public_Safety_Fire_or_police_station', 'Office_Mixed_use',\n",
       "       'Public_Assembly_Other', 'Public_Safety_Penitentiary',\n",
       "       'Health_Care_Outpatient_Uncategorized', 'Lodging_Other',\n",
       "       'Mixed_Use_Predominantly_Residential', 'Public_Safety_Courthouse',\n",
       "       'Public_Assembly_Stadium', 'Lodging_Uncategorized',\n",
       "       '2to4_Unit_Building', 'Warehouse_Uncategorized'], dtype=object)"
      ]
     },
     "execution_count": 1679,
     "metadata": {},
     "output_type": "execute_result"
    }
   ],
   "source": [
    "facility=data.facility_type.unique()\n",
    "facility"
   ]
  },
  {
   "cell_type": "markdown",
   "id": "b60c02a9-02a5-4fd0-bc53-c041f712b09e",
   "metadata": {},
   "source": [
    "Algunos outliers en temperaturas"
   ]
  },
  {
   "cell_type": "code",
   "execution_count": 1707,
   "id": "ff088b28-f22f-46da-972d-62871c49d46b",
   "metadata": {},
   "outputs": [
    {
     "data": {
      "text/plain": [
       "[<matplotlib.lines.Line2D at 0x1b893483760>]"
      ]
     },
     "execution_count": 1707,
     "metadata": {},
     "output_type": "execute_result"
    },
    {
     "data": {
      "image/png": "[encoded data removed]",
      "text/plain": [
       "<Figure size 432x288 with 1 Axes>"
      ]
     },
     "metadata": {
      "needs_background": "light"
     },
     "output_type": "display_data"
    }
   ],
   "source": [
    "plt.plot(train.december_avg_temp)\n",
    "plt.plot(train.january_avg_temp)\n",
    "plt.plot(train.february_avg_temp)\n",
    "plt.plot(train.march_avg_temp)\n",
    "plt.plot(train.april_avg_temp)\n",
    "plt.plot(train.may_avg_temp)"
   ]
  },
  {
   "cell_type": "code",
   "execution_count": 1708,
   "id": "748b1b7a-be9b-47dd-8f6d-b95ce0b379ef",
   "metadata": {},
   "outputs": [
    {
     "data": {
      "text/plain": [
       "[<matplotlib.lines.Line2D at 0x1b889389400>]"
      ]
     },
     "execution_count": 1708,
     "metadata": {},
     "output_type": "execute_result"
    },
    {
     "data": {
      "image/png": "[encoded data removed]",
      "text/plain": [
       "<Figure size 432x288 with 1 Axes>"
      ]
     },
     "metadata": {
      "needs_background": "light"
     },
     "output_type": "display_data"
    }
   ],
   "source": [
    "plt.plot(train.december_min_temp)\n",
    "plt.plot(train.january_min_temp)\n",
    "plt.plot(train.february_min_temp)\n",
    "plt.plot(train.march_min_temp)\n",
    "plt.plot(train.april_min_temp)\n",
    "plt.plot(train.may_min_temp)"
   ]
  },
  {
   "cell_type": "code",
   "execution_count": 1709,
   "id": "834d71f6-3cc3-4604-b827-62c6f73507f5",
   "metadata": {},
   "outputs": [
    {
     "data": {
      "text/plain": [
       "[<matplotlib.lines.Line2D at 0x1b899ed6340>]"
      ]
     },
     "execution_count": 1709,
     "metadata": {},
     "output_type": "execute_result"
    },
    {
     "data": {
      "image/png": "[encoded data removed]",
      "text/plain": [
       "<Figure size 432x288 with 1 Axes>"
      ]
     },
     "metadata": {
      "needs_background": "light"
     },
     "output_type": "display_data"
    }
   ],
   "source": [
    "plt.plot(train.june_avg_temp)\n",
    "plt.plot(train.july_avg_temp)\n",
    "plt.plot(train.august_avg_temp)\n",
    "plt.plot(train.september_avg_temp)\n",
    "plt.plot(train.october_avg_temp)\n",
    "plt.plot(train.november_avg_temp)"
   ]
  },
  {
   "cell_type": "code",
   "execution_count": 1715,
   "id": "6a7ee697-fdbd-4092-971c-36cdd369dc75",
   "metadata": {},
   "outputs": [
    {
     "data": {
      "text/plain": [
       "[<matplotlib.lines.Line2D at 0x1b891f681f0>]"
      ]
     },
     "execution_count": 1715,
     "metadata": {},
     "output_type": "execute_result"
    },
    {
     "data": {
      "image/png": "[encoded data removed]",
      "text/plain": [
       "<Figure size 432x288 with 1 Axes>"
      ]
     },
     "metadata": {
      "needs_background": "light"
     },
     "output_type": "display_data"
    }
   ],
   "source": [
    "plt.plot(train.cooling_degree_days,'x')\n",
    "plt.plot(train.heating_degree_days,'x')"
   ]
  },
  {
   "cell_type": "markdown",
   "id": "b7669827-74e8-4cc9-a331-646d3e502a78",
   "metadata": {},
   "source": [
    "# 3. Feature Engineering\n",
    "\n",
    "+ Reemplazo valores outliers por nulos\n",
    "+ Armo categóricas para variables que quiero que sean tratadas así por catboost\n",
    "+ Armo Lags"
   ]
  },
  {
   "cell_type": "markdown",
   "id": "cba03e80-5b1d-43e5-8b12-51111522e166",
   "metadata": {},
   "source": [
    "### Años de construcción en 0, si quiero corregir year_built=0 por nan"
   ]
  },
  {
   "cell_type": "code",
   "execution_count": null,
   "id": "ce489772-735f-4321-a9cf-ad3f870cdd4a",
   "metadata": {},
   "outputs": [],
   "source": [
    "#train[train['year_built'] == 0].year_built=np.nan\n",
    "#test[test['year_built'] == 0].year_built=np.nan"
   ]
  },
  {
   "cell_type": "code",
   "execution_count": null,
   "id": "a88aa34c-5101-40c2-93ae-5e7204af6c77",
   "metadata": {},
   "outputs": [],
   "source": [
    "#train[train['building_class'] == 'Commercial'].ELEVATION=np.nan\n",
    "#test[test['building_class'] == 'Commercial'].ELEVATION=np.nan"
   ]
  },
  {
   "cell_type": "code",
   "execution_count": 1680,
   "id": "5f17f2d1-8ea4-49c8-b937-8dd954ceade8",
   "metadata": {},
   "outputs": [],
   "source": [
    "#sns.lmplot( x='floor_area', y='ELEVATION', data=test, fit_reg=False, hue='building_class', legend=True)"
   ]
  },
  {
   "cell_type": "code",
   "execution_count": 1646,
   "id": "6cd76e6e-e25a-407d-9fa6-26e379744db4",
   "metadata": {},
   "outputs": [],
   "source": [
    "def list_duplicates(seq):\n",
    "   seen = set()\n",
    "   seen_add = seen.add\n",
    "   # adds all elements it doesn't know yet to seen and all other to seen_twice\n",
    "   seen_twice = set( x for x in seq if x in seen or seen_add(x) )\n",
    "   # turn the set into a list (as requested)\n",
    "   return list( seen_twice )"
   ]
  },
  {
   "cell_type": "markdown",
   "id": "d1a6fe03-a3aa-4d13-bbb1-91db8c50fe33",
   "metadata": {},
   "source": [
    "### Data = train + test"
   ]
  },
  {
   "cell_type": "code",
   "execution_count": 1647,
   "id": "5a0c8182-c30d-4a72-b55b-e490e3a56070",
   "metadata": {},
   "outputs": [],
   "source": [
    "test.index=test.index+len(train)\n",
    "data=pd.concat([train,test],axis=0)"
   ]
  },
  {
   "cell_type": "markdown",
   "id": "5c5a4677-8e2a-4d95-b373-4d9c1a7071eb",
   "metadata": {},
   "source": [
    "Corrijo valores de viento iguales a 1 y los reemplazo por nan"
   ]
  },
  {
   "cell_type": "code",
   "execution_count": 1648,
   "id": "b46b1ed2-4ee5-474c-a643-5e4b344d51a6",
   "metadata": {},
   "outputs": [],
   "source": [
    "feature_corrected='direction_peak_wind_speed'\n",
    "data[feature_corrected]= data[feature_corrected].apply(lambda x: np.nan if x == 1 else x)\n",
    "feature_corrected='max_wind_speed'\n",
    "data[feature_corrected]= data[feature_corrected].apply(lambda x: np.nan if x == 1 else x)\n",
    "feature_corrected='direction_max_wind_speed'\n",
    "data[feature_corrected]= data[feature_corrected].apply(lambda x: np.nan if x == 1 else x)"
   ]
  },
  {
   "cell_type": "markdown",
   "id": "22d7c11c-4fa6-4ad5-9238-07bce1579b80",
   "metadata": {},
   "source": [
    "### Armo categóricas de year_built y floor_area para catboost"
   ]
  },
  {
   "cell_type": "code",
   "execution_count": 1649,
   "id": "8843e1d3-124f-4fe2-90d6-63b78052deaa",
   "metadata": {},
   "outputs": [],
   "source": [
    "data.year_built=data.year_built.astype('Int64')\n",
    "data.floor_area=np.ceil(data.floor_area).astype('Int64')\n",
    "\n",
    "data.year_built=data.year_built.astype('str')\n",
    "data.floor_area=data.floor_area.astype('str')"
   ]
  },
  {
   "cell_type": "markdown",
   "id": "ece47387-5bb3-421b-899a-5ee8791bfd39",
   "metadata": {},
   "source": [
    "### Genero ID para armar lags"
   ]
  },
  {
   "cell_type": "code",
   "execution_count": 1651,
   "id": "08d36d92-f1ab-4d1d-9064-c8710f037d9d",
   "metadata": {},
   "outputs": [],
   "source": [
    "#data['id2']= data[['floor_area','building_class','year_built','facility_type','State_Factor','ELEVATION']].apply(lambda x: '{}{}{}{}{}{}'.format(x[0],x[1],x[2],x[3],x[4],x[5]), axis=1)\n",
    "data['id2']= data[['State_Factor','building_class','facility_type','year_built','floor_area']].apply(lambda x: '{}{}{}{}{}'.format(x[0],x[1],x[2],x[3],x[4]), axis=1)"
   ]
  },
  {
   "cell_type": "code",
   "execution_count": 1653,
   "id": "860abe42-ae8f-484f-8f08-446b6bfd4088",
   "metadata": {},
   "outputs": [],
   "source": [
    "#data['idb']= data[['State_Factor','building_class','facility_type','year_built']].apply(lambda x: '{}{}{}{}'.format(x[0],x[1],x[2],x[3]), axis=1)"
   ]
  },
  {
   "cell_type": "code",
   "execution_count": 1652,
   "id": "b1e0a9fd-0d3d-415a-917d-942456d25485",
   "metadata": {},
   "outputs": [
    {
     "data": {
      "text/html": [
       "<div>\n",
       "<style scoped>\n",
       "    .dataframe tbody tr th:only-of-type {\n",
       "        vertical-align: middle;\n",
       "    }\n",
       "\n",
       "    .dataframe tbody tr th {\n",
       "        vertical-align: top;\n",
       "    }\n",
       "\n",
       "    .dataframe thead th {\n",
       "        text-align: right;\n",
       "    }\n",
       "</style>\n",
       "<table border=\"1\" class=\"dataframe\">\n",
       "  <thead>\n",
       "    <tr style=\"text-align: right;\">\n",
       "      <th></th>\n",
       "      <th>count</th>\n",
       "      <th>unique</th>\n",
       "      <th>top</th>\n",
       "      <th>freq</th>\n",
       "    </tr>\n",
       "    <tr>\n",
       "      <th>Year_Factor</th>\n",
       "      <th></th>\n",
       "      <th></th>\n",
       "      <th></th>\n",
       "      <th></th>\n",
       "    </tr>\n",
       "  </thead>\n",
       "  <tbody>\n",
       "    <tr>\n",
       "      <th>1</th>\n",
       "      <td>2117</td>\n",
       "      <td>2111</td>\n",
       "      <td>State_6CommercialNursing_Home1972220000</td>\n",
       "      <td>2</td>\n",
       "    </tr>\n",
       "    <tr>\n",
       "      <th>2</th>\n",
       "      <td>9058</td>\n",
       "      <td>8878</td>\n",
       "      <td>State_6ResidentialMultifamily_Uncategorized193...</td>\n",
       "      <td>6</td>\n",
       "    </tr>\n",
       "    <tr>\n",
       "      <th>3</th>\n",
       "      <td>10879</td>\n",
       "      <td>10687</td>\n",
       "      <td>State_6ResidentialMultifamily_Uncategorized193...</td>\n",
       "      <td>6</td>\n",
       "    </tr>\n",
       "    <tr>\n",
       "      <th>4</th>\n",
       "      <td>12946</td>\n",
       "      <td>12746</td>\n",
       "      <td>State_6ResidentialMultifamily_Uncategorized193...</td>\n",
       "      <td>6</td>\n",
       "    </tr>\n",
       "    <tr>\n",
       "      <th>5</th>\n",
       "      <td>18308</td>\n",
       "      <td>18062</td>\n",
       "      <td>State_6ResidentialMultifamily_Uncategorized195...</td>\n",
       "      <td>6</td>\n",
       "    </tr>\n",
       "    <tr>\n",
       "      <th>6</th>\n",
       "      <td>22449</td>\n",
       "      <td>22127</td>\n",
       "      <td>State_4ResidentialMultifamily_Uncategorized195...</td>\n",
       "      <td>6</td>\n",
       "    </tr>\n",
       "    <tr>\n",
       "      <th>7</th>\n",
       "      <td>9705</td>\n",
       "      <td>9663</td>\n",
       "      <td>State_4ResidentialMultifamily_Uncategorized195...</td>\n",
       "      <td>6</td>\n",
       "    </tr>\n",
       "  </tbody>\n",
       "</table>\n",
       "</div>"
      ],
      "text/plain": [
       "             count unique                                                top  \\\n",
       "Year_Factor                                                                    \n",
       "1             2117   2111            State_6CommercialNursing_Home1972220000   \n",
       "2             9058   8878  State_6ResidentialMultifamily_Uncategorized193...   \n",
       "3            10879  10687  State_6ResidentialMultifamily_Uncategorized193...   \n",
       "4            12946  12746  State_6ResidentialMultifamily_Uncategorized193...   \n",
       "5            18308  18062  State_6ResidentialMultifamily_Uncategorized195...   \n",
       "6            22449  22127  State_4ResidentialMultifamily_Uncategorized195...   \n",
       "7             9705   9663  State_4ResidentialMultifamily_Uncategorized195...   \n",
       "\n",
       "            freq  \n",
       "Year_Factor       \n",
       "1              2  \n",
       "2              6  \n",
       "3              6  \n",
       "4              6  \n",
       "5              6  \n",
       "6              6  \n",
       "7              6  "
      ]
     },
     "execution_count": 1652,
     "metadata": {},
     "output_type": "execute_result"
    }
   ],
   "source": [
    "data.groupby(['Year_Factor'])['id2'].describe()"
   ]
  },
  {
   "cell_type": "code",
   "execution_count": 1664,
   "id": "6ab831d2-71c3-4f80-88fb-ce6856df5d9e",
   "metadata": {},
   "outputs": [
    {
     "data": {
      "text/plain": [
       "State_1CommercialGrocery_store_or_food_market194261242    6\n",
       "State_1CommercialOffice_Uncategorized1921246955           6\n",
       "State_1CommercialOffice_Uncategorized192155785            6\n",
       "State_1CommercialOffice_Uncategorized1922106052           6\n",
       "State_1CommercialOffice_Uncategorized1921660631           6\n",
       "                                                         ..\n",
       "State_6ResidentialMultifamily_Uncategorized2006101452     1\n",
       "State_6ResidentialMultifamily_Uncategorized1991146070     1\n",
       "State_6CommercialOffice_Uncategorized1878181000           1\n",
       "State_6ResidentialMultifamily_Uncategorized201368925      1\n",
       "State_11Residential5plus_Unit_Building191040489           1\n",
       "Name: id2, Length: 26760, dtype: int64"
      ]
     },
     "execution_count": 1664,
     "metadata": {},
     "output_type": "execute_result"
    }
   ],
   "source": [
    "data[data.Year_Factor<7].id2.value_counts().sort_values(ascending=False)"
   ]
  },
  {
   "cell_type": "code",
   "execution_count": 1665,
   "id": "5a238c55-6fc1-46dd-94f2-3396f0a1a436",
   "metadata": {},
   "outputs": [
    {
     "data": {
      "text/plain": [
       "State_4ResidentialMultifamily_Uncategorized1950593107     6\n",
       "State_4ResidentialMultifamily_Uncategorized19521075007    5\n",
       "State_4ResidentialMultifamily_Uncategorized19602892677    5\n",
       "State_4ResidentialMultifamily_Uncategorized1995540967     4\n",
       "State_4ResidentialMultifamily_Uncategorized1964671337     4\n",
       "                                                         ..\n",
       "State_11Residential5plus_Unit_Building200225514           1\n",
       "State_11Residential5plus_Unit_Building2008197368          1\n",
       "State_11Residential5plus_Unit_Building199633456           1\n",
       "State_11Residential5plus_Unit_Building198987645           1\n",
       "State_11Residential5plus_Unit_Building199445640           1\n",
       "Name: id2, Length: 9663, dtype: int64"
      ]
     },
     "execution_count": 1665,
     "metadata": {},
     "output_type": "execute_result"
    }
   ],
   "source": [
    "data[data.Year_Factor==7].id2.value_counts().sort_values(ascending=False)"
   ]
  },
  {
   "cell_type": "code",
   "execution_count": 1666,
   "id": "118c31a5-c29b-4414-a475-e885c954df11",
   "metadata": {},
   "outputs": [
    {
     "data": {
      "text/plain": [
       "State_1CommercialGrocery_store_or_food_market194261242      7\n",
       "State_1CommercialOffice_Uncategorized1905174765             7\n",
       "State_1CommercialOffice_Uncategorized1979239133             7\n",
       "State_1CommercialLodging_Hotel191254882                     7\n",
       "State_1CommercialRetail_Uncategorized2006337000             7\n",
       "                                                           ..\n",
       "State_6CommercialEducation_Preschool_or_daycare192214790    1\n",
       "State_6CommercialEducation_Other_classroom1931138004        1\n",
       "State_6CommercialEducation_Other_classroom2001141261        1\n",
       "State_6CommercialEducation_Other_classroom2012150744        1\n",
       "State_11Residential5plus_Unit_Building2016185611            1\n",
       "Name: id2, Length: 27424, dtype: int64"
      ]
     },
     "execution_count": 1666,
     "metadata": {},
     "output_type": "execute_result"
    }
   ],
   "source": [
    "data.id2.value_counts().sort_values(ascending=False)"
   ]
  },
  {
   "cell_type": "markdown",
   "id": "582bf1a0-8c6a-42f3-bb36-33cb4df47023",
   "metadata": {},
   "source": [
    "### Elijo las columnas a ser usadas en los lags, los lags incluyen del 1 al 6 (si existen y sino se reempalzan por nan)"
   ]
  },
  {
   "cell_type": "code",
   "execution_count": 1667,
   "id": "c2a7e400-0f34-4fad-9e92-5a5ec534a51b",
   "metadata": {},
   "outputs": [],
   "source": [
    "def make_lag(data,feature,i):\n",
    "    data[feature+'_lag'+str(i)] = (data.groupby('id2',as_index=False)\n",
    "                          .apply(lambda x: x[feature].shift(1))\n",
    "                          .reset_index(level=0, drop=True))\n",
    "    return data"
   ]
  },
  {
   "cell_type": "code",
   "execution_count": 1658,
   "id": "6b64801c-e9cb-4a99-a59f-086d323bd854",
   "metadata": {},
   "outputs": [],
   "source": [
    "#columnas=['energy_star_rating', 'january_min_temp', 'january_avg_temp', 'january_max_temp','february_min_temp', 'february_avg_temp', 'february_max_temp','march_min_temp', 'march_avg_temp', 'march_max_temp', 'april_min_temp',\n",
    "#'april_avg_temp', 'april_max_temp', 'may_min_temp', 'may_avg_temp','may_max_temp', 'june_min_temp', 'june_avg_temp', 'june_max_temp',\n",
    "#'july_min_temp', 'july_avg_temp', 'july_max_temp', 'august_min_temp','august_avg_temp', 'august_max_temp', 'september_min_temp',\n",
    "#'september_avg_temp', 'september_max_temp', 'october_min_temp','october_avg_temp', 'october_max_temp', 'november_min_temp',\n",
    "#'november_avg_temp', 'november_max_temp', 'december_min_temp','december_avg_temp', 'december_max_temp', 'cooling_degree_days','heating_degree_days', 'precipitation_inches', 'snowfall_inches',\n",
    "#'snowdepth_inches', 'avg_temp', 'days_below_30F', 'days_below_20F','days_below_10F', 'days_below_0F', 'days_above_80F', 'days_above_90F',\n",
    "#'days_above_100F', 'days_above_110F', 'direction_max_wind_speed','direction_peak_wind_speed', 'max_wind_speed', 'days_with_fog']\n",
    "\n",
    "columnas=['energy_star_rating','heating_degree_days','cooling_degree_days', 'site_eui']\n",
    "\n",
    "for i in range(1,7):\n",
    "    for columna in columnas:\n",
    "        data[columna+'_lag'+str(i)]=np.nan"
   ]
  },
  {
   "cell_type": "markdown",
   "id": "e91e0266-677b-44cc-a27a-6d0ee31cda1a",
   "metadata": {},
   "source": [
    "### Función que arma lags (se toma su tiempo)"
   ]
  },
  {
   "cell_type": "code",
   "execution_count": 1659,
   "id": "e4ac90b2-811a-4962-b1c2-f1039283abde",
   "metadata": {},
   "outputs": [
    {
     "name": "stdout",
     "output_type": "stream",
     "text": [
      "----------------------------------------------------\n",
      "Year_Factor_7\n",
      "ids distintos en el año:  9663\n",
      "cantidad duplicados: 27\n",
      "ids unicos: 9636\n",
      "año-> 7 con previo-> 6 ids comunes -> 8495 lag-> 1\n",
      "año-> 7 con previo-> 5 ids comunes -> 7202 lag-> 2\n",
      "año-> 7 con previo-> 4 ids comunes -> 2767 lag-> 3\n",
      "año-> 7 con previo-> 3 ids comunes -> 1657 lag-> 4\n",
      "año-> 7 con previo-> 2 ids comunes -> 501 lag-> 5\n",
      "año-> 7 con previo-> 1 ids comunes -> 312 lag-> 6\n",
      "----------------------------------------------------\n",
      "Year_Factor_6\n",
      "ids distintos en el año:  22127\n",
      "cantidad duplicados: 250\n",
      "ids unicos: 21877\n",
      "año-> 6 con previo-> 5 ids comunes -> 15934 lag-> 1\n",
      "año-> 6 con previo-> 4 ids comunes -> 10379 lag-> 2\n",
      "año-> 6 con previo-> 3 ids comunes -> 8590 lag-> 3\n",
      "año-> 6 con previo-> 2 ids comunes -> 7399 lag-> 4\n",
      "año-> 6 con previo-> 1 ids comunes -> 1747 lag-> 5\n",
      "----------------------------------------------------\n",
      "Year_Factor_5\n",
      "ids distintos en el año:  18062\n",
      "cantidad duplicados: 190\n",
      "ids unicos: 17872\n",
      "año-> 5 con previo-> 4 ids comunes -> 10685 lag-> 1\n",
      "año-> 5 con previo-> 3 ids comunes -> 8551 lag-> 2\n",
      "año-> 5 con previo-> 2 ids comunes -> 7261 lag-> 3\n",
      "año-> 5 con previo-> 1 ids comunes -> 1578 lag-> 4\n",
      "----------------------------------------------------\n",
      "Year_Factor_4\n",
      "ids distintos en el año:  12746\n",
      "cantidad duplicados: 158\n",
      "ids unicos: 12588\n",
      "año-> 4 con previo-> 3 ids comunes -> 8585 lag-> 1\n",
      "año-> 4 con previo-> 2 ids comunes -> 6866 lag-> 2\n",
      "año-> 4 con previo-> 1 ids comunes -> 1606 lag-> 3\n",
      "----------------------------------------------------\n",
      "Year_Factor_3\n",
      "ids distintos en el año:  10687\n",
      "cantidad duplicados: 157\n",
      "ids unicos: 10530\n",
      "año-> 3 con previo-> 2 ids comunes -> 6705 lag-> 1\n",
      "año-> 3 con previo-> 1 ids comunes -> 1450 lag-> 2\n",
      "----------------------------------------------------\n",
      "Year_Factor_2\n",
      "ids distintos en el año:  8878\n",
      "cantidad duplicados: 142\n",
      "ids unicos: 8736\n",
      "año-> 2 con previo-> 1 ids comunes -> 1626 lag-> 1\n",
      "----------------------------------------------------\n",
      "Year_Factor_1\n",
      "ids distintos en el año:  2111\n",
      "cantidad duplicados: 6\n",
      "ids unicos: 2105\n"
     ]
    }
   ],
   "source": [
    "for i in range(7,0,-1):\n",
    "    print('----------------------------------------------------')   \n",
    "    print('Year_Factor_'+str(i))   \n",
    "    df=data[(data['Year_Factor']==i)]\n",
    "    t=df['id2']\n",
    "    b=df['id2'].unique()\n",
    "    print('ids distintos en el año: ',len(b))\n",
    "    id_duplicados=list_duplicates(t)\n",
    "    res=[]\n",
    "    print('cantidad duplicados:',len(id_duplicados))\n",
    "    [res.append(x) for x in b if x not in id_duplicados]\n",
    "    print('ids unicos:',len(res))\n",
    "    rowIndex = data[(data['id2'].isin(id_duplicados))&(data.Year_Factor==i)].index\n",
    "    data.loc[rowIndex,['id2']]=data.loc[rowIndex,['id2']]+str(i)\n",
    "    \n",
    "    resIndex = data[(data['id2'].isin(res))&(data.Year_Factor==i)].index\n",
    "        \n",
    "    for j in range(7,0,-1):\n",
    "        if (i>j):\n",
    "            dfx=data[(data['Year_Factor']==j)]\n",
    "            a=(dfx.id2.unique())\n",
    "            comunes=(set(a) & set(res))\n",
    "            print('año->',i,'con previo->',j,'ids comunes ->',len(comunes),'lag->',i-j)\n",
    "            cIndex = data.loc[(data[data.id2.isin(comunes)].index)&(data[(data.Year_Factor==i) | (data.Year_Factor==j)].index)].index\n",
    "            for columna in columnas:\n",
    "                data.loc[cIndex]=make_lag(data.loc[cIndex],columna,i-j)"
   ]
  },
  {
   "cell_type": "code",
   "execution_count": 1710,
   "id": "26ab255d-8643-4edc-a862-a5f0b884045d",
   "metadata": {},
   "outputs": [],
   "source": [
    "#rowIndex=data[data.Year_Factor==7].energy_star_rating.notnull().index"
   ]
  },
  {
   "cell_type": "code",
   "execution_count": 1716,
   "id": "f6481621-7c5d-4929-a045-d23342d537df",
   "metadata": {},
   "outputs": [],
   "source": [
    "#rowIndex=data[data.energy_star_rating_lag1.notnull()].index\n",
    "#data.loc[rowIndex][['Year_Factor','energy_star_rating','site_eui','ELEVATION','cooling_degree_days','heating_degree_days']]"
   ]
  },
  {
   "cell_type": "code",
   "execution_count": 1717,
   "id": "44c2dc5c-3145-4b28-9a55-a7b4707722ae",
   "metadata": {},
   "outputs": [
    {
     "data": {
      "text/plain": [
       "Year_Factor                     0\n",
       "State_Factor                    0\n",
       "building_class                  0\n",
       "facility_type                   0\n",
       "floor_area                      0\n",
       "                            ...  \n",
       "site_eui_lag6               85150\n",
       "energy_star_rating_last     49719\n",
       "heating_degree_days_last    28368\n",
       "cooling_degree_days_last    28368\n",
       "site_eui_last               28368\n",
       "Length: 93, dtype: int64"
      ]
     },
     "execution_count": 1717,
     "metadata": {},
     "output_type": "execute_result"
    }
   ],
   "source": [
    "data.isnull().sum()"
   ]
  },
  {
   "cell_type": "code",
   "execution_count": 1694,
   "id": "07ecc183-8f27-4bc7-975d-f16079ffa4bc",
   "metadata": {},
   "outputs": [
    {
     "data": {
      "text/plain": [
       "Index(['Year_Factor', 'State_Factor', 'building_class', 'facility_type',\n",
       "       'floor_area', 'year_built', 'energy_star_rating', 'ELEVATION',\n",
       "       'january_min_temp', 'january_avg_temp', 'january_max_temp',\n",
       "       'february_min_temp', 'february_avg_temp', 'february_max_temp',\n",
       "       'march_min_temp', 'march_avg_temp', 'march_max_temp', 'april_min_temp',\n",
       "       'april_avg_temp', 'april_max_temp', 'may_min_temp', 'may_avg_temp',\n",
       "       'may_max_temp', 'june_min_temp', 'june_avg_temp', 'june_max_temp',\n",
       "       'july_min_temp', 'july_avg_temp', 'july_max_temp', 'august_min_temp',\n",
       "       'august_avg_temp', 'august_max_temp', 'september_min_temp',\n",
       "       'september_avg_temp', 'september_max_temp', 'october_min_temp',\n",
       "       'october_avg_temp', 'october_max_temp', 'november_min_temp',\n",
       "       'november_avg_temp', 'november_max_temp', 'december_min_temp',\n",
       "       'december_avg_temp', 'december_max_temp', 'cooling_degree_days',\n",
       "       'heating_degree_days', 'precipitation_inches', 'snowfall_inches',\n",
       "       'snowdepth_inches', 'avg_temp', 'days_below_30F', 'days_below_20F',\n",
       "       'days_below_10F', 'days_below_0F', 'days_above_80F', 'days_above_90F',\n",
       "       'days_above_100F', 'days_above_110F', 'direction_max_wind_speed',\n",
       "       'direction_peak_wind_speed', 'max_wind_speed', 'days_with_fog',\n",
       "       'site_eui', 'id', 'id2', 'energy_star_rating_lag1',\n",
       "       'heating_degree_days_lag1', 'cooling_degree_days_lag1', 'site_eui_lag1',\n",
       "       'energy_star_rating_lag2', 'heating_degree_days_lag2',\n",
       "       'cooling_degree_days_lag2', 'site_eui_lag2', 'energy_star_rating_lag3',\n",
       "       'heating_degree_days_lag3', 'cooling_degree_days_lag3', 'site_eui_lag3',\n",
       "       'energy_star_rating_lag4', 'heating_degree_days_lag4',\n",
       "       'cooling_degree_days_lag4', 'site_eui_lag4', 'energy_star_rating_lag5',\n",
       "       'heating_degree_days_lag5', 'cooling_degree_days_lag5', 'site_eui_lag5',\n",
       "       'energy_star_rating_lag6', 'heating_degree_days_lag6',\n",
       "       'cooling_degree_days_lag6', 'site_eui_lag6'],\n",
       "      dtype='object')"
      ]
     },
     "execution_count": 1694,
     "metadata": {},
     "output_type": "execute_result"
    }
   ],
   "source": [
    "data.columns # se inluyen lags"
   ]
  },
  {
   "cell_type": "markdown",
   "id": "b242c477-0656-401d-9d98-ebe450c49640",
   "metadata": {},
   "source": [
    "### Implemento \"last\" como la media de los lags disponibles de las columnas elegidas "
   ]
  },
  {
   "cell_type": "code",
   "execution_count": 1744,
   "id": "5f259471-33fa-4ebb-babf-4684048ee84d",
   "metadata": {},
   "outputs": [],
   "source": [
    "columnas_last=[]\n",
    "for columna in columnas:\n",
    "    data[columna+'_last']=data[[columna+'_lag1',columna+'_lag2',columna+'_lag3',columna+'_lag4',columna+'_lag5',columna+'_lag6']].mean(axis=1)\n",
    "    columnas_last.append(columna+'_last')"
   ]
  },
  {
   "cell_type": "code",
   "execution_count": 1735,
   "id": "bc70f0c4-0805-42e9-9a79-d6b0690886a3",
   "metadata": {},
   "outputs": [
    {
     "data": {
      "text/plain": [
       "['energy_star_rating_last',\n",
       " 'heating_degree_days_last',\n",
       " 'cooling_degree_days_last',\n",
       " 'site_eui_last']"
      ]
     },
     "execution_count": 1735,
     "metadata": {},
     "output_type": "execute_result"
    }
   ],
   "source": [
    "columnas_last"
   ]
  },
  {
   "cell_type": "code",
   "execution_count": 1745,
   "id": "e2c36f80-61ab-4717-b492-f5aef02dde29",
   "metadata": {},
   "outputs": [
    {
     "data": {
      "text/plain": [
       "[<matplotlib.lines.Line2D at 0x1b896e3c820>]"
      ]
     },
     "execution_count": 1745,
     "metadata": {},
     "output_type": "execute_result"
    },
    {
     "data": {
      "image/png": "[encoded data removed]",
      "text/plain": [
       "<Figure size 432x288 with 1 Axes>"
      ]
     },
     "metadata": {
      "needs_background": "light"
     },
     "output_type": "display_data"
    }
   ],
   "source": [
    "plt.plot(data.heating_degree_days_last,'x')\n",
    "plt.plot(data.cooling_degree_days_last,'o')"
   ]
  },
  {
   "cell_type": "markdown",
   "id": "71ba305b-69f0-4a9b-9328-246ccc5b52c1",
   "metadata": {},
   "source": [
    "## Armados los lags e _hist separo el dataset de train y test (train_ampliado y test_ampliado)"
   ]
  },
  {
   "cell_type": "code",
   "execution_count": 1698,
   "id": "d717d7b2-2f87-4e9c-b2ed-3da22f86b440",
   "metadata": {},
   "outputs": [],
   "source": [
    "train_ampliado=data[data.Year_Factor<7]\n",
    "test_ampliado=data[data.Year_Factor==7]\n",
    "test_ampliado.index=test_ampliado.index-len(train_ampliado)"
   ]
  },
  {
   "cell_type": "markdown",
   "id": "2c458e13-822f-4bc5-a417-e33496ee8e26",
   "metadata": {},
   "source": [
    "# 4. Modelos"
   ]
  },
  {
   "cell_type": "markdown",
   "id": "0eabcf75-9552-480e-aa06-04b96c6d39d6",
   "metadata": {},
   "source": [
    "### Selecciono features"
   ]
  },
  {
   "cell_type": "code",
   "execution_count": 1746,
   "id": "68849868-039e-4fca-bfc6-486f04a0db42",
   "metadata": {},
   "outputs": [],
   "source": [
    "features_selected=list(train.columns)+columnas_last #no uso lags sino last"
   ]
  },
  {
   "cell_type": "code",
   "execution_count": 1702,
   "id": "16f7c815-5340-4878-bade-476fdd1756e7",
   "metadata": {},
   "outputs": [
    {
     "name": "stdout",
     "output_type": "stream",
     "text": [
      "['State_Factor', 'building_class', 'facility_type', 'floor_area', 'year_built']\n"
     ]
    }
   ],
   "source": [
    "X_train=train_ampliado[features_selected]\n",
    "X_train = X_train.drop(['site_eui','id'],axis=1)\n",
    "cat_features = list(X_train.select_dtypes(include=['object']).columns)\n",
    "print(cat_features)\n",
    "y = train_ampliado.site_eui\n",
    "y\n",
    "\n",
    "X_test=test_ampliado\n",
    "X_test=X_test[features_selected]\n",
    "X_test = X_test.drop(['id','site_eui'], axis=1)"
   ]
  },
  {
   "cell_type": "markdown",
   "id": "9e301f88-2fb5-47e6-8330-2b63569d47d6",
   "metadata": {},
   "source": [
    "### Modelo 1 - Sin CV, default params -> Kaggle score: 25.705"
   ]
  },
  {
   "cell_type": "code",
   "execution_count": 1703,
   "id": "ed1b1bde-fc2d-4d96-9321-ef508b4d00e6",
   "metadata": {},
   "outputs": [
    {
     "name": "stdout",
     "output_type": "stream",
     "text": [
      "Learning rate set to 0.08112\n",
      "0:\tlearn: 56.2693864\ttotal: 112ms\tremaining: 1m 52s\n",
      "100:\tlearn: 34.5364299\ttotal: 11s\tremaining: 1m 37s\n",
      "200:\tlearn: 33.3791988\ttotal: 21.7s\tremaining: 1m 26s\n",
      "300:\tlearn: 32.6948804\ttotal: 32.7s\tremaining: 1m 15s\n",
      "400:\tlearn: 31.7509656\ttotal: 45.2s\tremaining: 1m 7s\n",
      "500:\tlearn: 31.0287485\ttotal: 56.3s\tremaining: 56.1s\n",
      "600:\tlearn: 30.5436560\ttotal: 1m 7s\tremaining: 44.7s\n",
      "700:\tlearn: 29.8360755\ttotal: 1m 18s\tremaining: 33.5s\n",
      "800:\tlearn: 29.1824546\ttotal: 1m 29s\tremaining: 22.4s\n",
      "900:\tlearn: 28.7670453\ttotal: 1m 41s\tremaining: 11.1s\n",
      "999:\tlearn: 28.3051166\ttotal: 1m 52s\tremaining: 0us\n"
     ]
    },
    {
     "data": {
      "text/plain": [
       "<catboost.core.CatBoostRegressor at 0x1b89677d760>"
      ]
     },
     "execution_count": 1703,
     "metadata": {},
     "output_type": "execute_result"
    }
   ],
   "source": [
    "model_1 = CatBoostRegressor(cat_features = cat_features,verbose = 100, max_ctr_complexity = 6) #\n",
    "model_1.fit(X_train,y)"
   ]
  },
  {
   "cell_type": "code",
   "execution_count": 1704,
   "id": "34849d14-b6c3-4ec6-a2f4-f4c520e21799",
   "metadata": {},
   "outputs": [],
   "source": [
    "y_predict=model_1.predict(X_test)\n",
    "y_predict[y_predict<0]=1\n",
    "submit['site_eui'] = y_predict\n",
    "submit.to_csv('model_1_last.csv',index=False)"
   ]
  },
  {
   "cell_type": "code",
   "execution_count": 1705,
   "id": "6a048417-ebe9-4a2a-a5e2-ce17c8bb4269",
   "metadata": {},
   "outputs": [
    {
     "data": {
      "image/png": "[encoded data removed]",
      "text/plain": [
       "<Figure size 576x360 with 1 Axes>"
      ]
     },
     "metadata": {
      "needs_background": "light"
     },
     "output_type": "display_data"
    }
   ],
   "source": [
    "df_feature_importance = pd.DataFrame(model_1.get_feature_importance(prettified=True))\n",
    "plt.figure(figsize=(8, 5));\n",
    "feature_plot= sns.barplot(x=\"Importances\", y=\"Feature Id\", data=df_feature_importance[:30],palette=\"cool\");\n",
    "plt.title('features importance');"
   ]
  },
  {
   "cell_type": "code",
   "execution_count": 1706,
   "id": "cfa9324d-22bd-494b-8561-07bd866e5091",
   "metadata": {},
   "outputs": [],
   "source": [
    "#le = LabelEncoder()\n",
    "\n",
    "#for i in X_train.columns:\n",
    "#    if X_train[i].dtypes == 'object':\n",
    "#        X_train[i] = le.fit_transform(X_train[i])\n",
    "#        print(i)\n",
    "\n",
    "#for i in X_test.columns:\n",
    "#    if X_test[i].dtypes == 'object':\n",
    "#        X_test[i] = le.fit_transform(X_test[i])\n",
    "#        print(i)"
   ]
  },
  {
   "cell_type": "markdown",
   "id": "7f10c35e-254c-4106-9eed-f46fc5b32279",
   "metadata": {},
   "source": [
    "### Modelo 2 - CV para manejar lags e históricos -> Kaggle Score: 29.448\n",
    "+  entreno en años < year y valido en year"
   ]
  },
  {
   "cell_type": "code",
   "execution_count": 1718,
   "id": "c07d72ca-a403-4198-ab77-b3679ea7f4a1",
   "metadata": {},
   "outputs": [],
   "source": [
    "def get_model():\n",
    "    cat_params = {\n",
    "        'iterations': 10000,\n",
    "        'learning_rate': 0.025,\n",
    "        'od_wait': 1000,\n",
    "        'depth': 8,\n",
    "        #'task_type' : 'GPU',\n",
    "        #'devices' : '0',\n",
    "        'verbose' : 1000,\n",
    "        \"objective\": \"RMSE\",\n",
    "        \"loss_function\": \"RMSE\",\n",
    "        \"cat_features\" : cat_features\n",
    "    }\n",
    "    model =  CatBoostRegressor(**cat_params)\n",
    "    return model"
   ]
  },
  {
   "cell_type": "code",
   "execution_count": 1507,
   "id": "df04c12c-0bba-409f-8650-72be6d6c0bc2",
   "metadata": {},
   "outputs": [
    {
     "name": "stderr",
     "output_type": "stream",
     "text": [
      "Custom logger is already specified. Specify more than one logger at same time is not thread safe."
     ]
    },
    {
     "name": "stdout",
     "output_type": "stream",
     "text": [
      "0:\tlearn: 59.7086723\ttest: 60.6967096\tbest: 60.6967096 (0)\ttotal: 97.9ms\tremaining: 16m 18s\n",
      "1000:\tlearn: 39.9444519\ttest: 49.0981931\tbest: 48.8446599 (472)\ttotal: 1m 14s\tremaining: 11m 6s\n",
      "Stopped by overfitting detector  (1000 iterations wait)\n",
      "\n",
      "bestTest = 48.84465992\n",
      "bestIteration = 472\n",
      "\n",
      "Shrink model to first 473 iterations.\n",
      "0:\tlearn: 60.0938794\ttest: 57.8324923\tbest: 57.8324923 (0)\ttotal: 94.4ms\tremaining: 15m 43s\n",
      "1000:\tlearn: 40.9823393\ttest: 35.3952866\tbest: 35.3300064 (788)\ttotal: 1m 14s\tremaining: 11m 5s\n",
      "Stopped by overfitting detector  (1000 iterations wait)\n",
      "\n",
      "bestTest = 35.33000636\n",
      "bestIteration = 788\n",
      "\n",
      "Shrink model to first 789 iterations.\n",
      "0:\tlearn: 59.2059068\ttest: 56.1820757\tbest: 56.1820757 (0)\ttotal: 97.3ms\tremaining: 16m 12s\n",
      "1000:\tlearn: 33.7356764\ttest: 45.7942429\tbest: 40.4005992 (143)\ttotal: 1m 25s\tremaining: 12m 52s\n",
      "Stopped by overfitting detector  (1000 iterations wait)\n",
      "\n",
      "bestTest = 40.40059923\n",
      "bestIteration = 143\n",
      "\n",
      "Shrink model to first 144 iterations.\n",
      "0:\tlearn: 58.1001054\ttest: 56.4223939\tbest: 56.4223939 (0)\ttotal: 98.1ms\tremaining: 16m 20s\n",
      "1000:\tlearn: 30.4738221\ttest: 31.9254028\tbest: 31.6740696 (538)\ttotal: 1m 33s\tremaining: 14m 2s\n",
      "Stopped by overfitting detector  (1000 iterations wait)\n",
      "\n",
      "bestTest = 31.6740696\n",
      "bestIteration = 538\n",
      "\n",
      "Shrink model to first 539 iterations.\n"
     ]
    }
   ],
   "source": [
    "from sklearn import model_selection\n",
    "kfold = model_selection.KFold(7, shuffle=True, random_state=2022)\n",
    "models = []\n",
    "train_with_k_fold = False\n",
    "apply_psudo_labeling = False\n",
    "\n",
    "\n",
    "for year in range(2,6):\n",
    "    train_indices=X_train[X_train.Year_Factor<=year].index\n",
    "    val_indices=X_train[X_train.Year_Factor==year+1].index\n",
    "    X_train_cv = X_train.iloc[train_indices]\n",
    "    y_train_cv = y.iloc[train_indices]\n",
    "    X_val_cv = X_train.iloc[val_indices]\n",
    "    y_val_cv = y.iloc[val_indices]\n",
    "    model = get_model()\n",
    "    model.fit(X_train_cv, y_train_cv, eval_set=(X_val_cv, y_val_cv))\n",
    "    models.append(model)"
   ]
  },
  {
   "cell_type": "code",
   "execution_count": 1510,
   "id": "a43c7fdb-1f6a-4147-a483-1b6872fce3ba",
   "metadata": {},
   "outputs": [
    {
     "data": {
      "text/plain": [
       "array([159.15295933, 261.04718239, 192.56008579, ...,  41.68954474,\n",
       "        49.42213736,  43.78576288])"
      ]
     },
     "execution_count": 1510,
     "metadata": {},
     "output_type": "execute_result"
    }
   ],
   "source": [
    "y_predict=np.median([model.predict(X_test) for model in models], axis=0)\n",
    "y_predict"
   ]
  },
  {
   "cell_type": "code",
   "execution_count": 1511,
   "id": "6d6ace54-715a-40c7-968b-3825cc553b4a",
   "metadata": {},
   "outputs": [
    {
     "data": {
      "text/html": [
       "<div>\n",
       "<style scoped>\n",
       "    .dataframe tbody tr th:only-of-type {\n",
       "        vertical-align: middle;\n",
       "    }\n",
       "\n",
       "    .dataframe tbody tr th {\n",
       "        vertical-align: top;\n",
       "    }\n",
       "\n",
       "    .dataframe thead th {\n",
       "        text-align: right;\n",
       "    }\n",
       "</style>\n",
       "<table border=\"1\" class=\"dataframe\">\n",
       "  <thead>\n",
       "    <tr style=\"text-align: right;\">\n",
       "      <th></th>\n",
       "      <th>id</th>\n",
       "      <th>site_eui</th>\n",
       "    </tr>\n",
       "  </thead>\n",
       "  <tbody>\n",
       "    <tr>\n",
       "      <th>0</th>\n",
       "      <td>75757</td>\n",
       "      <td>159.152959</td>\n",
       "    </tr>\n",
       "    <tr>\n",
       "      <th>1</th>\n",
       "      <td>75758</td>\n",
       "      <td>261.047182</td>\n",
       "    </tr>\n",
       "    <tr>\n",
       "      <th>2</th>\n",
       "      <td>75759</td>\n",
       "      <td>192.560086</td>\n",
       "    </tr>\n",
       "    <tr>\n",
       "      <th>3</th>\n",
       "      <td>75760</td>\n",
       "      <td>255.809353</td>\n",
       "    </tr>\n",
       "    <tr>\n",
       "      <th>4</th>\n",
       "      <td>75761</td>\n",
       "      <td>235.086598</td>\n",
       "    </tr>\n",
       "  </tbody>\n",
       "</table>\n",
       "</div>"
      ],
      "text/plain": [
       "      id    site_eui\n",
       "0  75757  159.152959\n",
       "1  75758  261.047182\n",
       "2  75759  192.560086\n",
       "3  75760  255.809353\n",
       "4  75761  235.086598"
      ]
     },
     "execution_count": 1511,
     "metadata": {},
     "output_type": "execute_result"
    }
   ],
   "source": [
    "submit['site_eui'] = y_predict\n",
    "submit.to_csv('modelo_cv_last.csv',index=False)\n",
    "submit.head()"
   ]
  },
  {
   "cell_type": "code",
   "execution_count": 1516,
   "id": "bfb18928-6201-4115-bb42-b6a6072b8b57",
   "metadata": {},
   "outputs": [
    {
     "data": {
      "image/png": "[encoded data removed]",
      "text/plain": [
       "<Figure size 576x360 with 1 Axes>"
      ]
     },
     "metadata": {
      "needs_background": "light"
     },
     "output_type": "display_data"
    }
   ],
   "source": [
    "df_feature_importance = pd.DataFrame(models[0].get_feature_importance(prettified=True))\n",
    "plt.figure(figsize=(8, 5));\n",
    "feature_plot= sns.barplot(x=\"Importances\", y=\"Feature Id\", data=df_feature_importance[:30],palette=\"cool\");\n",
    "plt.title('features importance');"
   ]
  },
  {
   "cell_type": "markdown",
   "id": "44733b5b-6be6-4695-a78c-dfe251a5cc98",
   "metadata": {},
   "source": [
    "### Modelo 3 - CV clásico shuffle (puede tener problemas con lags e históricos) -> Kaggle Score: 23.114"
   ]
  },
  {
   "cell_type": "code",
   "execution_count": 1512,
   "id": "fa684664-32b2-425b-9322-9c00a68f2d65",
   "metadata": {},
   "outputs": [
    {
     "name": "stdout",
     "output_type": "stream",
     "text": [
      "0:\tlearn: 57.7782407\ttest: 56.8570586\tbest: 56.8570586 (0)\ttotal: 140ms\tremaining: 23m 15s\n",
      "1000:\tlearn: 29.8564157\ttest: 30.7740736\tbest: 30.7740736 (1000)\ttotal: 2m 16s\tremaining: 20m 31s\n",
      "2000:\tlearn: 25.5496536\ttest: 30.0764788\tbest: 30.0660850 (1964)\ttotal: 4m 41s\tremaining: 18m 44s\n",
      "3000:\tlearn: 23.6125806\ttest: 29.8997177\tbest: 29.8982264 (2984)\ttotal: 7m 4s\tremaining: 16m 29s\n",
      "4000:\tlearn: 21.9733037\ttest: 30.0842937\tbest: 29.8957983 (3203)\ttotal: 9m 30s\tremaining: 14m 15s\n",
      "Stopped by overfitting detector  (1000 iterations wait)\n",
      "\n",
      "bestTest = 29.89579827\n",
      "bestIteration = 3203\n",
      "\n",
      "Shrink model to first 3204 iterations.\n",
      "0:\tlearn: 57.1108169\ttest: 59.5414792\tbest: 59.5414792 (0)\ttotal: 136ms\tremaining: 22m 43s\n",
      "1000:\tlearn: 28.9419195\ttest: 32.5735622\tbest: 32.5600639 (995)\ttotal: 2m 20s\tremaining: 21m 6s\n",
      "2000:\tlearn: 25.6131450\ttest: 31.7197307\tbest: 31.7024164 (1918)\ttotal: 4m 45s\tremaining: 19m 1s\n",
      "3000:\tlearn: 23.6059359\ttest: 31.4920284\tbest: 31.4903622 (2874)\ttotal: 7m 14s\tremaining: 16m 53s\n",
      "4000:\tlearn: 21.9659428\ttest: 31.4186871\tbest: 31.3921957 (3374)\ttotal: 9m 41s\tremaining: 14m 32s\n",
      "5000:\tlearn: 20.6683406\ttest: 31.3591290\tbest: 31.3182658 (4658)\ttotal: 12m 4s\tremaining: 12m 4s\n",
      "6000:\tlearn: 19.6401002\ttest: 31.3121114\tbest: 31.3016256 (5915)\ttotal: 14m 32s\tremaining: 9m 41s\n",
      "7000:\tlearn: 18.7358722\ttest: 31.3171942\tbest: 31.2770061 (6517)\ttotal: 16m 57s\tremaining: 7m 15s\n",
      "Stopped by overfitting detector  (1000 iterations wait)\n",
      "\n",
      "bestTest = 31.27700605\n",
      "bestIteration = 6517\n",
      "\n",
      "Shrink model to first 6518 iterations.\n",
      "0:\tlearn: 57.9923793\ttest: 55.8889351\tbest: 55.8889351 (0)\ttotal: 109ms\tremaining: 18m 5s\n",
      "1000:\tlearn: 30.8991522\ttest: 30.8269261\tbest: 30.8261747 (998)\ttotal: 1m 56s\tremaining: 17m 23s\n",
      "2000:\tlearn: 27.1615380\ttest: 29.4452549\tbest: 29.4440279 (1995)\ttotal: 3m 53s\tremaining: 15m 32s\n",
      "3000:\tlearn: 24.8718167\ttest: 28.9480974\tbest: 28.9480289 (2988)\ttotal: 5m 51s\tremaining: 13m 40s\n",
      "4000:\tlearn: 22.9121868\ttest: 28.5904365\tbest: 28.5904365 (4000)\ttotal: 7m 51s\tremaining: 11m 46s\n",
      "5000:\tlearn: 21.5382911\ttest: 28.4253830\tbest: 28.4235794 (4899)\ttotal: 9m 50s\tremaining: 9m 50s\n",
      "6000:\tlearn: 20.3817951\ttest: 28.3831124\tbest: 28.3655582 (5860)\ttotal: 11m 49s\tremaining: 7m 52s\n",
      "Stopped by overfitting detector  (1000 iterations wait)\n",
      "\n",
      "bestTest = 28.36555824\n",
      "bestIteration = 5860\n",
      "\n",
      "Shrink model to first 5861 iterations.\n",
      "0:\tlearn: 57.3426939\ttest: 58.4540601\tbest: 58.4540601 (0)\ttotal: 124ms\tremaining: 20m 35s\n",
      "1000:\tlearn: 30.7777188\ttest: 36.3843214\tbest: 36.3843214 (1000)\ttotal: 1m 49s\tremaining: 16m 28s\n",
      "2000:\tlearn: 26.8081710\ttest: 35.3908927\tbest: 35.3157042 (1960)\ttotal: 3m 41s\tremaining: 14m 43s\n",
      "3000:\tlearn: 25.0077261\ttest: 34.9009466\tbest: 34.8997710 (2991)\ttotal: 5m 32s\tremaining: 12m 56s\n",
      "4000:\tlearn: 23.4632028\ttest: 34.5815036\tbest: 34.5815036 (4000)\ttotal: 7m 27s\tremaining: 11m 10s\n",
      "5000:\tlearn: 22.0050070\ttest: 34.2687726\tbest: 34.2612542 (4919)\ttotal: 9m 20s\tremaining: 9m 20s\n",
      "6000:\tlearn: 20.9009398\ttest: 34.2085094\tbest: 34.1944553 (5773)\ttotal: 11m 14s\tremaining: 7m 29s\n",
      "Stopped by overfitting detector  (1000 iterations wait)\n",
      "\n",
      "bestTest = 34.19445527\n",
      "bestIteration = 5773\n",
      "\n",
      "Shrink model to first 5774 iterations.\n",
      "0:\tlearn: 57.7100667\ttest: 57.1143569\tbest: 57.1143569 (0)\ttotal: 117ms\tremaining: 19m 34s\n",
      "1000:\tlearn: 30.4593383\ttest: 32.4502239\tbest: 32.4499204 (999)\ttotal: 1m 51s\tremaining: 16m 45s\n",
      "2000:\tlearn: 27.6059298\ttest: 31.6025913\tbest: 31.6004360 (1995)\ttotal: 3m 43s\tremaining: 14m 55s\n",
      "3000:\tlearn: 25.5090656\ttest: 31.2082262\tbest: 31.2081452 (2999)\ttotal: 5m 38s\tremaining: 13m 9s\n",
      "4000:\tlearn: 23.0800922\ttest: 30.7976599\tbest: 30.7976599 (4000)\ttotal: 7m 35s\tremaining: 11m 22s\n",
      "5000:\tlearn: 21.6099803\ttest: 30.6946796\tbest: 30.6946796 (5000)\ttotal: 9m 35s\tremaining: 9m 35s\n",
      "6000:\tlearn: 20.2434838\ttest: 30.7203895\tbest: 30.6078271 (5702)\ttotal: 11m 34s\tremaining: 7m 42s\n",
      "Stopped by overfitting detector  (1000 iterations wait)\n",
      "\n",
      "bestTest = 30.60782709\n",
      "bestIteration = 5702\n",
      "\n",
      "Shrink model to first 5703 iterations.\n"
     ]
    }
   ],
   "source": [
    "from sklearn import model_selection\n",
    "kfold = model_selection.KFold(5, shuffle=True, random_state=2022)\n",
    "models = []\n",
    "train_with_k_fold = False\n",
    "apply_psudo_labeling = False\n",
    "\n",
    "\n",
    "for train_indices, val_indices in kfold.split(X_train):\n",
    "    X_train_cv = X_train.iloc[train_indices]\n",
    "    y_train_cv = y.iloc[train_indices]\n",
    "    X_val_cv = X_train.iloc[val_indices]\n",
    "    y_val_cv = y.iloc[val_indices]\n",
    "    model = get_model()\n",
    "    model.fit(X_train_cv, y_train_cv, eval_set=(X_val_cv, y_val_cv))\n",
    "    models.append(model)"
   ]
  },
  {
   "cell_type": "code",
   "execution_count": 1513,
   "id": "d20e6e0e-fcde-4de7-bb16-7cca654c5792",
   "metadata": {},
   "outputs": [],
   "source": [
    "y_predict=np.mean([model.predict(X_test) for model in models], axis=0)"
   ]
  },
  {
   "cell_type": "code",
   "execution_count": 1514,
   "id": "f2e49a51-ac89-490b-94c9-e218187cc3b7",
   "metadata": {},
   "outputs": [
    {
     "data": {
      "text/html": [
       "<div>\n",
       "<style scoped>\n",
       "    .dataframe tbody tr th:only-of-type {\n",
       "        vertical-align: middle;\n",
       "    }\n",
       "\n",
       "    .dataframe tbody tr th {\n",
       "        vertical-align: top;\n",
       "    }\n",
       "\n",
       "    .dataframe thead th {\n",
       "        text-align: right;\n",
       "    }\n",
       "</style>\n",
       "<table border=\"1\" class=\"dataframe\">\n",
       "  <thead>\n",
       "    <tr style=\"text-align: right;\">\n",
       "      <th></th>\n",
       "      <th>id</th>\n",
       "      <th>site_eui</th>\n",
       "    </tr>\n",
       "  </thead>\n",
       "  <tbody>\n",
       "    <tr>\n",
       "      <th>0</th>\n",
       "      <td>75757</td>\n",
       "      <td>139.360912</td>\n",
       "    </tr>\n",
       "    <tr>\n",
       "      <th>1</th>\n",
       "      <td>75758</td>\n",
       "      <td>256.794872</td>\n",
       "    </tr>\n",
       "    <tr>\n",
       "      <th>2</th>\n",
       "      <td>75759</td>\n",
       "      <td>155.922809</td>\n",
       "    </tr>\n",
       "    <tr>\n",
       "      <th>3</th>\n",
       "      <td>75760</td>\n",
       "      <td>256.087742</td>\n",
       "    </tr>\n",
       "    <tr>\n",
       "      <th>4</th>\n",
       "      <td>75761</td>\n",
       "      <td>246.074995</td>\n",
       "    </tr>\n",
       "  </tbody>\n",
       "</table>\n",
       "</div>"
      ],
      "text/plain": [
       "      id    site_eui\n",
       "0  75757  139.360912\n",
       "1  75758  256.794872\n",
       "2  75759  155.922809\n",
       "3  75760  256.087742\n",
       "4  75761  246.074995"
      ]
     },
     "execution_count": 1514,
     "metadata": {},
     "output_type": "execute_result"
    }
   ],
   "source": [
    "submit['site_eui'] = y_predict\n",
    "submit.to_csv('modelo_cv_overfitting.csv',index=False)\n",
    "submit.head()\n",
    "#38.465"
   ]
  },
  {
   "cell_type": "markdown",
   "id": "2afd8566-2fd6-4b6d-9383-d4113531ef9a",
   "metadata": {},
   "source": [
    "## Modelo 4 - CV-modificado -> Kaggle Score: 22.249\n",
    "\n",
    "+ Se hacen 3 CV sólo del año 6 (para que sea un 10% de train)\n",
    "+ Solo se valida con datos del año 6\n",
    "+ Los 3 usan los mismos datos del año 1 al 5 "
   ]
  },
  {
   "cell_type": "code",
   "execution_count": 1721,
   "id": "abdbc77b-c2c2-4ed4-8283-ef181218e72a",
   "metadata": {},
   "outputs": [
    {
     "name": "stdout",
     "output_type": "stream",
     "text": [
      "['State_Factor', 'building_class', 'facility_type', 'floor_area', 'year_built']\n"
     ]
    }
   ],
   "source": [
    "X_train=train_ampliado[features_selected]\n",
    "\n",
    "X_train6=X_train[X_train.Year_Factor==6]\n",
    "\n",
    "X_train1_5=X_train[X_train.Year_Factor<6]\n",
    "\n",
    "X_train = X_train.drop(['site_eui','id'],axis=1)\n",
    "cat_features= list(X_train.select_dtypes(include=['object']).columns)\n",
    "print(cat_features)\n",
    "y = train_ampliado.site_eui\n",
    "y\n",
    "y6=X_train6.site_eui\n",
    "y1_5=X_train1_5.site_eui\n",
    "X_train6 = X_train6.drop(['site_eui','id'],axis=1)\n",
    "#X_train6 = X_train6.drop(['site_eui','id','id2'],axis=1)\n",
    "X_train1_5 = X_train1_5.drop(['site_eui','id'],axis=1)\n",
    "#X_train1_5 = X_train1_5.drop(['site_eui','id','id2'],axis=1)"
   ]
  },
  {
   "cell_type": "code",
   "execution_count": 1722,
   "id": "f8587add-e71b-49e0-ad05-4e51591a4aa4",
   "metadata": {},
   "outputs": [],
   "source": [
    "def get_model():\n",
    "    cat_params = {\n",
    "        'iterations': 10000,\n",
    "        'learning_rate': 0.025,\n",
    "        'od_wait': 1000,\n",
    "        'depth': 8,\n",
    "        #'task_type' : 'GPU',\n",
    "        #'devices' : '0',\n",
    "        'verbose' : 1000,\n",
    "        \"objective\": \"RMSE\",\n",
    "        \"loss_function\": \"RMSE\",\n",
    "        \"cat_features\" : cat_features\n",
    "    }\n",
    "    model =  CatBoostRegressor(**cat_params)\n",
    "    return model"
   ]
  },
  {
   "cell_type": "code",
   "execution_count": 1723,
   "id": "a2e32049-6dd1-4994-af12-673a442e3a42",
   "metadata": {},
   "outputs": [
    {
     "name": "stdout",
     "output_type": "stream",
     "text": [
      "0:\tlearn: 57.9814504\ttest: 53.9152607\tbest: 53.9152607 (0)\ttotal: 160ms\tremaining: 26m 43s\n",
      "1000:\tlearn: 28.4478251\ttest: 26.5418045\tbest: 26.5418045 (1000)\ttotal: 2m 28s\tremaining: 22m 11s\n",
      "2000:\tlearn: 24.9731428\ttest: 26.4586627\tbest: 26.4382396 (1890)\ttotal: 5m 1s\tremaining: 20m 6s\n",
      "Stopped by overfitting detector  (1000 iterations wait)\n",
      "\n",
      "bestTest = 26.43823961\n",
      "bestIteration = 1890\n",
      "\n",
      "Shrink model to first 1891 iterations.\n",
      "0:\tlearn: 57.7476390\ttest: 56.2114801\tbest: 56.2114801 (0)\ttotal: 152ms\tremaining: 25m 20s\n",
      "1000:\tlearn: 29.5729550\ttest: 33.1129575\tbest: 33.1124801 (999)\ttotal: 2m 28s\tremaining: 22m 14s\n",
      "2000:\tlearn: 24.9908243\ttest: 32.9464760\tbest: 32.8870649 (1690)\ttotal: 5m\tremaining: 20m\n",
      "Stopped by overfitting detector  (1000 iterations wait)\n",
      "\n",
      "bestTest = 32.88706489\n",
      "bestIteration = 1690\n",
      "\n",
      "Shrink model to first 1691 iterations.\n",
      "0:\tlearn: 57.4411903\ttest: 58.7299620\tbest: 58.7299620 (0)\ttotal: 154ms\tremaining: 25m 41s\n",
      "1000:\tlearn: 29.5372162\ttest: 30.7793665\tbest: 30.7733320 (987)\ttotal: 2m 28s\tremaining: 22m 14s\n",
      "2000:\tlearn: 25.7823344\ttest: 30.6430456\tbest: 30.6430456 (2000)\ttotal: 5m 5s\tremaining: 20m 22s\n",
      "3000:\tlearn: 23.4285740\ttest: 30.8162832\tbest: 30.6300143 (2041)\ttotal: 7m 40s\tremaining: 17m 55s\n",
      "Stopped by overfitting detector  (1000 iterations wait)\n",
      "\n",
      "bestTest = 30.63001428\n",
      "bestIteration = 2041\n",
      "\n",
      "Shrink model to first 2042 iterations.\n"
     ]
    }
   ],
   "source": [
    "from sklearn import model_selection\n",
    "kfold = model_selection.KFold(3, shuffle=True, random_state=2022)\n",
    "models = []\n",
    "\n",
    "base_indice=train_indices1_5[-1]\n",
    "for train_indices, val_indices in kfold.split(X_train6):\n",
    "    X_train_cv6 = X_train6.iloc[train_indices]\n",
    "    X_train_cv=pd.concat([X_train1_5,X_train_cv6])\n",
    "    #print(len(X_train_cv))\n",
    "    #print('len_indices',len(train_indices))\n",
    "    #print('val',len(val_indices))\n",
    "    y_train_cv = pd.concat([y1_5,y6.iloc[train_indices]])\n",
    "    X_val_cv = X_train6.iloc[val_indices]\n",
    "    y_val_cv = y6.iloc[val_indices]\n",
    "    model = get_model()\n",
    "    model.fit(X_train_cv, y_train_cv, eval_set=(X_val_cv, y_val_cv))\n",
    "    models.append(model)"
   ]
  },
  {
   "cell_type": "code",
   "execution_count": 1724,
   "id": "80e6fd8d-e458-41e5-95de-5477efa33482",
   "metadata": {},
   "outputs": [],
   "source": [
    "X_test=test_ampliado\n",
    "X_test=X_test[features_selected]\n",
    "X_test = X_test.drop(['id','site_eui'], axis=1)\n",
    "\n",
    "y_predict=np.mean([model.predict(X_test) for model in models], axis=0)\n",
    "y_predict[y_predict<0]=1"
   ]
  },
  {
   "cell_type": "code",
   "execution_count": 1725,
   "id": "b8260412-a769-4301-b307-cadf8571b73f",
   "metadata": {},
   "outputs": [
    {
     "data": {
      "text/html": [
       "<div>\n",
       "<style scoped>\n",
       "    .dataframe tbody tr th:only-of-type {\n",
       "        vertical-align: middle;\n",
       "    }\n",
       "\n",
       "    .dataframe tbody tr th {\n",
       "        vertical-align: top;\n",
       "    }\n",
       "\n",
       "    .dataframe thead th {\n",
       "        text-align: right;\n",
       "    }\n",
       "</style>\n",
       "<table border=\"1\" class=\"dataframe\">\n",
       "  <thead>\n",
       "    <tr style=\"text-align: right;\">\n",
       "      <th></th>\n",
       "      <th>id</th>\n",
       "      <th>site_eui</th>\n",
       "    </tr>\n",
       "  </thead>\n",
       "  <tbody>\n",
       "    <tr>\n",
       "      <th>0</th>\n",
       "      <td>75757</td>\n",
       "      <td>138.277435</td>\n",
       "    </tr>\n",
       "    <tr>\n",
       "      <th>1</th>\n",
       "      <td>75758</td>\n",
       "      <td>260.464295</td>\n",
       "    </tr>\n",
       "    <tr>\n",
       "      <th>2</th>\n",
       "      <td>75759</td>\n",
       "      <td>178.244288</td>\n",
       "    </tr>\n",
       "    <tr>\n",
       "      <th>3</th>\n",
       "      <td>75760</td>\n",
       "      <td>259.646200</td>\n",
       "    </tr>\n",
       "    <tr>\n",
       "      <th>4</th>\n",
       "      <td>75761</td>\n",
       "      <td>245.132939</td>\n",
       "    </tr>\n",
       "  </tbody>\n",
       "</table>\n",
       "</div>"
      ],
      "text/plain": [
       "      id    site_eui\n",
       "0  75757  138.277435\n",
       "1  75758  260.464295\n",
       "2  75759  178.244288\n",
       "3  75760  259.646200\n",
       "4  75761  245.132939"
      ]
     },
     "execution_count": 1725,
     "metadata": {},
     "output_type": "execute_result"
    }
   ],
   "source": [
    "submit['site_eui'] = y_predict\n",
    "submit.to_csv('modelo_cv_3.csv',index=False)\n",
    "submit.head()\n",
    "#38.465"
   ]
  },
  {
   "cell_type": "markdown",
   "id": "231043c2-1c2c-4dbf-b83a-e816cdf3969a",
   "metadata": {},
   "source": [
    "## Modelo 4.b -> Kaggle Score: 22.173\n",
    "\n",
    "+ igual al 4 pero median en lugar de mean para votación de los modelos"
   ]
  },
  {
   "cell_type": "code",
   "execution_count": 1726,
   "id": "a6f46583-e2f4-4d09-969a-3db67443b902",
   "metadata": {},
   "outputs": [],
   "source": [
    "X_test=test_ampliado\n",
    "X_test=X_test[features_selected]\n",
    "X_test = X_test.drop(['id','site_eui'], axis=1)\n",
    "\n",
    "y_predictm=np.median([model.predict(X_test) for model in models], axis=0)\n",
    "y_predictm[y_predictm<0]=1"
   ]
  },
  {
   "cell_type": "code",
   "execution_count": 1733,
   "id": "428468d2-3f44-4d69-a2d0-f9373e8ed1dc",
   "metadata": {},
   "outputs": [
    {
     "data": {
      "text/html": [
       "<div>\n",
       "<style scoped>\n",
       "    .dataframe tbody tr th:only-of-type {\n",
       "        vertical-align: middle;\n",
       "    }\n",
       "\n",
       "    .dataframe tbody tr th {\n",
       "        vertical-align: top;\n",
       "    }\n",
       "\n",
       "    .dataframe thead th {\n",
       "        text-align: right;\n",
       "    }\n",
       "</style>\n",
       "<table border=\"1\" class=\"dataframe\">\n",
       "  <thead>\n",
       "    <tr style=\"text-align: right;\">\n",
       "      <th></th>\n",
       "      <th>id</th>\n",
       "      <th>site_eui</th>\n",
       "    </tr>\n",
       "  </thead>\n",
       "  <tbody>\n",
       "    <tr>\n",
       "      <th>0</th>\n",
       "      <td>75757</td>\n",
       "      <td>137.867627</td>\n",
       "    </tr>\n",
       "    <tr>\n",
       "      <th>1</th>\n",
       "      <td>75758</td>\n",
       "      <td>260.585103</td>\n",
       "    </tr>\n",
       "    <tr>\n",
       "      <th>2</th>\n",
       "      <td>75759</td>\n",
       "      <td>177.595701</td>\n",
       "    </tr>\n",
       "    <tr>\n",
       "      <th>3</th>\n",
       "      <td>75760</td>\n",
       "      <td>256.076809</td>\n",
       "    </tr>\n",
       "    <tr>\n",
       "      <th>4</th>\n",
       "      <td>75761</td>\n",
       "      <td>242.435149</td>\n",
       "    </tr>\n",
       "  </tbody>\n",
       "</table>\n",
       "</div>"
      ],
      "text/plain": [
       "      id    site_eui\n",
       "0  75757  137.867627\n",
       "1  75758  260.585103\n",
       "2  75759  177.595701\n",
       "3  75760  256.076809\n",
       "4  75761  242.435149"
      ]
     },
     "execution_count": 1733,
     "metadata": {},
     "output_type": "execute_result"
    }
   ],
   "source": [
    "submit['site_eui'] = y_predictm\n",
    "submit.to_csv('modelo_cv_3_median.csv',index=False)\n",
    "submit.head()"
   ]
  },
  {
   "cell_type": "code",
   "execution_count": 1732,
   "id": "cff63fbe-fe6b-4a2d-93bc-528489a7a168",
   "metadata": {},
   "outputs": [
    {
     "data": {
      "text/plain": [
       "array([[1.        , 0.99891981],\n",
       "       [0.99891981, 1.        ]])"
      ]
     },
     "execution_count": 1732,
     "metadata": {},
     "output_type": "execute_result"
    },
    {
     "data": {
      "image/png": "[encoded data removed]",
      "text/plain": [
       "<Figure size 432x288 with 1 Axes>"
      ]
     },
     "metadata": {
      "needs_background": "light"
     },
     "output_type": "display_data"
    }
   ],
   "source": [
    "plt.plot(y_predict,y_predictm,'x')\n",
    "np.corrcoef(y_predict,y_predictm)"
   ]
  },
  {
   "cell_type": "markdown",
   "id": "858d570e-4c51-450e-ae00-1fa0bf2ea2cd",
   "metadata": {},
   "source": [
    "## Modelo 5 - saco otras features del dataset  -> Kaggle score: 22.569\n",
    "+ saco temperaturas con detalle mensual\n",
    "+ no mejoro respecto de dejarlas"
   ]
  },
  {
   "cell_type": "code",
   "execution_count": 1753,
   "id": "8316214d-26d8-47bb-a9a3-c8e42ce60f2d",
   "metadata": {},
   "outputs": [],
   "source": [
    "features_selected=list(train.columns)+columnas_last #no uso lags sino last\n",
    "unwanted={'january_min_temp',\n",
    " 'january_avg_temp',\n",
    " 'january_max_temp',\n",
    " 'february_min_temp',\n",
    " 'february_avg_temp',\n",
    " 'february_max_temp',\n",
    " 'march_min_temp',\n",
    " 'march_avg_temp',\n",
    " 'march_max_temp',\n",
    " 'april_min_temp',\n",
    " 'april_avg_temp',\n",
    " 'april_max_temp',\n",
    " 'may_min_temp',\n",
    " 'may_avg_temp',\n",
    " 'may_max_temp',\n",
    " 'june_min_temp',\n",
    " 'june_avg_temp',\n",
    " 'june_max_temp',\n",
    " 'july_min_temp',\n",
    " 'july_avg_temp',\n",
    " 'july_max_temp',\n",
    " 'august_min_temp',\n",
    " 'august_avg_temp',\n",
    " 'august_max_temp',\n",
    " 'september_min_temp',\n",
    " 'september_avg_temp',\n",
    " 'september_max_temp',\n",
    " 'october_min_temp',\n",
    " 'october_avg_temp',\n",
    " 'october_max_temp',\n",
    " 'november_min_temp',\n",
    " 'november_avg_temp',\n",
    " 'november_max_temp',\n",
    " 'december_min_temp',\n",
    " 'december_avg_temp',\n",
    " 'december_max_temp'}\n",
    "\n",
    "features_selected= [ele for ele in features_selected if ele not in unwanted]"
   ]
  },
  {
   "cell_type": "code",
   "execution_count": 1755,
   "id": "eb52c7cb-76a1-49b2-b5cc-bfd91b1e70b2",
   "metadata": {},
   "outputs": [
    {
     "name": "stdout",
     "output_type": "stream",
     "text": [
      "['State_Factor', 'building_class', 'facility_type', 'floor_area', 'year_built']\n"
     ]
    }
   ],
   "source": [
    "X_train=train_ampliado[features_selected]\n",
    "\n",
    "X_train6=X_train[X_train.Year_Factor==6]\n",
    "\n",
    "X_train1_5=X_train[X_train.Year_Factor<6]\n",
    "\n",
    "X_train = X_train.drop(['site_eui','id'],axis=1)\n",
    "cat_features= list(X_train.select_dtypes(include=['object']).columns)\n",
    "print(cat_features)\n",
    "y = train_ampliado.site_eui\n",
    "y\n",
    "y6=X_train6.site_eui\n",
    "y1_5=X_train1_5.site_eui\n",
    "X_train6 = X_train6.drop(['site_eui','id'],axis=1)\n",
    "X_train1_5 = X_train1_5.drop(['site_eui','id'],axis=1)"
   ]
  },
  {
   "cell_type": "code",
   "execution_count": 1756,
   "id": "a3f45c36-fed6-46bc-9269-8be15e71775f",
   "metadata": {},
   "outputs": [
    {
     "name": "stdout",
     "output_type": "stream",
     "text": [
      "0:\tlearn: 58.0036200\ttest: 53.9357358\tbest: 53.9357358 (0)\ttotal: 155ms\tremaining: 25m 45s\n",
      "1000:\tlearn: 27.4899874\ttest: 26.7575041\tbest: 26.7356134 (807)\ttotal: 2m 22s\tremaining: 21m 16s\n",
      "2000:\tlearn: 24.9700250\ttest: 26.8970130\tbest: 26.7331276 (1312)\ttotal: 4m 48s\tremaining: 19m 15s\n",
      "Stopped by overfitting detector  (1000 iterations wait)\n",
      "\n",
      "bestTest = 26.73312763\n",
      "bestIteration = 1312\n",
      "\n",
      "Shrink model to first 1313 iterations.\n",
      "0:\tlearn: 57.7702159\ttest: 56.2320102\tbest: 56.2320102 (0)\ttotal: 165ms\tremaining: 27m 29s\n",
      "1000:\tlearn: 28.6984682\ttest: 33.3213316\tbest: 33.3213316 (1000)\ttotal: 2m 16s\tremaining: 20m 31s\n",
      "2000:\tlearn: 24.8995784\ttest: 33.1481331\tbest: 33.1404739 (1571)\ttotal: 4m 44s\tremaining: 18m 58s\n",
      "3000:\tlearn: 22.8688636\ttest: 32.9910244\tbest: 32.9885471 (2984)\ttotal: 7m 16s\tremaining: 16m 57s\n",
      "4000:\tlearn: 21.3006940\ttest: 33.0104615\tbest: 32.9602937 (3228)\ttotal: 9m 55s\tremaining: 14m 53s\n",
      "Stopped by overfitting detector  (1000 iterations wait)\n",
      "\n",
      "bestTest = 32.96029366\n",
      "bestIteration = 3228\n",
      "\n",
      "Shrink model to first 3229 iterations.\n",
      "0:\tlearn: 57.4801221\ttest: 58.7872453\tbest: 58.7872453 (0)\ttotal: 178ms\tremaining: 29m 39s\n",
      "1000:\tlearn: 28.0105338\ttest: 30.8977623\tbest: 30.8686622 (956)\ttotal: 2m 17s\tremaining: 20m 37s\n",
      "Stopped by overfitting detector  (1000 iterations wait)\n",
      "\n",
      "bestTest = 30.86866219\n",
      "bestIteration = 956\n",
      "\n",
      "Shrink model to first 957 iterations.\n"
     ]
    }
   ],
   "source": [
    "from sklearn import model_selection\n",
    "kfold = model_selection.KFold(3, shuffle=True, random_state=2022)\n",
    "models = []\n",
    "\n",
    "base_indice=train_indices1_5[-1]\n",
    "for train_indices, val_indices in kfold.split(X_train6):\n",
    "    X_train_cv6 = X_train6.iloc[train_indices]\n",
    "    X_train_cv=pd.concat([X_train1_5,X_train_cv6])\n",
    "    y_train_cv = pd.concat([y1_5,y6.iloc[train_indices]])\n",
    "    X_val_cv = X_train6.iloc[val_indices]\n",
    "    y_val_cv = y6.iloc[val_indices]\n",
    "    model = get_model()\n",
    "    model.fit(X_train_cv, y_train_cv, eval_set=(X_val_cv, y_val_cv))\n",
    "    models.append(model)"
   ]
  },
  {
   "cell_type": "code",
   "execution_count": 1757,
   "id": "766a1f6c-9f1f-45e5-8b71-53cc862ec220",
   "metadata": {},
   "outputs": [],
   "source": [
    "X_test=test_ampliado\n",
    "X_test=X_test[features_selected]\n",
    "X_test = X_test.drop(['id','site_eui'], axis=1)\n",
    "\n",
    "y_predict=np.median([model.predict(X_test) for model in models], axis=0)\n",
    "y_predict[y_predict<0]=1"
   ]
  },
  {
   "cell_type": "code",
   "execution_count": 1759,
   "id": "509ff44e-6df3-487f-b043-f4e6aac6c2ca",
   "metadata": {},
   "outputs": [
    {
     "data": {
      "text/html": [
       "<div>\n",
       "<style scoped>\n",
       "    .dataframe tbody tr th:only-of-type {\n",
       "        vertical-align: middle;\n",
       "    }\n",
       "\n",
       "    .dataframe tbody tr th {\n",
       "        vertical-align: top;\n",
       "    }\n",
       "\n",
       "    .dataframe thead th {\n",
       "        text-align: right;\n",
       "    }\n",
       "</style>\n",
       "<table border=\"1\" class=\"dataframe\">\n",
       "  <thead>\n",
       "    <tr style=\"text-align: right;\">\n",
       "      <th></th>\n",
       "      <th>id</th>\n",
       "      <th>site_eui</th>\n",
       "    </tr>\n",
       "  </thead>\n",
       "  <tbody>\n",
       "    <tr>\n",
       "      <th>0</th>\n",
       "      <td>75757</td>\n",
       "      <td>132.480268</td>\n",
       "    </tr>\n",
       "    <tr>\n",
       "      <th>1</th>\n",
       "      <td>75758</td>\n",
       "      <td>259.314854</td>\n",
       "    </tr>\n",
       "    <tr>\n",
       "      <th>2</th>\n",
       "      <td>75759</td>\n",
       "      <td>172.814112</td>\n",
       "    </tr>\n",
       "    <tr>\n",
       "      <th>3</th>\n",
       "      <td>75760</td>\n",
       "      <td>259.027619</td>\n",
       "    </tr>\n",
       "    <tr>\n",
       "      <th>4</th>\n",
       "      <td>75761</td>\n",
       "      <td>246.869039</td>\n",
       "    </tr>\n",
       "  </tbody>\n",
       "</table>\n",
       "</div>"
      ],
      "text/plain": [
       "      id    site_eui\n",
       "0  75757  132.480268\n",
       "1  75758  259.314854\n",
       "2  75759  172.814112\n",
       "3  75760  259.027619\n",
       "4  75761  246.869039"
      ]
     },
     "execution_count": 1759,
     "metadata": {},
     "output_type": "execute_result"
    }
   ],
   "source": [
    "submit['site_eui'] = y_predict\n",
    "submit.to_csv('modelo_cv_3_sintemp_median.csv',index=False)\n",
    "submit.head()"
   ]
  }
 ],
 "metadata": {
  "kernelspec": {
   "display_name": "Python 3 (ipykernel)",
   "language": "python",
   "name": "python3"
  },
  "language_info": {
   "codemirror_mode": {
    "name": "ipython",
    "version": 3
   },
   "file_extension": ".py",
   "mimetype": "text/x-python",
   "name": "python",
   "nbconvert_exporter": "python",
   "pygments_lexer": "ipython3",
   "version": "3.9.7"
  }
 },
 "nbformat": 4,
 "nbformat_minor": 5
}
