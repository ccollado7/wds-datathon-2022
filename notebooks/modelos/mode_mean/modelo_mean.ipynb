{
 "cells": [
  {
   "cell_type": "markdown",
   "id": "ebc6157e",
   "metadata": {},
   "source": [
    "# Kaggle - WiDS Datathon 2022\n",
    "\n",
    "## Modelo mean\n",
    "\n",
    "### Description:\n",
    "\n",
    "- All the features\n",
    "- Separation train/test - 80/20\n",
    "- Catboost\n",
    "- Hiperparameters by default\n",
    "- Cross validation\n",
    "- Long value of iterations: 10000\n",
    "\n",
    "- Public Score = XXX"
   ]
  },
  {
   "cell_type": "markdown",
   "id": "051df3f1",
   "metadata": {},
   "source": [
    "# 1. Modules"
   ]
  },
  {
   "cell_type": "code",
   "execution_count": 3,
   "id": "2bc0b376",
   "metadata": {},
   "outputs": [],
   "source": [
    "import numpy as np\n",
    "import pandas as pd\n",
    "import matplotlib.pyplot as plt\n",
    "import seaborn as sns\n",
    "\n",
    "import warnings\n",
    "warnings.filterwarnings('ignore')\n",
    "\n",
    "#model\n",
    "from catboost import CatBoostRegressor\n",
    "\n",
    "#train/test split\n",
    "from sklearn.model_selection import train_test_split\n",
    "\n",
    "#pool class\n",
    "from catboost import Pool\n",
    "\n",
    "#cross validation\n",
    "from catboost import cv"
   ]
  },
  {
   "cell_type": "markdown",
   "id": "30bcb944",
   "metadata": {},
   "source": [
    "# 2. Data"
   ]
  },
  {
   "cell_type": "code",
   "execution_count": 36,
   "id": "599008d1",
   "metadata": {},
   "outputs": [],
   "source": [
    "#paths to model's results\n",
    "\n",
    "modelo_5b = 'https://raw.githubusercontent.com/ccollado7/wds-datathon-2022/main/notebooks/modelos/modelo_5/modelo_5b.csv'\n",
    "modelo_5c = 'https://raw.githubusercontent.com/ccollado7/wds-datathon-2022/main/notebooks/modelos/modelo_5/modelo_5c.csv'\n",
    "modelo_6 = 'https://raw.githubusercontent.com/ccollado7/wds-datathon-2022/main/notebooks/modelos/modelo_6/modelo_6.csv'\n",
    "modelo_interpretacion2 = 'https://raw.githubusercontent.com/ccollado7/wds-datathon-2022/main/notebooks/modelos/model_interpretation/modelo_interpretation_2.csv'\n",
    "modelo_interpretacion1 = 'https://raw.githubusercontent.com/ccollado7/wds-datathon-2022/main/notebooks/modelos/model_interpretation/modelo_interpretation_1.csv'"
   ]
  },
  {
   "cell_type": "code",
   "execution_count": 37,
   "id": "364c166f",
   "metadata": {},
   "outputs": [],
   "source": [
    "df_modelo_5b = pd.read_csv(modelo_5b)\n",
    "df_modelo_5c = pd.read_csv(modelo_5c)\n",
    "df_modelo_6 = pd.read_csv(modelo_6)\n",
    "df_modelo_interpretacion2 = pd.read_csv(modelo_interpretacion2)\n",
    "df_modelo_interpretacion1 = pd.read_csv(modelo_interpretacion1)"
   ]
  },
  {
   "cell_type": "code",
   "execution_count": 38,
   "id": "43eda545",
   "metadata": {},
   "outputs": [],
   "source": [
    "submit_path = 'https://raw.githubusercontent.com/ccollado7/wds-datathon-2022/main/data/raw/sample_solution.csv'"
   ]
  },
  {
   "cell_type": "code",
   "execution_count": 39,
   "id": "c8fe8b3d",
   "metadata": {},
   "outputs": [
    {
     "data": {
      "text/html": [
       "<div>\n",
       "<style scoped>\n",
       "    .dataframe tbody tr th:only-of-type {\n",
       "        vertical-align: middle;\n",
       "    }\n",
       "\n",
       "    .dataframe tbody tr th {\n",
       "        vertical-align: top;\n",
       "    }\n",
       "\n",
       "    .dataframe thead th {\n",
       "        text-align: right;\n",
       "    }\n",
       "</style>\n",
       "<table border=\"1\" class=\"dataframe\">\n",
       "  <thead>\n",
       "    <tr style=\"text-align: right;\">\n",
       "      <th></th>\n",
       "      <th>id</th>\n",
       "      <th>site_eui</th>\n",
       "    </tr>\n",
       "  </thead>\n",
       "  <tbody>\n",
       "    <tr>\n",
       "      <th>0</th>\n",
       "      <td>75757</td>\n",
       "      <td>0.0</td>\n",
       "    </tr>\n",
       "    <tr>\n",
       "      <th>1</th>\n",
       "      <td>75758</td>\n",
       "      <td>0.0</td>\n",
       "    </tr>\n",
       "    <tr>\n",
       "      <th>2</th>\n",
       "      <td>75759</td>\n",
       "      <td>0.0</td>\n",
       "    </tr>\n",
       "    <tr>\n",
       "      <th>3</th>\n",
       "      <td>75760</td>\n",
       "      <td>0.0</td>\n",
       "    </tr>\n",
       "    <tr>\n",
       "      <th>4</th>\n",
       "      <td>75761</td>\n",
       "      <td>0.0</td>\n",
       "    </tr>\n",
       "  </tbody>\n",
       "</table>\n",
       "</div>"
      ],
      "text/plain": [
       "      id  site_eui\n",
       "0  75757       0.0\n",
       "1  75758       0.0\n",
       "2  75759       0.0\n",
       "3  75760       0.0\n",
       "4  75761       0.0"
      ]
     },
     "execution_count": 39,
     "metadata": {},
     "output_type": "execute_result"
    }
   ],
   "source": [
    "#sumbit\n",
    "\n",
    "submit = pd.read_csv(submit_path)\n",
    "submit.head()"
   ]
  },
  {
   "cell_type": "code",
   "execution_count": 40,
   "id": "7ea9ead5",
   "metadata": {},
   "outputs": [],
   "source": [
    "models = [df_modelo_5b,df_modelo_5c,df_modelo_6,df_modelo_interpretacion1,df_modelo_interpretacion2]"
   ]
  },
  {
   "cell_type": "code",
   "execution_count": 41,
   "id": "b2dd8bf8",
   "metadata": {},
   "outputs": [
    {
     "data": {
      "text/plain": [
       "0       247.460643\n",
       "1       226.063839\n",
       "2       251.612063\n",
       "3       254.889196\n",
       "4       236.678025\n",
       "           ...    \n",
       "9700     42.942052\n",
       "9701     44.946675\n",
       "9702     45.619117\n",
       "9703     52.010428\n",
       "9704     30.319335\n",
       "Name: site_eui, Length: 9705, dtype: float64"
      ]
     },
     "execution_count": 41,
     "metadata": {},
     "output_type": "execute_result"
    }
   ],
   "source": [
    "site_eui_mean = (df_modelo_5b['site_eui'] + df_modelo_5c['site_eui'] + df_modelo_6['site_eui'] + df_modelo_interpretacion1['site_eui'] + df_modelo_interpretacion2['site_eui'])/len(models)\n",
    "site_eui_mean"
   ]
  },
  {
   "cell_type": "code",
   "execution_count": 42,
   "id": "170acc1e",
   "metadata": {},
   "outputs": [],
   "source": [
    "submit['site_eui'] = site_eui_mean\n",
    "submit.to_csv('modelo_mean.csv',index=False)"
   ]
  },
  {
   "cell_type": "code",
   "execution_count": null,
   "id": "d45a3e4f",
   "metadata": {},
   "outputs": [],
   "source": []
  },
  {
   "cell_type": "code",
   "execution_count": null,
   "id": "cccc0ead",
   "metadata": {},
   "outputs": [],
   "source": []
  },
  {
   "cell_type": "code",
   "execution_count": null,
   "id": "1e236ba9",
   "metadata": {},
   "outputs": [],
   "source": []
  },
  {
   "cell_type": "code",
   "execution_count": null,
   "id": "743c5a17",
   "metadata": {},
   "outputs": [],
   "source": []
  },
  {
   "cell_type": "code",
   "execution_count": null,
   "id": "7fc45f5b",
   "metadata": {},
   "outputs": [],
   "source": []
  },
  {
   "cell_type": "code",
   "execution_count": null,
   "id": "edf2a38e",
   "metadata": {},
   "outputs": [],
   "source": []
  },
  {
   "cell_type": "code",
   "execution_count": null,
   "id": "9b32dbf5",
   "metadata": {},
   "outputs": [],
   "source": []
  },
  {
   "cell_type": "code",
   "execution_count": 17,
   "id": "a90530f8",
   "metadata": {},
   "outputs": [],
   "source": []
  }
 ],
 "metadata": {
  "kernelspec": {
   "display_name": "Python 3",
   "language": "python",
   "name": "python3"
  },
  "language_info": {
   "codemirror_mode": {
    "name": "ipython",
    "version": 3
   },
   "file_extension": ".py",
   "mimetype": "text/x-python",
   "name": "python",
   "nbconvert_exporter": "python",
   "pygments_lexer": "ipython3",
   "version": "3.8.8"
  }
 },
 "nbformat": 4,
 "nbformat_minor": 5
}
