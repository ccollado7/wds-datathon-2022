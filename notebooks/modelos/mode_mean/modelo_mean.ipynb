{
 "cells": [
  {
   "cell_type": "markdown",
   "id": "ebc6157e",
   "metadata": {},
   "source": [
    "# Kaggle - WiDS Datathon 2022\n",
    "\n",
    "## Modelo mean\n",
    "\n",
    "### Description:\n",
    "\n",
    "- All the features\n",
    "- Separation train/test - 80/20\n",
    "- Catboost\n",
    "- Hiperparameters by default\n",
    "- Cross validation\n",
    "- Long value of iterations: 10000\n",
    "\n",
    "- Public Score = XXX"
   ]
  },
  {
   "cell_type": "markdown",
   "id": "051df3f1",
   "metadata": {},
   "source": [
    "# 1. Modules"
   ]
  },
  {
   "cell_type": "code",
   "execution_count": 1,
   "id": "2bc0b376",
   "metadata": {},
   "outputs": [],
   "source": [
    "import numpy as np\n",
    "import pandas as pd\n",
    "import matplotlib.pyplot as plt\n",
    "import seaborn as sns\n",
    "\n",
    "import warnings\n",
    "warnings.filterwarnings('ignore')\n"
   ]
  },
  {
   "cell_type": "markdown",
   "id": "30bcb944",
   "metadata": {},
   "source": [
    "# 2. Data"
   ]
  },
  {
   "cell_type": "code",
   "execution_count": 2,
   "id": "599008d1",
   "metadata": {},
   "outputs": [],
   "source": [
    "#paths to model's results\n",
    "\n",
    "modelo_5b = 'https://raw.githubusercontent.com/ccollado7/wds-datathon-2022/main/notebooks/modelos/modelo_5/modelo_5b.csv'\n",
    "modelo_5c = 'https://raw.githubusercontent.com/ccollado7/wds-datathon-2022/main/notebooks/modelos/modelo_5/modelo_5c.csv'\n",
    "modelo_6 = 'https://raw.githubusercontent.com/ccollado7/wds-datathon-2022/main/notebooks/modelos/modelo_6/modelo_6.csv'\n",
    "modelo_interpretacion2 = 'https://raw.githubusercontent.com/ccollado7/wds-datathon-2022/main/notebooks/modelos/model_interpretation/modelo_interpretation_2.csv'\n",
    "modelo_interpretacion1 = 'https://raw.githubusercontent.com/ccollado7/wds-datathon-2022/main/notebooks/modelos/model_interpretation/modelo_interpretation_1.csv'"
   ]
  },
  {
   "cell_type": "code",
   "execution_count": 3,
   "id": "364c166f",
   "metadata": {},
   "outputs": [],
   "source": [
    "df_modelo_5b = pd.read_csv(modelo_5b)\n",
    "df_modelo_5c = pd.read_csv(modelo_5c)\n",
    "df_modelo_6 = pd.read_csv(modelo_6)\n",
    "df_modelo_interpretacion2 = pd.read_csv(modelo_interpretacion2)\n",
    "df_modelo_interpretacion1 = pd.read_csv(modelo_interpretacion1)"
   ]
  },
  {
   "cell_type": "code",
   "execution_count": 4,
   "id": "43eda545",
   "metadata": {},
   "outputs": [],
   "source": [
    "submit_path = 'https://raw.githubusercontent.com/ccollado7/wds-datathon-2022/main/data/raw/sample_solution.csv'"
   ]
  },
  {
   "cell_type": "code",
   "execution_count": 5,
   "id": "c8fe8b3d",
   "metadata": {},
   "outputs": [
    {
     "data": {
      "text/html": [
       "<div>\n",
       "<style scoped>\n",
       "    .dataframe tbody tr th:only-of-type {\n",
       "        vertical-align: middle;\n",
       "    }\n",
       "\n",
       "    .dataframe tbody tr th {\n",
       "        vertical-align: top;\n",
       "    }\n",
       "\n",
       "    .dataframe thead th {\n",
       "        text-align: right;\n",
       "    }\n",
       "</style>\n",
       "<table border=\"1\" class=\"dataframe\">\n",
       "  <thead>\n",
       "    <tr style=\"text-align: right;\">\n",
       "      <th></th>\n",
       "      <th>id</th>\n",
       "      <th>site_eui</th>\n",
       "    </tr>\n",
       "  </thead>\n",
       "  <tbody>\n",
       "    <tr>\n",
       "      <th>0</th>\n",
       "      <td>75757</td>\n",
       "      <td>0.0</td>\n",
       "    </tr>\n",
       "    <tr>\n",
       "      <th>1</th>\n",
       "      <td>75758</td>\n",
       "      <td>0.0</td>\n",
       "    </tr>\n",
       "    <tr>\n",
       "      <th>2</th>\n",
       "      <td>75759</td>\n",
       "      <td>0.0</td>\n",
       "    </tr>\n",
       "    <tr>\n",
       "      <th>3</th>\n",
       "      <td>75760</td>\n",
       "      <td>0.0</td>\n",
       "    </tr>\n",
       "    <tr>\n",
       "      <th>4</th>\n",
       "      <td>75761</td>\n",
       "      <td>0.0</td>\n",
       "    </tr>\n",
       "  </tbody>\n",
       "</table>\n",
       "</div>"
      ],
      "text/plain": [
       "      id  site_eui\n",
       "0  75757       0.0\n",
       "1  75758       0.0\n",
       "2  75759       0.0\n",
       "3  75760       0.0\n",
       "4  75761       0.0"
      ]
     },
     "execution_count": 5,
     "metadata": {},
     "output_type": "execute_result"
    }
   ],
   "source": [
    "#sumbit\n",
    "\n",
    "submit = pd.read_csv(submit_path)\n",
    "submit.head()"
   ]
  },
  {
   "cell_type": "code",
   "execution_count": 6,
   "id": "7ea9ead5",
   "metadata": {},
   "outputs": [],
   "source": [
    "models = [df_modelo_5b,df_modelo_5c,df_modelo_6,df_modelo_interpretacion1,df_modelo_interpretacion2]"
   ]
  },
  {
   "cell_type": "code",
   "execution_count": 7,
   "id": "b2dd8bf8",
   "metadata": {},
   "outputs": [
    {
     "data": {
      "text/plain": [
       "0       247.460643\n",
       "1       226.063839\n",
       "2       251.612063\n",
       "3       254.889196\n",
       "4       236.678025\n",
       "           ...    \n",
       "9700     42.942052\n",
       "9701     44.946675\n",
       "9702     45.619117\n",
       "9703     52.010428\n",
       "9704     30.319335\n",
       "Name: site_eui, Length: 9705, dtype: float64"
      ]
     },
     "execution_count": 7,
     "metadata": {},
     "output_type": "execute_result"
    }
   ],
   "source": [
    "site_eui_mean = (df_modelo_5b['site_eui'] + df_modelo_5c['site_eui'] + df_modelo_6['site_eui'] + df_modelo_interpretacion1['site_eui'] + df_modelo_interpretacion2['site_eui'])/len(models)\n",
    "site_eui_mean"
   ]
  },
  {
   "cell_type": "code",
   "execution_count": 8,
   "id": "170acc1e",
   "metadata": {},
   "outputs": [],
   "source": [
    "submit['site_eui'] = site_eui_mean\n",
    "submit.to_csv('modelo_mean.csv',index=False)"
   ]
  },
  {
   "cell_type": "markdown",
   "id": "83d1c595",
   "metadata": {},
   "source": [
    "## Analysis of site_eui predictions"
   ]
  },
  {
   "cell_type": "code",
   "execution_count": 9,
   "id": "d45a3e4f",
   "metadata": {},
   "outputs": [
    {
     "data": {
      "image/png": "[encoded data removed]",
      "text/plain": [
       "<Figure size 432x288 with 1 Axes>"
      ]
     },
     "metadata": {
      "needs_background": "light"
     },
     "output_type": "display_data"
    }
   ],
   "source": [
    "for model in models:\n",
    "    sns.lineplot(data=model['site_eui'])"
   ]
  },
  {
   "cell_type": "code",
   "execution_count": 10,
   "id": "cccc0ead",
   "metadata": {},
   "outputs": [
    {
     "data": {
      "text/html": [
       "<div>\n",
       "<style scoped>\n",
       "    .dataframe tbody tr th:only-of-type {\n",
       "        vertical-align: middle;\n",
       "    }\n",
       "\n",
       "    .dataframe tbody tr th {\n",
       "        vertical-align: top;\n",
       "    }\n",
       "\n",
       "    .dataframe thead th {\n",
       "        text-align: right;\n",
       "    }\n",
       "</style>\n",
       "<table border=\"1\" class=\"dataframe\">\n",
       "  <thead>\n",
       "    <tr style=\"text-align: right;\">\n",
       "      <th></th>\n",
       "      <th>id</th>\n",
       "      <th>site_eui</th>\n",
       "    </tr>\n",
       "  </thead>\n",
       "  <tbody>\n",
       "    <tr>\n",
       "      <th>count</th>\n",
       "      <td>9705.000000</td>\n",
       "      <td>9705.000000</td>\n",
       "    </tr>\n",
       "    <tr>\n",
       "      <th>mean</th>\n",
       "      <td>80609.000000</td>\n",
       "      <td>76.054953</td>\n",
       "    </tr>\n",
       "    <tr>\n",
       "      <th>std</th>\n",
       "      <td>2801.736515</td>\n",
       "      <td>42.486283</td>\n",
       "    </tr>\n",
       "    <tr>\n",
       "      <th>min</th>\n",
       "      <td>75757.000000</td>\n",
       "      <td>0.590642</td>\n",
       "    </tr>\n",
       "    <tr>\n",
       "      <th>25%</th>\n",
       "      <td>78183.000000</td>\n",
       "      <td>50.636030</td>\n",
       "    </tr>\n",
       "    <tr>\n",
       "      <th>50%</th>\n",
       "      <td>80609.000000</td>\n",
       "      <td>66.952104</td>\n",
       "    </tr>\n",
       "    <tr>\n",
       "      <th>75%</th>\n",
       "      <td>83035.000000</td>\n",
       "      <td>87.944268</td>\n",
       "    </tr>\n",
       "    <tr>\n",
       "      <th>max</th>\n",
       "      <td>85461.000000</td>\n",
       "      <td>491.970412</td>\n",
       "    </tr>\n",
       "  </tbody>\n",
       "</table>\n",
       "</div>"
      ],
      "text/plain": [
       "                 id     site_eui\n",
       "count   9705.000000  9705.000000\n",
       "mean   80609.000000    76.054953\n",
       "std     2801.736515    42.486283\n",
       "min    75757.000000     0.590642\n",
       "25%    78183.000000    50.636030\n",
       "50%    80609.000000    66.952104\n",
       "75%    83035.000000    87.944268\n",
       "max    85461.000000   491.970412"
      ]
     },
     "execution_count": 10,
     "metadata": {},
     "output_type": "execute_result"
    }
   ],
   "source": [
    "df_modelo_5b.describe()"
   ]
  },
  {
   "cell_type": "code",
   "execution_count": 11,
   "id": "1e236ba9",
   "metadata": {},
   "outputs": [
    {
     "data": {
      "text/html": [
       "<div>\n",
       "<style scoped>\n",
       "    .dataframe tbody tr th:only-of-type {\n",
       "        vertical-align: middle;\n",
       "    }\n",
       "\n",
       "    .dataframe tbody tr th {\n",
       "        vertical-align: top;\n",
       "    }\n",
       "\n",
       "    .dataframe thead th {\n",
       "        text-align: right;\n",
       "    }\n",
       "</style>\n",
       "<table border=\"1\" class=\"dataframe\">\n",
       "  <thead>\n",
       "    <tr style=\"text-align: right;\">\n",
       "      <th></th>\n",
       "      <th>id</th>\n",
       "      <th>site_eui</th>\n",
       "    </tr>\n",
       "  </thead>\n",
       "  <tbody>\n",
       "    <tr>\n",
       "      <th>count</th>\n",
       "      <td>9705.000000</td>\n",
       "      <td>9705.000000</td>\n",
       "    </tr>\n",
       "    <tr>\n",
       "      <th>mean</th>\n",
       "      <td>80609.000000</td>\n",
       "      <td>76.488023</td>\n",
       "    </tr>\n",
       "    <tr>\n",
       "      <th>std</th>\n",
       "      <td>2801.736515</td>\n",
       "      <td>43.193222</td>\n",
       "    </tr>\n",
       "    <tr>\n",
       "      <th>min</th>\n",
       "      <td>75757.000000</td>\n",
       "      <td>1.277666</td>\n",
       "    </tr>\n",
       "    <tr>\n",
       "      <th>25%</th>\n",
       "      <td>78183.000000</td>\n",
       "      <td>50.961709</td>\n",
       "    </tr>\n",
       "    <tr>\n",
       "      <th>50%</th>\n",
       "      <td>80609.000000</td>\n",
       "      <td>67.149624</td>\n",
       "    </tr>\n",
       "    <tr>\n",
       "      <th>75%</th>\n",
       "      <td>83035.000000</td>\n",
       "      <td>88.331390</td>\n",
       "    </tr>\n",
       "    <tr>\n",
       "      <th>max</th>\n",
       "      <td>85461.000000</td>\n",
       "      <td>533.698714</td>\n",
       "    </tr>\n",
       "  </tbody>\n",
       "</table>\n",
       "</div>"
      ],
      "text/plain": [
       "                 id     site_eui\n",
       "count   9705.000000  9705.000000\n",
       "mean   80609.000000    76.488023\n",
       "std     2801.736515    43.193222\n",
       "min    75757.000000     1.277666\n",
       "25%    78183.000000    50.961709\n",
       "50%    80609.000000    67.149624\n",
       "75%    83035.000000    88.331390\n",
       "max    85461.000000   533.698714"
      ]
     },
     "execution_count": 11,
     "metadata": {},
     "output_type": "execute_result"
    }
   ],
   "source": [
    "df_modelo_5c.describe()"
   ]
  },
  {
   "cell_type": "code",
   "execution_count": 12,
   "id": "743c5a17",
   "metadata": {},
   "outputs": [
    {
     "data": {
      "text/html": [
       "<div>\n",
       "<style scoped>\n",
       "    .dataframe tbody tr th:only-of-type {\n",
       "        vertical-align: middle;\n",
       "    }\n",
       "\n",
       "    .dataframe tbody tr th {\n",
       "        vertical-align: top;\n",
       "    }\n",
       "\n",
       "    .dataframe thead th {\n",
       "        text-align: right;\n",
       "    }\n",
       "</style>\n",
       "<table border=\"1\" class=\"dataframe\">\n",
       "  <thead>\n",
       "    <tr style=\"text-align: right;\">\n",
       "      <th></th>\n",
       "      <th>id</th>\n",
       "      <th>site_eui</th>\n",
       "    </tr>\n",
       "  </thead>\n",
       "  <tbody>\n",
       "    <tr>\n",
       "      <th>count</th>\n",
       "      <td>9705.000000</td>\n",
       "      <td>9705.000000</td>\n",
       "    </tr>\n",
       "    <tr>\n",
       "      <th>mean</th>\n",
       "      <td>80609.000000</td>\n",
       "      <td>72.771649</td>\n",
       "    </tr>\n",
       "    <tr>\n",
       "      <th>std</th>\n",
       "      <td>2801.736515</td>\n",
       "      <td>38.966106</td>\n",
       "    </tr>\n",
       "    <tr>\n",
       "      <th>min</th>\n",
       "      <td>75757.000000</td>\n",
       "      <td>5.568846</td>\n",
       "    </tr>\n",
       "    <tr>\n",
       "      <th>25%</th>\n",
       "      <td>78183.000000</td>\n",
       "      <td>46.913136</td>\n",
       "    </tr>\n",
       "    <tr>\n",
       "      <th>50%</th>\n",
       "      <td>80609.000000</td>\n",
       "      <td>65.332428</td>\n",
       "    </tr>\n",
       "    <tr>\n",
       "      <th>75%</th>\n",
       "      <td>83035.000000</td>\n",
       "      <td>87.713881</td>\n",
       "    </tr>\n",
       "    <tr>\n",
       "      <th>max</th>\n",
       "      <td>85461.000000</td>\n",
       "      <td>385.970946</td>\n",
       "    </tr>\n",
       "  </tbody>\n",
       "</table>\n",
       "</div>"
      ],
      "text/plain": [
       "                 id     site_eui\n",
       "count   9705.000000  9705.000000\n",
       "mean   80609.000000    72.771649\n",
       "std     2801.736515    38.966106\n",
       "min    75757.000000     5.568846\n",
       "25%    78183.000000    46.913136\n",
       "50%    80609.000000    65.332428\n",
       "75%    83035.000000    87.713881\n",
       "max    85461.000000   385.970946"
      ]
     },
     "execution_count": 12,
     "metadata": {},
     "output_type": "execute_result"
    }
   ],
   "source": [
    "df_modelo_6.describe()"
   ]
  },
  {
   "cell_type": "code",
   "execution_count": 13,
   "id": "7fc45f5b",
   "metadata": {},
   "outputs": [
    {
     "data": {
      "text/html": [
       "<div>\n",
       "<style scoped>\n",
       "    .dataframe tbody tr th:only-of-type {\n",
       "        vertical-align: middle;\n",
       "    }\n",
       "\n",
       "    .dataframe tbody tr th {\n",
       "        vertical-align: top;\n",
       "    }\n",
       "\n",
       "    .dataframe thead th {\n",
       "        text-align: right;\n",
       "    }\n",
       "</style>\n",
       "<table border=\"1\" class=\"dataframe\">\n",
       "  <thead>\n",
       "    <tr style=\"text-align: right;\">\n",
       "      <th></th>\n",
       "      <th>id</th>\n",
       "      <th>site_eui</th>\n",
       "    </tr>\n",
       "  </thead>\n",
       "  <tbody>\n",
       "    <tr>\n",
       "      <th>count</th>\n",
       "      <td>9705.000000</td>\n",
       "      <td>9705.000000</td>\n",
       "    </tr>\n",
       "    <tr>\n",
       "      <th>mean</th>\n",
       "      <td>80609.000000</td>\n",
       "      <td>75.307492</td>\n",
       "    </tr>\n",
       "    <tr>\n",
       "      <th>std</th>\n",
       "      <td>2801.736515</td>\n",
       "      <td>47.404875</td>\n",
       "    </tr>\n",
       "    <tr>\n",
       "      <th>min</th>\n",
       "      <td>75757.000000</td>\n",
       "      <td>-10.639904</td>\n",
       "    </tr>\n",
       "    <tr>\n",
       "      <th>25%</th>\n",
       "      <td>78183.000000</td>\n",
       "      <td>50.161319</td>\n",
       "    </tr>\n",
       "    <tr>\n",
       "      <th>50%</th>\n",
       "      <td>80609.000000</td>\n",
       "      <td>66.830438</td>\n",
       "    </tr>\n",
       "    <tr>\n",
       "      <th>75%</th>\n",
       "      <td>83035.000000</td>\n",
       "      <td>88.099130</td>\n",
       "    </tr>\n",
       "    <tr>\n",
       "      <th>max</th>\n",
       "      <td>85461.000000</td>\n",
       "      <td>870.643622</td>\n",
       "    </tr>\n",
       "  </tbody>\n",
       "</table>\n",
       "</div>"
      ],
      "text/plain": [
       "                 id     site_eui\n",
       "count   9705.000000  9705.000000\n",
       "mean   80609.000000    75.307492\n",
       "std     2801.736515    47.404875\n",
       "min    75757.000000   -10.639904\n",
       "25%    78183.000000    50.161319\n",
       "50%    80609.000000    66.830438\n",
       "75%    83035.000000    88.099130\n",
       "max    85461.000000   870.643622"
      ]
     },
     "execution_count": 13,
     "metadata": {},
     "output_type": "execute_result"
    }
   ],
   "source": [
    "df_modelo_interpretacion1.describe()"
   ]
  },
  {
   "cell_type": "code",
   "execution_count": 14,
   "id": "edf2a38e",
   "metadata": {},
   "outputs": [
    {
     "data": {
      "text/html": [
       "<div>\n",
       "<style scoped>\n",
       "    .dataframe tbody tr th:only-of-type {\n",
       "        vertical-align: middle;\n",
       "    }\n",
       "\n",
       "    .dataframe tbody tr th {\n",
       "        vertical-align: top;\n",
       "    }\n",
       "\n",
       "    .dataframe thead th {\n",
       "        text-align: right;\n",
       "    }\n",
       "</style>\n",
       "<table border=\"1\" class=\"dataframe\">\n",
       "  <thead>\n",
       "    <tr style=\"text-align: right;\">\n",
       "      <th></th>\n",
       "      <th>id</th>\n",
       "      <th>site_eui</th>\n",
       "    </tr>\n",
       "  </thead>\n",
       "  <tbody>\n",
       "    <tr>\n",
       "      <th>count</th>\n",
       "      <td>9705.000000</td>\n",
       "      <td>9705.000000</td>\n",
       "    </tr>\n",
       "    <tr>\n",
       "      <th>mean</th>\n",
       "      <td>80609.000000</td>\n",
       "      <td>75.720042</td>\n",
       "    </tr>\n",
       "    <tr>\n",
       "      <th>std</th>\n",
       "      <td>2801.736515</td>\n",
       "      <td>47.982081</td>\n",
       "    </tr>\n",
       "    <tr>\n",
       "      <th>min</th>\n",
       "      <td>75757.000000</td>\n",
       "      <td>-16.312701</td>\n",
       "    </tr>\n",
       "    <tr>\n",
       "      <th>25%</th>\n",
       "      <td>78183.000000</td>\n",
       "      <td>49.781236</td>\n",
       "    </tr>\n",
       "    <tr>\n",
       "      <th>50%</th>\n",
       "      <td>80609.000000</td>\n",
       "      <td>67.632519</td>\n",
       "    </tr>\n",
       "    <tr>\n",
       "      <th>75%</th>\n",
       "      <td>83035.000000</td>\n",
       "      <td>89.017311</td>\n",
       "    </tr>\n",
       "    <tr>\n",
       "      <th>max</th>\n",
       "      <td>85461.000000</td>\n",
       "      <td>860.078520</td>\n",
       "    </tr>\n",
       "  </tbody>\n",
       "</table>\n",
       "</div>"
      ],
      "text/plain": [
       "                 id     site_eui\n",
       "count   9705.000000  9705.000000\n",
       "mean   80609.000000    75.720042\n",
       "std     2801.736515    47.982081\n",
       "min    75757.000000   -16.312701\n",
       "25%    78183.000000    49.781236\n",
       "50%    80609.000000    67.632519\n",
       "75%    83035.000000    89.017311\n",
       "max    85461.000000   860.078520"
      ]
     },
     "execution_count": 14,
     "metadata": {},
     "output_type": "execute_result"
    }
   ],
   "source": [
    "df_modelo_interpretacion2.describe()"
   ]
  },
  {
   "cell_type": "markdown",
   "id": "e5463637",
   "metadata": {},
   "source": [
    "interpretacion_1 and interpretacion_2 have values of site_eui below 0"
   ]
  },
  {
   "cell_type": "markdown",
   "id": "96bdbb95",
   "metadata": {},
   "source": [
    "## Modification of model \"interpretacion1\""
   ]
  },
  {
   "cell_type": "code",
   "execution_count": 15,
   "id": "5be1344f",
   "metadata": {},
   "outputs": [
    {
     "data": {
      "text/html": [
       "<div>\n",
       "<style scoped>\n",
       "    .dataframe tbody tr th:only-of-type {\n",
       "        vertical-align: middle;\n",
       "    }\n",
       "\n",
       "    .dataframe tbody tr th {\n",
       "        vertical-align: top;\n",
       "    }\n",
       "\n",
       "    .dataframe thead th {\n",
       "        text-align: right;\n",
       "    }\n",
       "</style>\n",
       "<table border=\"1\" class=\"dataframe\">\n",
       "  <thead>\n",
       "    <tr style=\"text-align: right;\">\n",
       "      <th></th>\n",
       "      <th>id</th>\n",
       "      <th>site_eui</th>\n",
       "    </tr>\n",
       "  </thead>\n",
       "  <tbody>\n",
       "    <tr>\n",
       "      <th>count</th>\n",
       "      <td>9705.000000</td>\n",
       "      <td>9705.000000</td>\n",
       "    </tr>\n",
       "    <tr>\n",
       "      <th>mean</th>\n",
       "      <td>80609.000000</td>\n",
       "      <td>75.311855</td>\n",
       "    </tr>\n",
       "    <tr>\n",
       "      <th>std</th>\n",
       "      <td>2801.736515</td>\n",
       "      <td>47.397605</td>\n",
       "    </tr>\n",
       "    <tr>\n",
       "      <th>min</th>\n",
       "      <td>75757.000000</td>\n",
       "      <td>0.000000</td>\n",
       "    </tr>\n",
       "    <tr>\n",
       "      <th>25%</th>\n",
       "      <td>78183.000000</td>\n",
       "      <td>50.161319</td>\n",
       "    </tr>\n",
       "    <tr>\n",
       "      <th>50%</th>\n",
       "      <td>80609.000000</td>\n",
       "      <td>66.830438</td>\n",
       "    </tr>\n",
       "    <tr>\n",
       "      <th>75%</th>\n",
       "      <td>83035.000000</td>\n",
       "      <td>88.099130</td>\n",
       "    </tr>\n",
       "    <tr>\n",
       "      <th>max</th>\n",
       "      <td>85461.000000</td>\n",
       "      <td>870.643622</td>\n",
       "    </tr>\n",
       "  </tbody>\n",
       "</table>\n",
       "</div>"
      ],
      "text/plain": [
       "                 id     site_eui\n",
       "count   9705.000000  9705.000000\n",
       "mean   80609.000000    75.311855\n",
       "std     2801.736515    47.397605\n",
       "min    75757.000000     0.000000\n",
       "25%    78183.000000    50.161319\n",
       "50%    80609.000000    66.830438\n",
       "75%    83035.000000    88.099130\n",
       "max    85461.000000   870.643622"
      ]
     },
     "execution_count": 15,
     "metadata": {},
     "output_type": "execute_result"
    }
   ],
   "source": [
    "#filter for rows with site_eui below 0\n",
    "filt = (df_modelo_interpretacion1['site_eui'] <= 0)\n",
    "\n",
    "#filter values\n",
    "values = df_modelo_interpretacion1[filt]['site_eui']\n",
    "\n",
    "# replace values with 0\n",
    "df_modelo_interpretacion1['site_eui'] = df_modelo_interpretacion1['site_eui'].replace([values],0)\n",
    "\n",
    "#verification of changes\n",
    "df_modelo_interpretacion1.describe()"
   ]
  },
  {
   "cell_type": "code",
   "execution_count": 16,
   "id": "36f84ebb",
   "metadata": {},
   "outputs": [],
   "source": [
    "submit['site_eui'] = df_modelo_interpretacion1['site_eui']\n",
    "submit.to_csv('modelo_interpretacion_corr.csv',index=False)"
   ]
  },
  {
   "cell_type": "markdown",
   "id": "178d87c2",
   "metadata": {},
   "source": [
    "## Modification of model \"interpretacion2\""
   ]
  },
  {
   "cell_type": "code",
   "execution_count": 17,
   "id": "0a8d2f7a",
   "metadata": {},
   "outputs": [
    {
     "data": {
      "text/html": [
       "<div>\n",
       "<style scoped>\n",
       "    .dataframe tbody tr th:only-of-type {\n",
       "        vertical-align: middle;\n",
       "    }\n",
       "\n",
       "    .dataframe tbody tr th {\n",
       "        vertical-align: top;\n",
       "    }\n",
       "\n",
       "    .dataframe thead th {\n",
       "        text-align: right;\n",
       "    }\n",
       "</style>\n",
       "<table border=\"1\" class=\"dataframe\">\n",
       "  <thead>\n",
       "    <tr style=\"text-align: right;\">\n",
       "      <th></th>\n",
       "      <th>id</th>\n",
       "      <th>site_eui</th>\n",
       "    </tr>\n",
       "  </thead>\n",
       "  <tbody>\n",
       "    <tr>\n",
       "      <th>count</th>\n",
       "      <td>9705.000000</td>\n",
       "      <td>9705.000000</td>\n",
       "    </tr>\n",
       "    <tr>\n",
       "      <th>mean</th>\n",
       "      <td>80609.000000</td>\n",
       "      <td>75.727395</td>\n",
       "    </tr>\n",
       "    <tr>\n",
       "      <th>std</th>\n",
       "      <td>2801.736515</td>\n",
       "      <td>47.969699</td>\n",
       "    </tr>\n",
       "    <tr>\n",
       "      <th>min</th>\n",
       "      <td>75757.000000</td>\n",
       "      <td>0.000000</td>\n",
       "    </tr>\n",
       "    <tr>\n",
       "      <th>25%</th>\n",
       "      <td>78183.000000</td>\n",
       "      <td>49.781236</td>\n",
       "    </tr>\n",
       "    <tr>\n",
       "      <th>50%</th>\n",
       "      <td>80609.000000</td>\n",
       "      <td>67.632519</td>\n",
       "    </tr>\n",
       "    <tr>\n",
       "      <th>75%</th>\n",
       "      <td>83035.000000</td>\n",
       "      <td>89.017311</td>\n",
       "    </tr>\n",
       "    <tr>\n",
       "      <th>max</th>\n",
       "      <td>85461.000000</td>\n",
       "      <td>860.078520</td>\n",
       "    </tr>\n",
       "  </tbody>\n",
       "</table>\n",
       "</div>"
      ],
      "text/plain": [
       "                 id     site_eui\n",
       "count   9705.000000  9705.000000\n",
       "mean   80609.000000    75.727395\n",
       "std     2801.736515    47.969699\n",
       "min    75757.000000     0.000000\n",
       "25%    78183.000000    49.781236\n",
       "50%    80609.000000    67.632519\n",
       "75%    83035.000000    89.017311\n",
       "max    85461.000000   860.078520"
      ]
     },
     "execution_count": 17,
     "metadata": {},
     "output_type": "execute_result"
    }
   ],
   "source": [
    "#filter for rows with site_eui below 0\n",
    "filt = (df_modelo_interpretacion2['site_eui'] <= 0)\n",
    "\n",
    "#filter values\n",
    "values = df_modelo_interpretacion2[filt]['site_eui']\n",
    "\n",
    "# replace values with 0\n",
    "df_modelo_interpretacion2['site_eui'] = df_modelo_interpretacion2['site_eui'].replace([values],0)\n",
    "\n",
    "#verification of changes\n",
    "df_modelo_interpretacion2.describe()"
   ]
  },
  {
   "cell_type": "code",
   "execution_count": 18,
   "id": "1f8fc2b0",
   "metadata": {},
   "outputs": [],
   "source": [
    "submit['site_eui'] = df_modelo_interpretacion2['site_eui']\n",
    "submit.to_csv('modelo_interpretacion2_corr.csv',index=False)"
   ]
  },
  {
   "cell_type": "markdown",
   "id": "84647320",
   "metadata": {},
   "source": [
    "## New mean models"
   ]
  },
  {
   "cell_type": "code",
   "execution_count": 19,
   "id": "6a437a50",
   "metadata": {},
   "outputs": [
    {
     "data": {
      "text/plain": [
       "0       247.460643\n",
       "1       226.063839\n",
       "2       251.612063\n",
       "3       254.889196\n",
       "4       236.678025\n",
       "           ...    \n",
       "9700     42.942052\n",
       "9701     44.946675\n",
       "9702     45.619117\n",
       "9703     52.010428\n",
       "9704     30.319335\n",
       "Name: site_eui, Length: 9705, dtype: float64"
      ]
     },
     "execution_count": 19,
     "metadata": {},
     "output_type": "execute_result"
    }
   ],
   "source": [
    "site_eui_mean = (df_modelo_5b['site_eui'] + df_modelo_5c['site_eui'] + df_modelo_6['site_eui'] + df_modelo_interpretacion1['site_eui'] + df_modelo_interpretacion2['site_eui'])/len(models)\n",
    "site_eui_mean"
   ]
  },
  {
   "cell_type": "code",
   "execution_count": 20,
   "id": "a90530f8",
   "metadata": {},
   "outputs": [],
   "source": [
    "submit['site_eui'] = site_eui_mean\n",
    "submit.to_csv('modelo_mean.csv',index=False)"
   ]
  }
 ],
 "metadata": {
  "kernelspec": {
   "display_name": "Python 3",
   "language": "python",
   "name": "python3"
  },
  "language_info": {
   "codemirror_mode": {
    "name": "ipython",
    "version": 3
   },
   "file_extension": ".py",
   "mimetype": "text/x-python",
   "name": "python",
   "nbconvert_exporter": "python",
   "pygments_lexer": "ipython3",
   "version": "3.8.8"
  }
 },
 "nbformat": 4,
 "nbformat_minor": 5
}
