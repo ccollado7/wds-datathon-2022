{
 "cells": [
  {
   "cell_type": "markdown",
   "id": "ebc6157e",
   "metadata": {},
   "source": [
    "# Kaggle - WiDS Datathon 2022\n",
    "\n",
    "## Modelo Histórico - Lags + medias históricas"
   ]
  },
  {
   "cell_type": "markdown",
   "id": "051df3f1",
   "metadata": {},
   "source": [
    "# 1. Modules"
   ]
  },
  {
   "cell_type": "code",
   "execution_count": 77,
   "id": "2bc0b376",
   "metadata": {
    "tags": []
   },
   "outputs": [],
   "source": [
    "import numpy as np\n",
    "import pandas as pd\n",
    "import matplotlib.pyplot as plt\n",
    "import seaborn as sns\n",
    "\n",
    "import warnings\n",
    "warnings.filterwarnings('ignore')\n",
    "\n",
    "#model\n",
    "from catboost import CatBoostRegressor\n",
    "\n",
    "import xgboost\n",
    "from xgboost import XGBRegressor\n",
    "from sklearn.metrics import mean_squared_error\n",
    "from sklearn.preprocessing import LabelEncoder\n",
    "from sklearn.model_selection import train_test_split\n",
    "from sklearn.metrics import mean_squared_error as MSE"
   ]
  },
  {
   "cell_type": "markdown",
   "id": "30bcb944",
   "metadata": {},
   "source": [
    "# 2. Data"
   ]
  },
  {
   "cell_type": "code",
   "execution_count": 107,
   "id": "4a4bf61e",
   "metadata": {},
   "outputs": [],
   "source": [
    "train_path = 'https://raw.githubusercontent.com/ccollado7/wds-datathon-2022/main/data/raw/train_last.csv'\n",
    "#train_path='C:/Users/flavi/Documents/DataScience/kaggle/wids_2022/wds-datathon-2022/data/raw/train_last.csv'\n",
    "test_path = 'https://raw.githubusercontent.com/ccollado7/wds-datathon-2022/main/data/raw/test_last.csv'\n",
    "#test_path='C:/Users/flavi/Documents/DataScience/kaggle/wids_2022/wds-datathon-2022/data/raw/test_last.csv'\n",
    "submit_path = 'https://raw.githubusercontent.com/ccollado7/wds-datathon-2022/main/data/raw/sample_solution.csv'\n",
    "#submit_path = 'C:/Users/flavi/Documents/DataScience/kaggle/wids_2022/wds-datathon-2022/data/raw/sample_solution.csv'"
   ]
  },
  {
   "cell_type": "markdown",
   "id": "4c3b6b71-5879-4138-af53-50483d37ecc0",
   "metadata": {},
   "source": [
    "### Datos típicos:\n",
    "+ Se usan solo para referencia\n",
    "https://www.energystar.gov/sites/default/files/tools/Climate_and_Weather_2020_508.pdf\n",
    "\n",
    "+ Referencias de Site_EUI y Source_EUI  (eui_normal.pdf)\n",
    "https://www.energystar.gov/buildings/benchmark/understand_metrics/score_details"
   ]
  },
  {
   "cell_type": "code",
   "execution_count": 79,
   "id": "c2b79ec4",
   "metadata": {},
   "outputs": [
    {
     "data": {
      "text/html": [
       "<div>\n",
       "<style scoped>\n",
       "    .dataframe tbody tr th:only-of-type {\n",
       "        vertical-align: middle;\n",
       "    }\n",
       "\n",
       "    .dataframe tbody tr th {\n",
       "        vertical-align: top;\n",
       "    }\n",
       "\n",
       "    .dataframe thead th {\n",
       "        text-align: right;\n",
       "    }\n",
       "</style>\n",
       "<table border=\"1\" class=\"dataframe\">\n",
       "  <thead>\n",
       "    <tr style=\"text-align: right;\">\n",
       "      <th></th>\n",
       "      <th>Year_Factor</th>\n",
       "      <th>State_Factor</th>\n",
       "      <th>building_class</th>\n",
       "      <th>facility_type</th>\n",
       "      <th>floor_area</th>\n",
       "      <th>year_built</th>\n",
       "      <th>energy_star_rating</th>\n",
       "      <th>ELEVATION</th>\n",
       "      <th>january_min_temp</th>\n",
       "      <th>january_avg_temp</th>\n",
       "      <th>...</th>\n",
       "      <th>days_below_0F_last</th>\n",
       "      <th>days_above_80F_last</th>\n",
       "      <th>days_above_90F_last</th>\n",
       "      <th>days_above_100F_last</th>\n",
       "      <th>days_above_110F_last</th>\n",
       "      <th>direction_max_wind_speed_last</th>\n",
       "      <th>direction_peak_wind_speed_last</th>\n",
       "      <th>max_wind_speed_last</th>\n",
       "      <th>days_with_fog_last</th>\n",
       "      <th>site_eui_last</th>\n",
       "    </tr>\n",
       "  </thead>\n",
       "  <tbody>\n",
       "    <tr>\n",
       "      <th>0</th>\n",
       "      <td>1</td>\n",
       "      <td>State_1</td>\n",
       "      <td>Commercial</td>\n",
       "      <td>Grocery_store_or_food_market</td>\n",
       "      <td>61242</td>\n",
       "      <td>1942.0</td>\n",
       "      <td>11.0</td>\n",
       "      <td>2.4</td>\n",
       "      <td>36</td>\n",
       "      <td>50.5</td>\n",
       "      <td>...</td>\n",
       "      <td>NaN</td>\n",
       "      <td>NaN</td>\n",
       "      <td>NaN</td>\n",
       "      <td>NaN</td>\n",
       "      <td>NaN</td>\n",
       "      <td>NaN</td>\n",
       "      <td>NaN</td>\n",
       "      <td>NaN</td>\n",
       "      <td>NaN</td>\n",
       "      <td>NaN</td>\n",
       "    </tr>\n",
       "    <tr>\n",
       "      <th>1</th>\n",
       "      <td>1</td>\n",
       "      <td>State_1</td>\n",
       "      <td>Commercial</td>\n",
       "      <td>Warehouse_Distribution_or_Shipping_center</td>\n",
       "      <td>274000</td>\n",
       "      <td>1955.0</td>\n",
       "      <td>45.0</td>\n",
       "      <td>1.8</td>\n",
       "      <td>36</td>\n",
       "      <td>50.5</td>\n",
       "      <td>...</td>\n",
       "      <td>NaN</td>\n",
       "      <td>NaN</td>\n",
       "      <td>NaN</td>\n",
       "      <td>NaN</td>\n",
       "      <td>NaN</td>\n",
       "      <td>NaN</td>\n",
       "      <td>NaN</td>\n",
       "      <td>NaN</td>\n",
       "      <td>NaN</td>\n",
       "      <td>NaN</td>\n",
       "    </tr>\n",
       "    <tr>\n",
       "      <th>2</th>\n",
       "      <td>1</td>\n",
       "      <td>State_1</td>\n",
       "      <td>Commercial</td>\n",
       "      <td>Retail_Enclosed_mall</td>\n",
       "      <td>280025</td>\n",
       "      <td>1951.0</td>\n",
       "      <td>97.0</td>\n",
       "      <td>1.8</td>\n",
       "      <td>36</td>\n",
       "      <td>50.5</td>\n",
       "      <td>...</td>\n",
       "      <td>NaN</td>\n",
       "      <td>NaN</td>\n",
       "      <td>NaN</td>\n",
       "      <td>NaN</td>\n",
       "      <td>NaN</td>\n",
       "      <td>NaN</td>\n",
       "      <td>NaN</td>\n",
       "      <td>NaN</td>\n",
       "      <td>NaN</td>\n",
       "      <td>NaN</td>\n",
       "    </tr>\n",
       "    <tr>\n",
       "      <th>3</th>\n",
       "      <td>1</td>\n",
       "      <td>State_1</td>\n",
       "      <td>Commercial</td>\n",
       "      <td>Education_Other_classroom</td>\n",
       "      <td>55325</td>\n",
       "      <td>1980.0</td>\n",
       "      <td>46.0</td>\n",
       "      <td>1.8</td>\n",
       "      <td>36</td>\n",
       "      <td>50.5</td>\n",
       "      <td>...</td>\n",
       "      <td>NaN</td>\n",
       "      <td>NaN</td>\n",
       "      <td>NaN</td>\n",
       "      <td>NaN</td>\n",
       "      <td>NaN</td>\n",
       "      <td>NaN</td>\n",
       "      <td>NaN</td>\n",
       "      <td>NaN</td>\n",
       "      <td>NaN</td>\n",
       "      <td>NaN</td>\n",
       "    </tr>\n",
       "    <tr>\n",
       "      <th>4</th>\n",
       "      <td>1</td>\n",
       "      <td>State_1</td>\n",
       "      <td>Commercial</td>\n",
       "      <td>Warehouse_Nonrefrigerated</td>\n",
       "      <td>66000</td>\n",
       "      <td>1985.0</td>\n",
       "      <td>100.0</td>\n",
       "      <td>2.4</td>\n",
       "      <td>36</td>\n",
       "      <td>50.5</td>\n",
       "      <td>...</td>\n",
       "      <td>NaN</td>\n",
       "      <td>NaN</td>\n",
       "      <td>NaN</td>\n",
       "      <td>NaN</td>\n",
       "      <td>NaN</td>\n",
       "      <td>NaN</td>\n",
       "      <td>NaN</td>\n",
       "      <td>NaN</td>\n",
       "      <td>NaN</td>\n",
       "      <td>NaN</td>\n",
       "    </tr>\n",
       "  </tbody>\n",
       "</table>\n",
       "<p>5 rows × 120 columns</p>\n",
       "</div>"
      ],
      "text/plain": [
       "   Year_Factor State_Factor building_class  \\\n",
       "0            1      State_1     Commercial   \n",
       "1            1      State_1     Commercial   \n",
       "2            1      State_1     Commercial   \n",
       "3            1      State_1     Commercial   \n",
       "4            1      State_1     Commercial   \n",
       "\n",
       "                               facility_type  floor_area  year_built  \\\n",
       "0               Grocery_store_or_food_market       61242      1942.0   \n",
       "1  Warehouse_Distribution_or_Shipping_center      274000      1955.0   \n",
       "2                       Retail_Enclosed_mall      280025      1951.0   \n",
       "3                  Education_Other_classroom       55325      1980.0   \n",
       "4                  Warehouse_Nonrefrigerated       66000      1985.0   \n",
       "\n",
       "   energy_star_rating  ELEVATION  january_min_temp  january_avg_temp  ...  \\\n",
       "0                11.0        2.4                36              50.5  ...   \n",
       "1                45.0        1.8                36              50.5  ...   \n",
       "2                97.0        1.8                36              50.5  ...   \n",
       "3                46.0        1.8                36              50.5  ...   \n",
       "4               100.0        2.4                36              50.5  ...   \n",
       "\n",
       "   days_below_0F_last  days_above_80F_last  days_above_90F_last  \\\n",
       "0                 NaN                  NaN                  NaN   \n",
       "1                 NaN                  NaN                  NaN   \n",
       "2                 NaN                  NaN                  NaN   \n",
       "3                 NaN                  NaN                  NaN   \n",
       "4                 NaN                  NaN                  NaN   \n",
       "\n",
       "   days_above_100F_last  days_above_110F_last  direction_max_wind_speed_last  \\\n",
       "0                   NaN                   NaN                            NaN   \n",
       "1                   NaN                   NaN                            NaN   \n",
       "2                   NaN                   NaN                            NaN   \n",
       "3                   NaN                   NaN                            NaN   \n",
       "4                   NaN                   NaN                            NaN   \n",
       "\n",
       "   direction_peak_wind_speed_last  max_wind_speed_last  days_with_fog_last  \\\n",
       "0                             NaN                  NaN                 NaN   \n",
       "1                             NaN                  NaN                 NaN   \n",
       "2                             NaN                  NaN                 NaN   \n",
       "3                             NaN                  NaN                 NaN   \n",
       "4                             NaN                  NaN                 NaN   \n",
       "\n",
       "   site_eui_last  \n",
       "0            NaN  \n",
       "1            NaN  \n",
       "2            NaN  \n",
       "3            NaN  \n",
       "4            NaN  \n",
       "\n",
       "[5 rows x 120 columns]"
      ]
     },
     "execution_count": 79,
     "metadata": {},
     "output_type": "execute_result"
    }
   ],
   "source": [
    "#train dataset\n",
    "train = pd.read_csv(train_path)\n",
    "train.head()"
   ]
  },
  {
   "cell_type": "code",
   "execution_count": 80,
   "id": "aad601b1",
   "metadata": {},
   "outputs": [
    {
     "data": {
      "text/html": [
       "<div>\n",
       "<style scoped>\n",
       "    .dataframe tbody tr th:only-of-type {\n",
       "        vertical-align: middle;\n",
       "    }\n",
       "\n",
       "    .dataframe tbody tr th {\n",
       "        vertical-align: top;\n",
       "    }\n",
       "\n",
       "    .dataframe thead th {\n",
       "        text-align: right;\n",
       "    }\n",
       "</style>\n",
       "<table border=\"1\" class=\"dataframe\">\n",
       "  <thead>\n",
       "    <tr style=\"text-align: right;\">\n",
       "      <th></th>\n",
       "      <th>Year_Factor</th>\n",
       "      <th>State_Factor</th>\n",
       "      <th>building_class</th>\n",
       "      <th>facility_type</th>\n",
       "      <th>floor_area</th>\n",
       "      <th>year_built</th>\n",
       "      <th>energy_star_rating</th>\n",
       "      <th>ELEVATION</th>\n",
       "      <th>january_min_temp</th>\n",
       "      <th>january_avg_temp</th>\n",
       "      <th>...</th>\n",
       "      <th>days_below_0F_last</th>\n",
       "      <th>days_above_80F_last</th>\n",
       "      <th>days_above_90F_last</th>\n",
       "      <th>days_above_100F_last</th>\n",
       "      <th>days_above_110F_last</th>\n",
       "      <th>direction_max_wind_speed_last</th>\n",
       "      <th>direction_peak_wind_speed_last</th>\n",
       "      <th>max_wind_speed_last</th>\n",
       "      <th>days_with_fog_last</th>\n",
       "      <th>site_eui_last</th>\n",
       "    </tr>\n",
       "  </thead>\n",
       "  <tbody>\n",
       "    <tr>\n",
       "      <th>0</th>\n",
       "      <td>7</td>\n",
       "      <td>State_1</td>\n",
       "      <td>Commercial</td>\n",
       "      <td>Grocery_store_or_food_market</td>\n",
       "      <td>28484</td>\n",
       "      <td>1994.0</td>\n",
       "      <td>37.0</td>\n",
       "      <td>2.4</td>\n",
       "      <td>38</td>\n",
       "      <td>50.596774</td>\n",
       "      <td>...</td>\n",
       "      <td>0.0</td>\n",
       "      <td>83.6</td>\n",
       "      <td>25.400000</td>\n",
       "      <td>3.200000</td>\n",
       "      <td>0.0</td>\n",
       "      <td>NaN</td>\n",
       "      <td>NaN</td>\n",
       "      <td>NaN</td>\n",
       "      <td>88.0</td>\n",
       "      <td>147.640984</td>\n",
       "    </tr>\n",
       "    <tr>\n",
       "      <th>1</th>\n",
       "      <td>7</td>\n",
       "      <td>State_1</td>\n",
       "      <td>Commercial</td>\n",
       "      <td>Grocery_store_or_food_market</td>\n",
       "      <td>21906</td>\n",
       "      <td>1961.0</td>\n",
       "      <td>55.0</td>\n",
       "      <td>45.7</td>\n",
       "      <td>38</td>\n",
       "      <td>50.596774</td>\n",
       "      <td>...</td>\n",
       "      <td>0.0</td>\n",
       "      <td>72.5</td>\n",
       "      <td>22.750000</td>\n",
       "      <td>3.750000</td>\n",
       "      <td>0.0</td>\n",
       "      <td>NaN</td>\n",
       "      <td>NaN</td>\n",
       "      <td>NaN</td>\n",
       "      <td>NaN</td>\n",
       "      <td>289.311781</td>\n",
       "    </tr>\n",
       "    <tr>\n",
       "      <th>2</th>\n",
       "      <td>7</td>\n",
       "      <td>State_1</td>\n",
       "      <td>Commercial</td>\n",
       "      <td>Grocery_store_or_food_market</td>\n",
       "      <td>16138</td>\n",
       "      <td>1950.0</td>\n",
       "      <td>1.0</td>\n",
       "      <td>59.1</td>\n",
       "      <td>38</td>\n",
       "      <td>50.596774</td>\n",
       "      <td>...</td>\n",
       "      <td>0.0</td>\n",
       "      <td>72.5</td>\n",
       "      <td>22.750000</td>\n",
       "      <td>3.750000</td>\n",
       "      <td>0.0</td>\n",
       "      <td>NaN</td>\n",
       "      <td>NaN</td>\n",
       "      <td>NaN</td>\n",
       "      <td>NaN</td>\n",
       "      <td>152.767192</td>\n",
       "    </tr>\n",
       "    <tr>\n",
       "      <th>3</th>\n",
       "      <td>7</td>\n",
       "      <td>State_1</td>\n",
       "      <td>Commercial</td>\n",
       "      <td>Grocery_store_or_food_market</td>\n",
       "      <td>97422</td>\n",
       "      <td>1971.0</td>\n",
       "      <td>34.0</td>\n",
       "      <td>35.4</td>\n",
       "      <td>38</td>\n",
       "      <td>50.596774</td>\n",
       "      <td>...</td>\n",
       "      <td>0.0</td>\n",
       "      <td>69.5</td>\n",
       "      <td>21.000000</td>\n",
       "      <td>2.666667</td>\n",
       "      <td>0.0</td>\n",
       "      <td>NaN</td>\n",
       "      <td>NaN</td>\n",
       "      <td>NaN</td>\n",
       "      <td>88.0</td>\n",
       "      <td>269.464612</td>\n",
       "    </tr>\n",
       "    <tr>\n",
       "      <th>4</th>\n",
       "      <td>7</td>\n",
       "      <td>State_1</td>\n",
       "      <td>Commercial</td>\n",
       "      <td>Grocery_store_or_food_market</td>\n",
       "      <td>61242</td>\n",
       "      <td>1942.0</td>\n",
       "      <td>35.0</td>\n",
       "      <td>1.8</td>\n",
       "      <td>38</td>\n",
       "      <td>50.596774</td>\n",
       "      <td>...</td>\n",
       "      <td>0.0</td>\n",
       "      <td>72.0</td>\n",
       "      <td>21.166667</td>\n",
       "      <td>2.666667</td>\n",
       "      <td>0.0</td>\n",
       "      <td>280.0</td>\n",
       "      <td>330.0</td>\n",
       "      <td>17.0</td>\n",
       "      <td>107.0</td>\n",
       "      <td>245.522877</td>\n",
       "    </tr>\n",
       "  </tbody>\n",
       "</table>\n",
       "<p>5 rows × 120 columns</p>\n",
       "</div>"
      ],
      "text/plain": [
       "   Year_Factor State_Factor building_class                 facility_type  \\\n",
       "0            7      State_1     Commercial  Grocery_store_or_food_market   \n",
       "1            7      State_1     Commercial  Grocery_store_or_food_market   \n",
       "2            7      State_1     Commercial  Grocery_store_or_food_market   \n",
       "3            7      State_1     Commercial  Grocery_store_or_food_market   \n",
       "4            7      State_1     Commercial  Grocery_store_or_food_market   \n",
       "\n",
       "   floor_area  year_built  energy_star_rating  ELEVATION  january_min_temp  \\\n",
       "0       28484      1994.0                37.0        2.4                38   \n",
       "1       21906      1961.0                55.0       45.7                38   \n",
       "2       16138      1950.0                 1.0       59.1                38   \n",
       "3       97422      1971.0                34.0       35.4                38   \n",
       "4       61242      1942.0                35.0        1.8                38   \n",
       "\n",
       "   january_avg_temp  ...  days_below_0F_last  days_above_80F_last  \\\n",
       "0         50.596774  ...                 0.0                 83.6   \n",
       "1         50.596774  ...                 0.0                 72.5   \n",
       "2         50.596774  ...                 0.0                 72.5   \n",
       "3         50.596774  ...                 0.0                 69.5   \n",
       "4         50.596774  ...                 0.0                 72.0   \n",
       "\n",
       "   days_above_90F_last  days_above_100F_last  days_above_110F_last  \\\n",
       "0            25.400000              3.200000                   0.0   \n",
       "1            22.750000              3.750000                   0.0   \n",
       "2            22.750000              3.750000                   0.0   \n",
       "3            21.000000              2.666667                   0.0   \n",
       "4            21.166667              2.666667                   0.0   \n",
       "\n",
       "   direction_max_wind_speed_last  direction_peak_wind_speed_last  \\\n",
       "0                            NaN                             NaN   \n",
       "1                            NaN                             NaN   \n",
       "2                            NaN                             NaN   \n",
       "3                            NaN                             NaN   \n",
       "4                          280.0                           330.0   \n",
       "\n",
       "   max_wind_speed_last  days_with_fog_last  site_eui_last  \n",
       "0                  NaN                88.0     147.640984  \n",
       "1                  NaN                 NaN     289.311781  \n",
       "2                  NaN                 NaN     152.767192  \n",
       "3                  NaN                88.0     269.464612  \n",
       "4                 17.0               107.0     245.522877  \n",
       "\n",
       "[5 rows x 120 columns]"
      ]
     },
     "execution_count": 80,
     "metadata": {},
     "output_type": "execute_result"
    }
   ],
   "source": [
    "#test dataset\n",
    "test = pd.read_csv(test_path)\n",
    "test.head()"
   ]
  },
  {
   "cell_type": "code",
   "execution_count": 81,
   "id": "2838f12d-0729-4a9c-8cb9-91863079da92",
   "metadata": {},
   "outputs": [
    {
     "data": {
      "text/html": [
       "<div>\n",
       "<style scoped>\n",
       "    .dataframe tbody tr th:only-of-type {\n",
       "        vertical-align: middle;\n",
       "    }\n",
       "\n",
       "    .dataframe tbody tr th {\n",
       "        vertical-align: top;\n",
       "    }\n",
       "\n",
       "    .dataframe thead th {\n",
       "        text-align: right;\n",
       "    }\n",
       "</style>\n",
       "<table border=\"1\" class=\"dataframe\">\n",
       "  <thead>\n",
       "    <tr style=\"text-align: right;\">\n",
       "      <th></th>\n",
       "      <th>id</th>\n",
       "      <th>site_eui</th>\n",
       "    </tr>\n",
       "  </thead>\n",
       "  <tbody>\n",
       "    <tr>\n",
       "      <th>0</th>\n",
       "      <td>75757</td>\n",
       "      <td>0.0</td>\n",
       "    </tr>\n",
       "    <tr>\n",
       "      <th>1</th>\n",
       "      <td>75758</td>\n",
       "      <td>0.0</td>\n",
       "    </tr>\n",
       "    <tr>\n",
       "      <th>2</th>\n",
       "      <td>75759</td>\n",
       "      <td>0.0</td>\n",
       "    </tr>\n",
       "    <tr>\n",
       "      <th>3</th>\n",
       "      <td>75760</td>\n",
       "      <td>0.0</td>\n",
       "    </tr>\n",
       "    <tr>\n",
       "      <th>4</th>\n",
       "      <td>75761</td>\n",
       "      <td>0.0</td>\n",
       "    </tr>\n",
       "  </tbody>\n",
       "</table>\n",
       "</div>"
      ],
      "text/plain": [
       "      id  site_eui\n",
       "0  75757       0.0\n",
       "1  75758       0.0\n",
       "2  75759       0.0\n",
       "3  75760       0.0\n",
       "4  75761       0.0"
      ]
     },
     "execution_count": 81,
     "metadata": {},
     "output_type": "execute_result"
    }
   ],
   "source": [
    "submit = pd.read_csv(submit_path)\n",
    "submit.head()"
   ]
  },
  {
   "cell_type": "markdown",
   "id": "49366fc5-2c7f-4d81-b2cd-ab1024e86775",
   "metadata": {},
   "source": [
    "Según referencias son importantes cooling_degree_days y heating_degree_days, CDD y HDD"
   ]
  },
  {
   "cell_type": "code",
   "execution_count": 82,
   "id": "5cbbd266-16e5-418f-b0e1-5304dd8b5c8c",
   "metadata": {},
   "outputs": [
    {
     "name": "stdout",
     "output_type": "stream",
     "text": [
      "CDD - median: 1277.0\n",
      "HDD - median: 4337.0\n"
     ]
    }
   ],
   "source": [
    "print('CDD - median:',train.cooling_degree_days.median())\n",
    "print('HDD - median:',train.heating_degree_days.median())"
   ]
  },
  {
   "cell_type": "markdown",
   "id": "ec4660be-6039-4bdf-9aef-f2dfa8ab959b",
   "metadata": {},
   "source": [
    "Los valores medios de USA son CDD: 1364 y HDD: 4233  https://www.energystar.gov/sites/default/files/tools/Multifamily_August_2018_EN_508.pdf"
   ]
  },
  {
   "cell_type": "markdown",
   "id": "69ac9a74-6d29-4cb4-ba79-431f8bc42957",
   "metadata": {},
   "source": [
    "### Armo categóricas de year_built y floor_area para catboost"
   ]
  },
  {
   "cell_type": "code",
   "execution_count": 97,
   "id": "8b1cfd4d-ca62-465e-8de4-f3ff2df16d5f",
   "metadata": {},
   "outputs": [],
   "source": [
    "train.year_built=train.year_built.astype('Int64')\n",
    "train.floor_area=np.ceil(train.floor_area).astype('Int64')\n",
    "\n",
    "train.year_built=train.year_built.astype('str')\n",
    "train.floor_area=train.floor_area.astype('str')\n",
    "\n",
    "test.year_built=test.year_built.astype('Int64')\n",
    "test.floor_area=np.ceil(test.floor_area).astype('Int64')\n",
    "\n",
    "test.year_built=test.year_built.astype('str')\n",
    "test.floor_area=test.floor_area.astype('str')"
   ]
  },
  {
   "cell_type": "markdown",
   "id": "b7669827-74e8-4cc9-a331-646d3e502a78",
   "metadata": {},
   "source": [
    "# 3. Seleccion de variables\n",
    "\n",
    "+ Variables originales\n",
    "+ Variables numéricas - > Last promedio de los valores previos de cada variable hasta el año respectivo"
   ]
  },
  {
   "cell_type": "markdown",
   "id": "582bf1a0-8c6a-42f3-bb36-33cb4df47023",
   "metadata": {},
   "source": [
    "### Elijo las columnas, originales o last"
   ]
  },
  {
   "cell_type": "code",
   "execution_count": 86,
   "id": "6b64801c-e9cb-4a99-a59f-086d323bd854",
   "metadata": {},
   "outputs": [],
   "source": [
    "columnas_originales=['Year_Factor', 'State_Factor', 'building_class', 'facility_type',\n",
    "       'floor_area', 'year_built', 'energy_star_rating', 'ELEVATION',\n",
    "       'january_min_temp', 'january_avg_temp', 'january_max_temp',\n",
    "       'february_min_temp', 'february_avg_temp', 'february_max_temp',\n",
    "       'march_min_temp', 'march_avg_temp', 'march_max_temp', 'april_min_temp',\n",
    "       'april_avg_temp', 'april_max_temp', 'may_min_temp', 'may_avg_temp',\n",
    "       'may_max_temp', 'june_min_temp', 'june_avg_temp', 'june_max_temp',\n",
    "       'july_min_temp', 'july_avg_temp', 'july_max_temp', 'august_min_temp',\n",
    "       'august_avg_temp', 'august_max_temp', 'september_min_temp',\n",
    "       'september_avg_temp', 'september_max_temp', 'october_min_temp',\n",
    "       'october_avg_temp', 'october_max_temp', 'november_min_temp',\n",
    "       'november_avg_temp', 'november_max_temp', 'december_min_temp',\n",
    "       'december_avg_temp', 'december_max_temp', 'cooling_degree_days',\n",
    "       'heating_degree_days', 'precipitation_inches', 'snowfall_inches',\n",
    "       'snowdepth_inches', 'avg_temp', 'days_below_30F', 'days_below_20F',\n",
    "       'days_below_10F', 'days_below_0F', 'days_above_80F', 'days_above_90F',\n",
    "       'days_above_100F', 'days_above_110F', 'direction_max_wind_speed',\n",
    "       'direction_peak_wind_speed', 'max_wind_speed', 'days_with_fog',\n",
    "       'site_eui', 'id']"
   ]
  },
  {
   "cell_type": "markdown",
   "id": "b242c477-0656-401d-9d98-ebe450c49640",
   "metadata": {},
   "source": [
    "### Implemento \"last\" como la media de los lags disponibles de las columnas elegidas "
   ]
  },
  {
   "cell_type": "code",
   "execution_count": 87,
   "id": "5f259471-33fa-4ebb-babf-4684048ee84d",
   "metadata": {},
   "outputs": [],
   "source": [
    "columnas_last=[]\n",
    "columnas=['energy_star_rating','heating_degree_days','cooling_degree_days','avg_temp','site_eui']\n",
    "for columna in columnas:\n",
    "    columnas_last.append(columna+'_last')"
   ]
  },
  {
   "cell_type": "code",
   "execution_count": 88,
   "id": "bc70f0c4-0805-42e9-9a79-d6b0690886a3",
   "metadata": {},
   "outputs": [
    {
     "data": {
      "text/plain": [
       "['energy_star_rating_last',\n",
       " 'heating_degree_days_last',\n",
       " 'cooling_degree_days_last',\n",
       " 'avg_temp_last',\n",
       " 'site_eui_last']"
      ]
     },
     "execution_count": 88,
     "metadata": {},
     "output_type": "execute_result"
    }
   ],
   "source": [
    "columnas_last"
   ]
  },
  {
   "cell_type": "code",
   "execution_count": 89,
   "id": "894b30b4-4ad8-447e-ba3e-1333ff3a6e17",
   "metadata": {},
   "outputs": [],
   "source": [
    "features_selected=columnas_originales+columnas_last"
   ]
  },
  {
   "cell_type": "markdown",
   "id": "2c458e13-822f-4bc5-a417-e33496ee8e26",
   "metadata": {},
   "source": [
    "# 4. Modelos"
   ]
  },
  {
   "cell_type": "markdown",
   "id": "9e301f88-2fb5-47e6-8330-2b63569d47d6",
   "metadata": {},
   "source": [
    "### Modelo 1 - Sin CV, default params -> Kaggle score: "
   ]
  },
  {
   "cell_type": "code",
   "execution_count": null,
   "id": "5700d8b6-d72c-4bee-982d-e73562e27622",
   "metadata": {},
   "outputs": [],
   "source": [
    "X_train=train[features_selected]\n",
    "X_train = X_train.drop(['site_eui','id'],axis=1)\n",
    "cat_features = list(X_train.select_dtypes(include=['object']).columns)\n",
    "print(cat_features)\n",
    "y = train.site_eui\n",
    "y\n",
    "\n",
    "X_test=test[features_selected]\n",
    "X_test = X_test.drop(['id','site_eui'], axis=1)"
   ]
  },
  {
   "cell_type": "code",
   "execution_count": 99,
   "id": "ed1b1bde-fc2d-4d96-9321-ef508b4d00e6",
   "metadata": {},
   "outputs": [
    {
     "name": "stdout",
     "output_type": "stream",
     "text": [
      "Learning rate set to 0.08112\n",
      "0:\tlearn: 56.2363964\ttotal: 72.8ms\tremaining: 1m 12s\n",
      "100:\tlearn: 35.3691539\ttotal: 5.96s\tremaining: 53s\n",
      "200:\tlearn: 34.1943811\ttotal: 11.5s\tremaining: 45.6s\n",
      "300:\tlearn: 33.3254017\ttotal: 17.1s\tremaining: 39.7s\n",
      "400:\tlearn: 32.1028016\ttotal: 22.8s\tremaining: 34.1s\n",
      "500:\tlearn: 31.3548828\ttotal: 28.6s\tremaining: 28.4s\n",
      "600:\tlearn: 30.7184984\ttotal: 34.3s\tremaining: 22.8s\n",
      "700:\tlearn: 30.0696465\ttotal: 40s\tremaining: 17.1s\n",
      "800:\tlearn: 29.7028453\ttotal: 45.6s\tremaining: 11.3s\n",
      "900:\tlearn: 28.9899677\ttotal: 51.4s\tremaining: 5.65s\n",
      "999:\tlearn: 28.5385542\ttotal: 57s\tremaining: 0us\n"
     ]
    },
    {
     "data": {
      "text/plain": [
       "<catboost.core.CatBoostRegressor at 0x24d017ca820>"
      ]
     },
     "execution_count": 99,
     "metadata": {},
     "output_type": "execute_result"
    }
   ],
   "source": [
    "model_1 = CatBoostRegressor(cat_features = cat_features,verbose = 100, max_ctr_complexity = 6) #\n",
    "model_1.fit(X_train,y)"
   ]
  },
  {
   "cell_type": "code",
   "execution_count": 100,
   "id": "34849d14-b6c3-4ec6-a2f4-f4c520e21799",
   "metadata": {},
   "outputs": [],
   "source": [
    "y_predict=model_1.predict(X_test)\n",
    "y_predict[y_predict<0]=1\n",
    "submit['site_eui'] = y_predict\n",
    "submit.to_csv('model_1_last.csv',index=False)"
   ]
  },
  {
   "cell_type": "code",
   "execution_count": 101,
   "id": "6a048417-ebe9-4a2a-a5e2-ce17c8bb4269",
   "metadata": {},
   "outputs": [
    {
     "data": {
      "image/png": "[encoded data removed]",
      "text/plain": [
       "<Figure size 576x360 with 1 Axes>"
      ]
     },
     "metadata": {
      "needs_background": "light"
     },
     "output_type": "display_data"
    }
   ],
   "source": [
    "df_feature_importance = pd.DataFrame(model_1.get_feature_importance(prettified=True))\n",
    "plt.figure(figsize=(8, 5));\n",
    "feature_plot= sns.barplot(x=\"Importances\", y=\"Feature Id\", data=df_feature_importance[:30],palette=\"cool\");\n",
    "plt.title('features importance');"
   ]
  },
  {
   "cell_type": "markdown",
   "id": "1f4d0835-ce8f-4b84-8c82-fa8740ed0b80",
   "metadata": {},
   "source": [
    "## Modelo 2 - CV-modificado -> Kaggle Score: 21.751\n",
    "\n",
    "+ Se hacen 3 CV sólo del año 6 (para que sea un 10% de train)\n",
    "+ Solo se valida con datos del año 6\n",
    "+ Los 3 usan los mismos datos del año 1 al 5 "
   ]
  },
  {
   "cell_type": "code",
   "execution_count": 102,
   "id": "c07d72ca-a403-4198-ab77-b3679ea7f4a1",
   "metadata": {},
   "outputs": [],
   "source": [
    "def get_model():\n",
    "    cat_params = {\n",
    "        'iterations': 10000,\n",
    "        'learning_rate': 0.025,\n",
    "        'od_wait': 1000,\n",
    "        'depth': 8,\n",
    "        #'task_type' : 'GPU',\n",
    "        #'devices' : '0',\n",
    "        'verbose' : 1000,\n",
    "        \"objective\": \"RMSE\",\n",
    "        \"loss_function\": \"RMSE\",\n",
    "        \"cat_features\" : cat_features\n",
    "    }\n",
    "    model =  CatBoostRegressor(**cat_params)\n",
    "    return model"
   ]
  },
  {
   "cell_type": "code",
   "execution_count": 103,
   "id": "abdbc77b-c2c2-4ed4-8283-ef181218e72a",
   "metadata": {},
   "outputs": [
    {
     "name": "stdout",
     "output_type": "stream",
     "text": [
      "['State_Factor', 'building_class', 'facility_type', 'floor_area', 'year_built']\n"
     ]
    }
   ],
   "source": [
    "X_train=train[features_selected]\n",
    "X_train6=X_train[X_train.Year_Factor==6]\n",
    "X_train1_5=X_train[X_train.Year_Factor<6]\n",
    "\n",
    "X_train = X_train.drop(['site_eui','id'],axis=1)\n",
    "cat_features= list(X_train.select_dtypes(include=['object']).columns)\n",
    "print(cat_features)\n",
    "y = train.site_eui\n",
    "y\n",
    "y6=X_train6.site_eui\n",
    "y1_5=X_train1_5.site_eui\n",
    "X_train6 = X_train6.drop(['site_eui','id'],axis=1)\n",
    "X_train1_5 = X_train1_5.drop(['site_eui','id'],axis=1)"
   ]
  },
  {
   "cell_type": "code",
   "execution_count": 104,
   "id": "a2e32049-6dd1-4994-af12-673a442e3a42",
   "metadata": {},
   "outputs": [
    {
     "name": "stdout",
     "output_type": "stream",
     "text": [
      "0:\tlearn: 57.5381355\ttest: 57.9894503\tbest: 57.9894503 (0)\ttotal: 99.7ms\tremaining: 16m 37s\n",
      "1000:\tlearn: 28.3633307\ttest: 32.3748849\tbest: 32.3618709 (904)\ttotal: 1m 27s\tremaining: 13m 2s\n",
      "Stopped by overfitting detector  (1000 iterations wait)\n",
      "\n",
      "bestTest = 32.36187087\n",
      "bestIteration = 904\n",
      "\n",
      "Shrink model to first 905 iterations.\n",
      "0:\tlearn: 57.7501635\ttest: 55.9643898\tbest: 55.9643898 (0)\ttotal: 89.4ms\tremaining: 14m 54s\n",
      "1000:\tlearn: 29.5823404\ttest: 31.7407653\tbest: 31.7391899 (990)\ttotal: 1m 18s\tremaining: 11m 45s\n",
      "2000:\tlearn: 25.4053099\ttest: 31.8392989\tbest: 31.6056832 (1352)\ttotal: 2m 41s\tremaining: 10m 44s\n",
      "Stopped by overfitting detector  (1000 iterations wait)\n",
      "\n",
      "bestTest = 31.60568317\n",
      "bestIteration = 1352\n",
      "\n",
      "Shrink model to first 1353 iterations.\n",
      "0:\tlearn: 57.8652521\ttest: 54.9311985\tbest: 54.9311985 (0)\ttotal: 77.1ms\tremaining: 12m 51s\n",
      "1000:\tlearn: 29.6655467\ttest: 27.4230665\tbest: 27.4093967 (835)\ttotal: 1m 20s\tremaining: 12m 5s\n",
      "2000:\tlearn: 26.0022589\ttest: 27.4704901\tbest: 27.3671477 (1146)\ttotal: 2m 48s\tremaining: 11m 14s\n",
      "Stopped by overfitting detector  (1000 iterations wait)\n",
      "\n",
      "bestTest = 27.36714768\n",
      "bestIteration = 1146\n",
      "\n",
      "Shrink model to first 1147 iterations.\n"
     ]
    }
   ],
   "source": [
    "from sklearn import model_selection\n",
    "kfold = model_selection.KFold(3, shuffle=True, random_state=1)\n",
    "models = []\n",
    "\n",
    "for train_indices, val_indices in kfold.split(X_train6):\n",
    "    X_train_cv6 = X_train6.iloc[train_indices]\n",
    "    X_train_cv=pd.concat([X_train1_5,X_train_cv6])\n",
    "    y_train_cv = pd.concat([y1_5,y6.iloc[train_indices]])\n",
    "    X_val_cv = X_train6.iloc[val_indices]\n",
    "    y_val_cv = y6.iloc[val_indices]\n",
    "    model = get_model()\n",
    "    model.fit(X_train_cv, y_train_cv, eval_set=(X_val_cv, y_val_cv))\n",
    "    models.append(model)"
   ]
  },
  {
   "cell_type": "code",
   "execution_count": 105,
   "id": "80e6fd8d-e458-41e5-95de-5477efa33482",
   "metadata": {},
   "outputs": [],
   "source": [
    "X_test=test\n",
    "X_test=X_test[features_selected]\n",
    "X_test = X_test.drop(['id','site_eui'], axis=1)\n",
    "\n",
    "y_predict=np.median([model.predict(X_test) for model in models], axis=0)\n",
    "y_predict[y_predict<0]=1"
   ]
  },
  {
   "cell_type": "code",
   "execution_count": 106,
   "id": "b8260412-a769-4301-b307-cadf8571b73f",
   "metadata": {},
   "outputs": [
    {
     "data": {
      "text/html": [
       "<div>\n",
       "<style scoped>\n",
       "    .dataframe tbody tr th:only-of-type {\n",
       "        vertical-align: middle;\n",
       "    }\n",
       "\n",
       "    .dataframe tbody tr th {\n",
       "        vertical-align: top;\n",
       "    }\n",
       "\n",
       "    .dataframe thead th {\n",
       "        text-align: right;\n",
       "    }\n",
       "</style>\n",
       "<table border=\"1\" class=\"dataframe\">\n",
       "  <thead>\n",
       "    <tr style=\"text-align: right;\">\n",
       "      <th></th>\n",
       "      <th>id</th>\n",
       "      <th>site_eui</th>\n",
       "    </tr>\n",
       "  </thead>\n",
       "  <tbody>\n",
       "    <tr>\n",
       "      <th>0</th>\n",
       "      <td>75757</td>\n",
       "      <td>139.231244</td>\n",
       "    </tr>\n",
       "    <tr>\n",
       "      <th>1</th>\n",
       "      <td>75758</td>\n",
       "      <td>270.017665</td>\n",
       "    </tr>\n",
       "    <tr>\n",
       "      <th>2</th>\n",
       "      <td>75759</td>\n",
       "      <td>183.324403</td>\n",
       "    </tr>\n",
       "    <tr>\n",
       "      <th>3</th>\n",
       "      <td>75760</td>\n",
       "      <td>260.300626</td>\n",
       "    </tr>\n",
       "    <tr>\n",
       "      <th>4</th>\n",
       "      <td>75761</td>\n",
       "      <td>251.492003</td>\n",
       "    </tr>\n",
       "  </tbody>\n",
       "</table>\n",
       "</div>"
      ],
      "text/plain": [
       "      id    site_eui\n",
       "0  75757  139.231244\n",
       "1  75758  270.017665\n",
       "2  75759  183.324403\n",
       "3  75760  260.300626\n",
       "4  75761  251.492003"
      ]
     },
     "execution_count": 106,
     "metadata": {},
     "output_type": "execute_result"
    }
   ],
   "source": [
    "submit['site_eui'] = y_predict\n",
    "submit.to_csv('modelo_cv_3_2.csv',index=False)\n",
    "submit.head()\n",
    "#38.465"
   ]
  }
 ],
 "metadata": {
  "kernelspec": {
   "display_name": "Python 3 (ipykernel)",
   "language": "python",
   "name": "python3"
  },
  "language_info": {
   "codemirror_mode": {
    "name": "ipython",
    "version": 3
   },
   "file_extension": ".py",
   "mimetype": "text/x-python",
   "name": "python",
   "nbconvert_exporter": "python",
   "pygments_lexer": "ipython3",
   "version": "3.9.7"
  }
 },
 "nbformat": 4,
 "nbformat_minor": 5
}
